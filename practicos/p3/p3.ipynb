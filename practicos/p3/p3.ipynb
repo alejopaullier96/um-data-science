{
 "cells": [
  {
   "cell_type": "markdown",
   "metadata": {},
   "source": [
    "</center><img src=\"https://www3.um.edu.uy/logoum.jpg\" width=300></center>\n",
    "<h1 align=\"center\">Introducción a la Ciencia de Datos</h1>\n",
    "<h2 align=\"center\"> <font color='gray'>Práctico 3: Visualizaciones no tradicionales</font></h2>\n",
    "<center><img src=\"images/charts.jpg\" width=700></center>"
   ]
  },
  {
   "cell_type": "markdown",
   "metadata": {},
   "source": [
    "### <b><span style='color:#F1A424'>Tabla de contenidos</span></b> <a class='anchor' id='top'></a>\n",
    "<b></b>\n",
    "<div style=\" background-color:#3b3745; padding: 13px 13px; border-radius: 8px; color: white\">\n",
    "<li> <a href=\"#0\">Importe las librerías necesarias</a></li>\n",
    "<li> <a href=\"#1\">Word cloud (*)</a></li>\n",
    "<li><a href=\"#2\">Word cloud con masks (***)</a></li>\n",
    "<li><a href=\"#3\">Venn diagrams (**)</a></li>\n",
    "<li><a href=\"#4\">Diagrama radial (***)</a></li>\n",
    "<li><a href=\"#5\">Diagramas de Sankey (*)</a></li>\n",
    "<li><a href=\"#6\">Bullet graph (**)</a></li>\n",
    "<li><a href=\"#7\">Geographical maps (**)</a></li>\n",
    "<li><a href=\"#8\">Stacked bars (***)</a></li>\n",
    "<li><a href=\"#9\">Lollipop graph (**)</a></li>\n",
    "<li><a href=\"#10\">Dot plot (**)</a></li>\n",
    "<li><a href=\"#11\">Area graph (***)</a></li>\n",
    "</div>\n",
    "    \n",
    "Al finalizar el práctico usted aprenderá:\n",
    "- Mapas relacionados a Natural Language Processing (Word clouds).\n",
    "- Mapas relacionados a matemática y estadística (Venn Diagrams).\n",
    "- Mapas relacionados a rendimientos (Radial Diagram).\n",
    "- Mapas relacionados a ingeniería de procesos industriales (Sankey Diagram).\n",
    "- Mapas geográficos.\n",
    "- Mapas comparativos.\n",
    "    \n",
    "<div class=\"alert alert-block alert-warning\">  \n",
    "    <b>Nota:</b> A lo largo del práctico usted notará asteriscos (*) al lado de cada ejercicio. Estos indican el nivel de dificultad. Se sugiere realizar el trabajo en conjunto y no por separado.\n",
    "</div>"
   ]
  },
  {
   "cell_type": "markdown",
   "metadata": {},
   "source": [
    "# <b>0 <span style='color:#F1A424'>|</span> Importe las librerías necesarias</b><a class='anchor' id='0'></a> [↑](#top)\n",
    "\n",
    "***"
   ]
  },
  {
   "cell_type": "code",
   "execution_count": 1,
   "metadata": {},
   "outputs": [],
   "source": [
    "import json\n",
    "import matplotlib.pyplot as plt\n",
    "import numpy as np\n",
    "import os\n",
    "import pandas as pd\n",
    "import plotly.express as px\n",
    "import regex as re\n",
    "import seaborn as sns\n",
    "\n",
    "from IPython.display import Image as im\n",
    "from math import pi\n",
    "from matplotlib.sankey import Sankey\n",
    "from matplotlib_venn import venn3, venn3_circles\n",
    "from PIL import Image\n",
    "from wordcloud import WordCloud, STOPWORDS, ImageColorGenerator"
   ]
  },
  {
   "cell_type": "markdown",
   "metadata": {},
   "source": [
    "# <b>1 <span style='color:#F1A424'>|</span> Word cloud (*)</b><a class='anchor' id='1'></a> [↑](#top)\n",
    "\n",
    "***\n",
    "    \n",
    "Los Word clouds son frecuentemente utilizados para visualizar las palabras más utilizadas en un corpus (lista de textos). Es una gran herramienta visual para analizar sentimientos, reviews y tweets (entre otros) y así obtener información vital de nuestros datos.\n",
    "    \n",
    "En el siguiente ejemplo usted analizará cuáles son las palabras más frecuentemente utilizadas por integrantes del partido republicano y democrático. Analizará aproximadamente 86k tweets y visualizará las palabras usando la librería [wordcloud](https://amueller.github.io/word_cloud/index.html).\n",
    "\n",
    "Para esto:\n",
    "- Cargue el archivo CSV que contiene los tweets y divida el dataframe en dos: uno llamado \"republicans\" que contiene los tweets republicanos y otro \"democrats\" que contiene los tweets demócratas.\n",
    "- En la celda siguiente se le proporciona un código de pre-procesamiento de lenguaje natural (un tema de este curso que usted verá más adelante). No tiene por qué entender este código, simplemente usted debe ingresar una lista que contiene los tweets y este código le devolverá una lista con las palabras utilizadas en todos los tweets del dataframe para cada partido político. La celda incluye comentarios en caso de que usted quiera comprender este pre-procesamiento.\n",
    "- Básese en el siguiente [ejemplo](https://amueller.github.io/word_cloud/auto_examples/simple.html)\n",
    "- En el ejemplo provisto el archivo llamado \"text\" equivale a nuestras listas de palabras.\n",
    "- Configure los [parámetros](https://amueller.github.io/word_cloud/generated/wordcloud.WordCloud.html#wordcloud.WordCloud) del WordCloud de tal forma que: \n",
    "    1. El fondo sea blanco.\n",
    "    2. La cantidad de palabras este limitada a 1000.\n",
    "    3. El colormap sea 'Reds' para republicanos y 'Blues' para demócratas.\n",
    "- Ajuste `figsize` a (12, 8) y añádale un título.\n",
    "\n",
    "Sus gráficas deberían verse similares a las siguientes:\n",
    "<table><tr>\n",
    "<td> <img src=\"images/1a.png\" alt=\"Drawing\" style=\"width: 400px;\"/> </td>\n",
    "<td> <img src=\"images/1b.png\" alt=\"Drawing\" style=\"width: 400px;\"/> </td>\n",
    "</tr></table>"
   ]
  },
  {
   "cell_type": "code",
   "execution_count": 6,
   "metadata": {},
   "outputs": [],
   "source": [
    "tweets = pd.read_csv('./data/tweets.csv', sep= ',')\n",
    "STOPWORDS.update(['amp','today','day','new','thank','morning','year','will','week','bill'])"
   ]
  },
  {
   "cell_type": "code",
   "execution_count": null,
   "metadata": {},
   "outputs": [],
   "source": [
    "republican_tweets =  # ingrese aquí la lista de tweets\n",
    "raw_string = ''.join(republican_tweets) # join tweets\n",
    "no_links = re.sub(r'http\\S+', '', raw_string) # sustituir HTTP\n",
    "no_unicode = re.sub(r\"\\\\[a-z][a-z]?[0-9]+\", '', no_links) # sustituir unicode\n",
    "no_special_characters = re.sub('[^A-Za-z ]+', '', no_unicode) # sustituir caracteres especiales\n",
    "words = no_special_characters.split(\" \") # split \n",
    "words = [w for w in words if len(w) > 2]  # ignorar short words\n",
    "words = [w.lower() for w in words] # hacer lowercase\n",
    "republican_words = [w for w in words if w not in STOPWORDS] # quitar stop words\n",
    "\n",
    "democrat_tweets =  # ingrese aqui la lista de tweets\n",
    "raw_string = ''.join(democrat_tweets)\n",
    "no_links = re.sub(r'http\\S+', '', raw_string)\n",
    "no_unicode = re.sub(r\"\\\\[a-z][a-z]?[0-9]+\", '', no_links)\n",
    "no_special_characters = re.sub('[^A-Za-z ]+', '', no_unicode)\n",
    "words = no_special_characters.split(\" \")\n",
    "words = [w for w in words if len(w) > 2]\n",
    "words = [w.lower() for w in words]\n",
    "democrat_words = [w for w in words if w not in STOPWORDS]"
   ]
  },
  {
   "cell_type": "code",
   "execution_count": null,
   "metadata": {},
   "outputs": [],
   "source": []
  },
  {
   "cell_type": "markdown",
   "metadata": {},
   "source": [
    "# <b>2 <span style='color:#F1A424'>|</span> Word cloud con masks (***)</b><a class='anchor' id='2'></a> [↑](#top)\n",
    "\n",
    "***\n",
    "\n",
    "Para hacer los WordClouds más visualmente atractivos podemos agregarles **masks**. Una mask es una imagen (puede ser negra o a color y generalmente con fondo blanco o negro) la cual le proporciona el contorno que adopta la WordCloud.\n",
    "\n",
    "En este ejercicio, usted cargará dos imágenes: \"rep_mask.png\" y \"dem_mask.png\", las cuales contienen los logos a color de cada partido político. Estas servirán para el contorno y color de la WordCloud.\n",
    "\n",
    "Para realizar el ejercicio:\n",
    "- Cargue las masks basándose en el siguiente [ejemplo](https://amueller.github.io/word_cloud/auto_examples/masked.html). Configure `contour_width` = 3, `contour_color`='black' y que la cantidad de palabras sea 200.\n",
    "- Básese en este [ejemplo](https://amueller.github.io/word_cloud/auto_examples/colored.html) para colorear la imagen en base a los colores de la imagen.\n",
    "- Ajuste el figsize a (15,12) y añádale un título.\n",
    "\n",
    "Sus gráficas deberían verse similares a las siguientes:\n",
    "<table><tr>\n",
    "<td> <img src=\"images/2i.png\" alt=\"Drawing\" style=\"width: 400px;\"/> </td>\n",
    "<td> <img src=\"images/2ii.png\" alt=\"Drawing\" style=\"width: 400px;\"/> </td>\n",
    "</tr></table>"
   ]
  },
  {
   "cell_type": "code",
   "execution_count": null,
   "metadata": {},
   "outputs": [],
   "source": []
  },
  {
   "cell_type": "markdown",
   "metadata": {},
   "source": [
    "# <b>3 <span style='color:#F1A424'>|</span> Venn diagrams (**)</b><a class='anchor' id='3'></a> [↑](#top)\n",
    "\n",
    "***\n",
    "\n",
    "Los diagramas de Venn son muy usados para representar grupos que se intersectan. Nos permite visualizar niveles de jerarquía, intersecciones de conjuntos y subgrupos. \n",
    "\n",
    "Reproduzca el siguiente [diagrama](https://1.bp.blogspot.com/-ju4m6PBOrgo/V-E5qz99SaI/AAAAAAAAMF0/gle0zsZz_nIBEMVg0EdZHoGJhjlnBzv1gCLcB/s1600/moz-screenshot-3-729576.png) sin tener en cuenta el círculo más externo (el que dice Data Science).\n",
    "- Instale la librería [matplotlib-venn](https://pypi.org/project/matplotlib-venn/). Hágalo mediante pip, no use easy-install.\n",
    "- En la celda siguiente se le proporciona un ejemplo sencillo.\n",
    "- Como `matplotlib-venn` solo acepta valores numéricos no interesa como esté relleno (puede rellenarlo con unos). Para que aparezcan las labels que nos importan debe usar el comando `v.get_label_by_id().set_text()`. Por ejemplo, si quisiésemos que la label \"Computer Science\" aparezca en el círculo rojo sería: `v.get_label_by_id('100').set_text('Computer Science')`.\n",
    "- Deberá determinar qué ids se mapean con qué posiciones dentro del diagrama.\n",
    "- Puede ser de utilidad mirar los ejemplos de la librería original.\n",
    "- Configure `figsize` a (15,10). Añadale un título a la gráfica.\n",
    "\n",
    "Su gráfica debería verse similar a la siguiente: \n",
    "</center><img src=\"images/3.png\" width=400></center>"
   ]
  },
  {
   "cell_type": "code",
   "execution_count": null,
   "metadata": {},
   "outputs": [],
   "source": [
    "v = venn3(subsets = (20, 10, 12, 10, 9, 4, 3), set_labels = ('Group A', 'Group B', 'Group C'), alpha = 0.5)\n",
    "v.get_label_by_id('10').set_text('a')"
   ]
  },
  {
   "cell_type": "code",
   "execution_count": null,
   "metadata": {},
   "outputs": [],
   "source": []
  },
  {
   "cell_type": "markdown",
   "metadata": {},
   "source": [
    "# <b>4 <span style='color:#F1A424'>|</span> Diagrama radial (***)</b><a class='anchor' id='4'></a> [↑](#top)\n",
    "\n",
    "***\n",
    "\n",
    "Los diagramas radiales nos permiten visualizar el área formada por datos multivariantes y medir rendimientos . Éstos gráficos son utilizados en los más diversos rubros como la psicología, el diseño de hardware, contabilidad, etc.\n",
    "\n",
    "A continuación usted deberá evaluar los gastos semestrales de una empresa, la cual se le proporcionan sus datos en la celda siguiente:\n",
    "\n",
    "- Corra la siguiente celda para cargar el dataframe.\n",
    "- Para realizar la gráfica básese fuertemente en el siguiente [ejemplo](https://python-graph-gallery.com/391-radar-chart-with-several-individuals/). Casi no deberá modificar el código provisto en el mismo.\n",
    "- Ajuste los ticks y labels para mostrar todo el rango de valores.\n",
    "- Agréguele `pad` a los ticks para que las labels con los nombres de los distintos rubros no se superpongan con la gráfica. **Tip:** use [plt.tick_params()](https://matplotlib.org/3.1.1/api/_as_gen/matplotlib.pyplot.tick_params.html).\n",
    "- Configure `figsize` = (12, 8)\n",
    "- Añádale un título a la gráfica.\n",
    "- Agréguele `pad` al título.\n",
    "\n",
    "Su gráfica debería verse similar a la siguiente: \n",
    "</center><img src=\"images/4.png\" width=400></center>"
   ]
  },
  {
   "cell_type": "code",
   "execution_count": null,
   "metadata": {},
   "outputs": [],
   "source": [
    "# Datos de la empresa\n",
    "df = pd.DataFrame({\n",
    "'group': ['1er semestre','2do semestre'],\n",
    "'Ventas': [31, 28],\n",
    "'Marketing': [39, 19],\n",
    "'Administración': [18, 27],\n",
    "'Desarrollo': [7, 35],\n",
    "'Atención al cliente': [12, 43],\n",
    "'Ingeniería': [47, 40]\n",
    "})\n",
    "df.head()"
   ]
  },
  {
   "cell_type": "code",
   "execution_count": null,
   "metadata": {},
   "outputs": [],
   "source": []
  },
  {
   "cell_type": "markdown",
   "metadata": {},
   "source": [
    "# <b>5 <span style='color:#F1A424'>|</span> Diagramas de Sankey (*)</b><a class='anchor' id='5'></a> [↑](#top)\n",
    "\n",
    "***\n",
    "\n",
    "En clase ha visto los diagramas de Sankey. Éstos son utilizados para diagramar flujos tanto de dinero (empresas) como de energía (industrias). Son diagramas muy utilizados en contabilidad y termodinámica de procesos energéticos.\n",
    "\n",
    "Una empresa ha lanzado un producto. Inicialmente el 100% de la financiación proviene:\n",
    "- 70% de la inversión inicial.\n",
    "- 20% de inversores extranjeros.\n",
    "- 10% de financiación estatal.\n",
    "\n",
    "Luego se gasta dinero en el proceso de desarrollo del producto. Los porcentajes de dinero son respecto al capital inicial. A fin de año el balance es negativo:\n",
    "- 40% gasto en desarrollo.\n",
    "- 20% gasto en investigación.\n",
    "- 30% gasto en testing del producto.\n",
    "- 25% gasto en marketing y lanzamiento del producto al mercado.\n",
    "\n",
    "Grafique un diagrama de Sankey para el flujo de dinero en el desarrollo del producto:\n",
    "- Básese en el siguiente [ejemplo](https://python-graph-gallery.com/220-sankey-diagram-with-matplotlib/) para entender como realizar el diagrama.\n",
    "- Configure `figsize` = (15,8).\n",
    "- Añádale un título a la gráfica.\n",
    "- Apáguele el `axis` a la gráfica.\n",
    "- Las labels deben estar no superpuestas con el diagrama. Puede usar `.texts[].set_position(xy=(,))`.\n",
    "\n",
    "Su gráfica debería verse similar a la siguiente: \n",
    "</center><img src=\"images/5.png\" width=600></center>"
   ]
  },
  {
   "cell_type": "code",
   "execution_count": null,
   "metadata": {},
   "outputs": [],
   "source": []
  },
  {
   "cell_type": "markdown",
   "metadata": {},
   "source": [
    "# <b>6 <span style='color:#F1A424'>|</span> Bullet graph (**)</b><a class='anchor' id='6'></a> [↑](#top)\n",
    "\n",
    "***\n",
    "\n",
    "En clase ha visto los bullet graphs. Éstos son utilizados para comparar performances relativas, hacer benchmarkings y visualizar rangos de aceptabilidad de performance.\n",
    "\n",
    "Reproduzca el ejemplo visto en clase. Para esto:\n",
    "- Se le proporciona a continuación en la siguiente celda una función hecha por [Chriss Moffit](https://pbpython.com/bullet-graph.html). No tiene que entender la función sino leer los comentarios en rojo para entender sus parámetros. También al final de la celda se le proporciona un ejemplo que le aclarará mejor su uso.\n",
    "- Se le proporcionan los 5 datos del gráfico que deberá reproducir.\n",
    "- Deberá graficar 5 bulletgraphs, uno para cada set de datos.\n",
    "- Use axis label para configurar las unidades.\n",
    "- Cambie el target color de manera que la barra sea negra.\n",
    "- Averigüe acerca de las **seaborn palettes**. Las mismas le servirán para que el color sea un gris dégradé.\n",
    "- Configure el parámetro limits para establecer los distintos niveles de aceptabilidad.\n",
    "\n",
    "Su gráfica debería verse similar a la siguiente:\n",
    "</center><img src=\"images/6.png\" width=600></center>"
   ]
  },
  {
   "cell_type": "code",
   "execution_count": 2,
   "metadata": {},
   "outputs": [
    {
     "data": {
      "image/png": "[encoded data removed]",
      "text/plain": [
       "<Figure size 576x360 with 5 Axes>"
      ]
     },
     "metadata": {
      "needs_background": "light"
     },
     "output_type": "display_data"
    }
   ],
   "source": [
    "def bulletgraph(data=None, limits=None, labels=None, axis_label=None, title=None,\n",
    "                size=(5, 3), palette=None, formatter=None, target_color=\"gray\",\n",
    "                bar_color=\"black\", label_color=\"gray\"):\n",
    "    \"\"\" Build out a bullet graph image\n",
    "        Args:\n",
    "            data = List of labels, measures and targets\n",
    "            limits = list of range valules\n",
    "            labels = list of descriptions of the limit ranges\n",
    "            axis_label = string describing x axis\n",
    "            title = string title of plot\n",
    "            size = tuple for plot size\n",
    "            palette = a seaborn palette\n",
    "            formatter = matplotlib formatter object for x axis\n",
    "            target_color = color string for the target line\n",
    "            bar_color = color string for the small bar\n",
    "            label_color = color string for the limit label text\n",
    "        Returns:\n",
    "            a matplotlib figure\n",
    "    \"\"\"\n",
    "    # Determine the max value for adjusting the bar height\n",
    "    # Dividing by 10 seems to work pretty well\n",
    "    h = limits[-1] / 10\n",
    "\n",
    "    # Use the green palette as a sensible default\n",
    "    if palette is None:\n",
    "        palette = sns.light_palette(\"green\", len(limits), reverse=False)\n",
    "\n",
    "    # Must be able to handle one or many data sets via multiple subplots\n",
    "    if len(data) == 1:\n",
    "        fig, ax = plt.subplots(figsize=size, sharex=True)\n",
    "    else:\n",
    "        fig, axarr = plt.subplots(len(data), figsize=size, sharex=True)\n",
    "\n",
    "    # Add each bullet graph bar to a subplot\n",
    "    for idx, item in enumerate(data):\n",
    "\n",
    "        # Get the axis from the array of axes returned when the plot is created\n",
    "        if len(data) > 1:\n",
    "            ax = axarr[idx]\n",
    "\n",
    "        # Formatting to get rid of extra marking clutter\n",
    "        ax.set_aspect('equal')\n",
    "        ax.set_yticklabels([item[0]])\n",
    "        ax.set_yticks([1])\n",
    "        ax.spines['bottom'].set_visible(False)\n",
    "        ax.spines['top'].set_visible(False)\n",
    "        ax.spines['right'].set_visible(False)\n",
    "        ax.spines['left'].set_visible(False)\n",
    "\n",
    "        prev_limit = 0\n",
    "        for idx2, lim in enumerate(limits):\n",
    "            # Draw the bar\n",
    "            ax.barh([1], lim - prev_limit, left=prev_limit, height=h,\n",
    "                    color=palette[idx2])\n",
    "            prev_limit = lim\n",
    "        rects = ax.patches\n",
    "        # The last item in the list is the value we're measuring\n",
    "        # Draw the value we're measuring\n",
    "        ax.barh([1], item[1], height=(h / 3), color=bar_color)\n",
    "\n",
    "        # Need the ymin and max in order to make sure the target marker\n",
    "        # fits\n",
    "        ymin, ymax = ax.get_ylim()\n",
    "        ax.vlines(\n",
    "            item[2], ymin * .9, ymax * .9, linewidth=1.5, color=target_color)\n",
    "\n",
    "    # Now make some labels\n",
    "    if labels is not None:\n",
    "        for rect, label in zip(rects, labels):\n",
    "            height = rect.get_height()\n",
    "            ax.text(\n",
    "                rect.get_x() + rect.get_width() / 2,\n",
    "                -height * .4,\n",
    "                label,\n",
    "                ha='center',\n",
    "                va='bottom',\n",
    "                color=label_color)\n",
    "    if formatter:\n",
    "        ax.xaxis.set_major_formatter(formatter)\n",
    "    if axis_label:\n",
    "        ax.set_xlabel(axis_label)\n",
    "    if title:\n",
    "        fig.suptitle(title, fontsize=14)\n",
    "    fig.subplots_adjust(hspace=0)\n",
    "\n",
    "### Ejemplo:\n",
    "    \n",
    "data_to_plot2 = [(\"John Smith\", 105, 120),\n",
    "                 (\"Jane Jones\", 99, 110),\n",
    "                 (\"Fred Flintstone\", 109, 125),\n",
    "                 (\"Barney Rubble\", 135, 123),\n",
    "                 (\"Mr T\", 45, 105)]\n",
    "bulletgraph(data_to_plot2, limits=[20, 60, 100, 160],\n",
    "            labels=[\"Poor\", \"OK\", \"Good\", \"Excellent\"], size=(8,5),\n",
    "            axis_label=\"Performance Measure\", label_color=\"black\",\n",
    "            bar_color=\"#252525\", target_color='#f7f7f7',\n",
    "            title=\"Sales Rep Performance\")"
   ]
  },
  {
   "cell_type": "code",
   "execution_count": null,
   "metadata": {},
   "outputs": [],
   "source": [
    "data_1 = [(\"Revenue\", 275, 250)]\n",
    "data_2 = [(\"Profit\", 22.5, 26)]\n",
    "data_3 = [(\"Avg Order Size\", 310, 550)]\n",
    "data_4 = [(\"New customers\", 1600, 2100)]\n",
    "data_5 = [(\"Satisfaction\", 4.75, 4.6)]"
   ]
  },
  {
   "cell_type": "code",
   "execution_count": null,
   "metadata": {},
   "outputs": [],
   "source": []
  },
  {
   "cell_type": "markdown",
   "metadata": {},
   "source": [
    "# <b>7 <span style='color:#F1A424'>|</span> Geographical maps (**)</b><a class='anchor' id='7'></a> [↑](#top)\n",
    "\n",
    "***\n",
    "\n",
    "En otros prácticos ya ha visto mapas geográficos. Estos sirven para representar datos por zonas geográficas.\n",
    "\n",
    "A continuación, usted recreará un mapa geográfico de los distintos estados de la India, resaltando a color las distintas poblaciones y densidades de población por estado.\n",
    "\n",
    "Para graficar mapas se utilizan archivos GEOJSON. Un formato estandarizado para representar zonas geográficas. Los archivos GEOJSON contienen un campo \"geometry\" que contiene coordenadas geográficas que forman un polígono (área) que será graficado. Además, contiene un campo \"properties\" con metadatos de esa región, como por ejemplo: ID de la región y nombre.\n",
    "\n",
    "1. Usted graficará el mapa usando [choropleth](https://plotly.com/python/choropleth-maps/):\n",
    "    - Corra la siguiente celda para obtener el archivo GEOJSON y los datos a graficar.\n",
    "    - Grafique de tal manera que el color quede determinado por la población de los estados.\n",
    "    - El parámetro locations debe estar configurado como \"id\" para que exista un mapeo entre el dataframe y el GEOJSON.\n",
    "    - Establezca un título para la gráfica.\n",
    "\n",
    "\n",
    "2. Ahora grafique la densidad de población:\n",
    "    - El color debe ser determinado por el campo \"DensityScale\".\n",
    "    - Los parámetros `hover` (flotar en inglés) permiten mostrar datos cuando uno pasa el cursor por encima de las regiones. \n",
    "    - Configure los parámetros `hover_name` y `hover_data` de tal modo que aparezca el nombre del estado y el campo \"Density\" al pasar el cursor por encima de la gráfica.\n",
    "    - Estableza un título.\n",
    "\n",
    "**Nota:** si es de su interés puede crear sus propios mapas geográficas usando [geojson.io](https://geojson.io/#map=2/20.0/0.0)\n",
    "Su gráfica debería verse similar a la siguiente:\n",
    "</center><img src=\"images/7.png\" width=600></center>"
   ]
  },
  {
   "cell_type": "code",
   "execution_count": null,
   "metadata": {},
   "outputs": [],
   "source": [
    "import plotly.io as pio\n",
    "pio.renderers.default = 'browser'\n",
    "india_states = json.load(open(\"data.geojson\", \"r\"))\n",
    "df = pd.read_csv('india_census.csv',sep=',')"
   ]
  },
  {
   "cell_type": "code",
   "execution_count": null,
   "metadata": {},
   "outputs": [],
   "source": []
  },
  {
   "cell_type": "markdown",
   "metadata": {},
   "source": [
    "# <b>8 <span style='color:#F1A424'>|</span> Stacked bars (***)</b><a class='anchor' id='8'></a> [↑](#top)\n",
    "\n",
    "***\n",
    "\n",
    "En clase ha visto las stacked columns o stacked bars. Estas son utilizadas para representar porcentajes relativos de un total.\n",
    "\n",
    "Ha continuación se le proporcionan datos de ventas mensuales de tres empleados: Alejo, Victoria y Celeste. Usted es su manager y quiere ver el rendimiento relativo de los tres empleados y decide usar stacked columns.\n",
    "\n",
    "Para crear la gráfica:\n",
    "1. Genere una lista \"totals\" con la suma total de las ventas de cada mes.\n",
    "2. Genere tres listas, una para cada empleado, que contenga el porcentaje de ventas de cada empleado. Es decir, las ventas del empleado en ese mes dividido la cantidad de ventas de todo el mes.\n",
    "3. Utilize la función [plt.bar()](https://matplotlib.org/stable/api/_as_gen/matplotlib.pyplot.bar.html) para graficar las barras. Tendrá que utilizarla tres veces, una para cada empleado.\n",
    "4. Configure los parámetros:\n",
    "    - `label` = nombre del empleado.\n",
    "    - `width` = 0.85\n",
    "    - `edgecolor` = 'white'\n",
    "    - `color` = un color que usted quiera.\n",
    "    - `xticks` = use los xticks proporcionados en la celda siguiente.\n",
    "5. Deberá configurar el parámetro \"bottom\" (la cual es una lista) de la función plt.bar() de tal manera que la misma sea la suma cumulativa de los porcentajes relativos de los empleados. Es decir, si Alejo es el primer empleado que graficará entonces no precisará lista, luego si Victoria es la segunda empleada entonces el valor de \"bottom\" será los porcentajes de Alejo, y por último, si Celeste es la tercer empleada que grafica la lista \"bottom\" será la suma de los procentajes de Alejo y Victoria.\n",
    "6. Agregue los rótulos y el título de la gráfica.\n",
    "7. Utilize `plt.legend(bbox_to_anchor=(1.05, 1), loc='upper left')` para que la leyenda no quede dentro de la gráfica.\n",
    "\n",
    "\n",
    "Su gráfica debería verse similar a la siguiente:\n",
    "</center><img src=\"images/8.png\" width=600></center>"
   ]
  },
  {
   "cell_type": "code",
   "execution_count": null,
   "metadata": {},
   "outputs": [],
   "source": [
    "# Data\n",
    "xticks = [0,1,2,3,4]\n",
    "names = ('Enero','Febrero','Marzo','Abril','Mayo')\n",
    "raw_data = {'Alejo': [14, 20, 5, 32, 19],\n",
    "            'Victoria': [10, 20, 7, 28, 26],\n",
    "            'Celeste': [17, 15, 10, 25, 17]}\n",
    "df = pd.DataFrame(raw_data)"
   ]
  },
  {
   "cell_type": "code",
   "execution_count": null,
   "metadata": {},
   "outputs": [],
   "source": []
  },
  {
   "cell_type": "markdown",
   "metadata": {},
   "source": [
    "# <b>9 <span style='color:#F1A424'>|</span> Lollipop graph (**)</b><a class='anchor' id='9'></a> [↑](#top)\n",
    "\n",
    "***\n",
    " \n",
    "Los gráficos Lollipop son una buena alternativa a los gráficos de barras y columnas estándar. Son especialmente útiles cuando la visualización es abrumadora debido a su tinta masiva porque el lollipop centra la atención en el valor.\n",
    "\n",
    "Grafique el ejemplo visto en clase. Para eso:\n",
    "- Cargue los datos en la celda siguiente.\n",
    "- Haga dos subplots.\n",
    "- En la primer subplot grafique el lollipop graph usando la función [plt.stem()](https://matplotlib.org/stable/api/_as_gen/matplotlib.pyplot.stem.html). Esta graficará los datos verticalmente por lo que deberá rotar las xlabels.\n",
    "- En la segunda subplot grafique los lollipops usando [plt.hlines()](https://matplotlib.org/stable/api/_as_gen/matplotlib.pyplot.hlines.html) para generar  el \"palito\" del lollipop y luego [plt.scatter()](https://matplotlib.org/stable/api/_as_gen/matplotlib.pyplot.scatter.html) para generar el \"punto\" del lollipop. \n",
    "- Agregue títulos.\n",
    "\n",
    "Su gráfica debería verse similar a la siguiente:\n",
    "</center><img src=\"images/9i.png\" width=600></center>"
   ]
  },
  {
   "cell_type": "code",
   "execution_count": null,
   "metadata": {},
   "outputs": [],
   "source": [
    "df = pd.read_csv('respondents.csv',sep=',')"
   ]
  },
  {
   "cell_type": "code",
   "execution_count": null,
   "metadata": {},
   "outputs": [],
   "source": []
  },
  {
   "cell_type": "markdown",
   "metadata": {},
   "source": [
    "# <b>10 <span style='color:#F1A424'>|</span> Dot plot (**)</b><a class='anchor' id='10'></a> [↑](#top)\n",
    "\n",
    "***\n",
    "\n",
    "En clase usted ha visto los dot plots. Son útiles para mostrar diferencias entre valores de una misma variable.\n",
    "Reproduzca el ejemplo visto en clase para las diferencias porcentuales de logins de grandes compañías de software.\n",
    "\n",
    "Para esto:\n",
    "- Ejecute la celda siguiente para obtener el dataframe con los valores.\n",
    "- Cree dos listas: una con los xticks y otra con los xlabels.\n",
    "- Configure `figsize` = (12,8)\n",
    "- Utilize la función [plt.hlines()](https://matplotlib.org/api/_as_gen/matplotlib.pyplot.hlines.html) para generar los segmentos que uniran los puntos con los valores.\n",
    "- Utilize dos veces [plt.scatter()](https://matplotlib.org/stable/api/_as_gen/matplotlib.pyplot.scatter.html) para graficar los puntos con los extremos.\n",
    "- Agregue `xticks`, `xlabels`, `yticks`, `ylabels`.\n",
    "- Agregue rótulos, título y leyenda.\n",
    "- Agregue una grilla\n",
    "\n",
    "Su gráfica debería verse similar a la siguiente:\n",
    "</center><img src=\"images/10.png\" width=600></center>"
   ]
  },
  {
   "cell_type": "code",
   "execution_count": null,
   "metadata": {},
   "outputs": [],
   "source": [
    "# Create a dataframe\n",
    "value1=[0.35, 0.43, 0.06, 0.07, 0.02, 0.06]\n",
    "value2=[0.40, 0.45, 0.05, 0.04, 0.03, 0.05]\n",
    "companies = ['Google', 'Facebook', 'Twitter','Yahoo', 'LinkedIn', 'Others']\n",
    "df = pd.DataFrame({'group':companies, 'value1':value1 , 'value2':value2 })"
   ]
  },
  {
   "cell_type": "code",
   "execution_count": null,
   "metadata": {},
   "outputs": [],
   "source": []
  },
  {
   "cell_type": "markdown",
   "metadata": {},
   "source": [
    "# <b>11 <span style='color:#F1A424'>|</span> Area graph (***)</b><a class='anchor' id='11'></a> [↑](#top)\n",
    "\n",
    "***\n",
    "\n",
    "En clase ha visto las gráficas de áreas. Son gráficos apropiados cuando se quiere mostrar tendencias que representan el 100% a lo largo del tiempo. Un gráfico de área es esencialmente un gráfico de líneas, con cada segmento apilado uno encima del otro. De esta forma, muestra partes de un todo. \n",
    "\n",
    "Reproduzca el ejemplo visto en clase. Para eso:\n",
    "- Ejecute la celda siguiente para obtener los datos necesarios.\n",
    "- Configure los `xticks`, `xlabels` y colores necesarios.\n",
    "- Utilize la función [plt.stackplot()](https://matplotlib.org/3.1.1/api/_as_gen/matplotlib.pyplot.stackplot.html) para hacer el gráfico de área.\n",
    "- Haga dos for loops para anotar los textos necesarios en la gráfica. Le será de utilidad el dataframe `cumsum` que contiene la suma cumulativa de los datos del dataframe. Utilize la función [ax.annotate()](https://matplotlib.org/stable/api/_as_gen/matplotlib.axes.Axes.annotate.html) para hacer las anotaciones necesarias.\n",
    "- Remueva los bordes del gráfica usando [ax.spines()](https://matplotlib.org/stable/api/spines_api.html).\n",
    "- Configure los rótulos, la leyenda y el título.\n",
    "\n",
    "Su gráfica debería verse similar a la siguiente:\n",
    "</center><img src=\"images/11.png\" width=800></center>"
   ]
  },
  {
   "cell_type": "code",
   "execution_count": null,
   "metadata": {},
   "outputs": [],
   "source": [
    "y1=[26.8,24.97,25.69,24.07]\n",
    "y2=[21.74,19.58,20.7,21.09]\n",
    "y3=[13.1,12.45,12.75,10.79]\n",
    "y4=[9.38,8.18,8.79,6.75]\n",
    "y5=[12.1,10.13,10.76,8.03]\n",
    "y6=[4.33,3.73,3.78,3.75]\n",
    "\n",
    "df = pd.DataFrame([y1,y2,y3,y4,y5,y6])\n",
    "\n",
    "cumsum = df.cumsum()\n",
    "cumsum"
   ]
  },
  {
   "cell_type": "code",
   "execution_count": null,
   "metadata": {},
   "outputs": [],
   "source": []
  }
 ],
 "metadata": {
  "kernelspec": {
   "display_name": "Python 3 (ipykernel)",
   "language": "python",
   "name": "python3"
  },
  "language_info": {
   "codemirror_mode": {
    "name": "ipython",
    "version": 3
   },
   "file_extension": ".py",
   "mimetype": "text/x-python",
   "name": "python",
   "nbconvert_exporter": "python",
   "pygments_lexer": "ipython3",
   "version": "3.9.7"
  }
 },
 "nbformat": 4,
 "nbformat_minor": 2
}
