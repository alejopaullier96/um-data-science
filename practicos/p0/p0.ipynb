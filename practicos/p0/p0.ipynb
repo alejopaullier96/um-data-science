{
 "cells": [
  {
   "cell_type": "markdown",
   "metadata": {},
   "source": [
    "</center><img src=\"https://www3.um.edu.uy/logoum.jpg\" width=300></center>\n",
    "<h1 align=\"center\">Introducción a la Ciencia de Datos</h1>\n",
    "<h2 align=\"center\"> <font color='gray'>Práctico 0: Introducción a Jupyter y operaciones con tablas</font></h2>"
   ]
  },
  {
   "cell_type": "markdown",
   "metadata": {},
   "source": [
    "### <font color='289C4E'>Tabla de contenidos<font><a class='anchor' id='inicio'></a>\n",
    "- [Importe las librerías necesarias](#0)\n",
    "- [Leer archivos CSV (Comma Separated Value)](#1)\n",
    "- [Dimensión del dataframe](#2)\n",
    "- [Selección de columnas](#3)\n",
    "- [Establecer columna índice](#4)\n",
    "- [Conteo de datos únicos](#5)\n",
    "- [Visualizar datos únicos](#6)\n",
    "- [Determinar el tipo de datos](#7)\n",
    "- [Filtros](#8)\n",
    "- [Group by](#9)\n",
    "- [Merge](#10)\n",
    "- [Mapas geográficos](#11)\n",
    "- [Operaciones con tablas usando MovieLens 100k](#12)\n",
    "- [Timestamps](#13)\n",
    "- [Merge](#14)\n",
    "- [Manipulación de formatos de fecha](#15)\n",
    "- [Pivot](#16)\n",
    "    \n",
    "Al finalizar este práctico usted aprenderá a:\n",
    "- Manipular tablas.\n",
    "- Seleccionar distintas filas y columnas.\n",
    "- Formatear un dataframe.\n",
    "- Aplicar filtros a un dataframe.\n",
    "- Realizar operaciones con tablas con `pandas` de la misma manera que en `SQL`.\n",
    "- Manipular distintos tipos de datos (strings, integers, floats, datetime, etc)."
   ]
  },
  {
   "cell_type": "markdown",
   "metadata": {},
   "source": [
    "<a class='anchor' id='0'></a>"
   ]
  },
  {
   "cell_type": "markdown",
   "metadata": {},
   "source": [
    "### <font color='289C4E'>0) Importe las librerías necesarias<font> [↑](#inicio) "
   ]
  },
  {
   "cell_type": "code",
   "execution_count": null,
   "metadata": {},
   "outputs": [],
   "source": [
    "import datetime\n",
    "import numpy as np\n",
    "import pandas as pd \n",
    "import os\n",
    "\n",
    "import matplotlib.pyplot as plt\n",
    "%matplotlib inline"
   ]
  },
  {
   "cell_type": "markdown",
   "metadata": {},
   "source": [
    "<a class=\"anchor\" id='1'></a>"
   ]
  },
  {
   "cell_type": "markdown",
   "metadata": {},
   "source": [
    "### <font color='289C4E'>1) Leer archivos CSV (Comma Separated Value)<font> [↑](#inicio) \n",
    "A la hora de analizar datos estos pueden venir en distintos formatos como por ejemplo `.csv` (Comma Separated Value), `.xlsx` (Microsoft Excel Open XML Spreadsheet), JSON (JavaScript Object Notation), YAML (Yet Another Markup Language), etc. Es frecuente encontrar datos estructurados como CSV, donde las comas son utilizadas para separar los valores de la tabla. \n",
    "\n",
    "[Pandas](https://pandas.pydata.org/) es posiblemente una de las librerías más populares para el análisis y manipulación de datos. En este práctico estaremos utilizando esta librería para analizar los datos contenidos en nuestra tabla, manipular los mismos, crear filtros, inspeccionar, visualizar y obtener estadísticas simples de nuestros datos.\n",
    "\n",
    "- Utilize la función [pd.read_csv()](https://pandas.pydata.org/pandas-docs/stable/reference/api/pandas.read_csv.html) para leer la tabla `online_reatail.csv` en formato .csv y llámele al dataframe `online_retail`.\n",
    "- Visualize el contenido del mismo utilizando la funcion [.head()](https://pandas.pydata.org/docs/reference/api/pandas.DataFrame.head.html)"
   ]
  },
  {
   "cell_type": "code",
   "execution_count": null,
   "metadata": {},
   "outputs": [],
   "source": []
  },
  {
   "cell_type": "markdown",
   "metadata": {},
   "source": [
    "Excelente! Ya hemos leído satisfactoriamente nuestros datos y ya tenemos nuestro dataframe listo para analizar.\n",
    "\n",
    "**Observación:** Pandas también provee una función análoga a `.head()` llamada [.tail()](https://pandas.pydata.org/pandas-docs/stable/reference/api/pandas.DataFrame.tail.html). Mientras que `.head()` visualiza los *primeros N* datos, la función `.tail()` nos permite visualizar los *últimos N* datos."
   ]
  },
  {
   "cell_type": "markdown",
   "metadata": {},
   "source": [
    "<a class='anchor' id=\"2\"></a>"
   ]
  },
  {
   "cell_type": "markdown",
   "metadata": {},
   "source": [
    "### <font color='289C4E'>2) Dimensión del dataframe<font> [↑](#inicio) \n",
    "\n",
    "Frecuentemente, es de nuestro interés conocer las dimensiones de nuestro *dataframe* (DF de ahora en más). Imprima usando la función [.shape()](https://pandas.pydata.org/pandas-docs/stable/reference/api/pandas.DataFrame.shape.html) el número de filas y número de columnas del DF. "
   ]
  },
  {
   "cell_type": "code",
   "execution_count": null,
   "metadata": {},
   "outputs": [],
   "source": []
  },
  {
   "cell_type": "code",
   "execution_count": null,
   "metadata": {},
   "outputs": [],
   "source": [
    "x = 3  # cantidad de perros\n",
    "y = 1  # cantidad de gatos\n",
    "print(\"Russell tiene %s perros\" % x)\n",
    "print(\"Russell tiene %s gato\" % y)\n",
    "print(\"Russell tiene %s perros y un %s gato\" % (x,y))"
   ]
  },
  {
   "cell_type": "markdown",
   "metadata": {},
   "source": [
    "**Observación:** a la hora de usar la función `print()` se pueden pasar valores de variables para ser impresas usando formatting de la siguiente manera:\n",
    "```\n",
    "### Ejemplo:\n",
    "x = 3  # cantidad de perros\n",
    "y = 1  # cantidad de gatos\n",
    "print(\"Russell tiene %s perros\" % x)\n",
    "print(\"Russell tiene %s gato\" % y)\n",
    "print(\"Russell tiene %s perros y un %s gato\" % (x,y))\n",
    "```"
   ]
  },
  {
   "cell_type": "markdown",
   "metadata": {},
   "source": [
    "<a class='anchor' id=\"3\"></a>"
   ]
  },
  {
   "cell_type": "markdown",
   "metadata": {},
   "source": [
    "### <font color='289C4E'>3) Selección de columnas<font> [↑](#inicio) \n",
    "    \n",
    "Las columnas de un dataframe pueden ser seleccionadas de distintas formas. Pandas nos permite consultar datos de nuestro dataframe utilizando el operador de indexado [] . Además del operador genérico cuenta con dos operadores\n",
    "particulares [.iloc](https://pandas.pydata.org/pandas-docs/stable/reference/api/pandas.DataFrame.iloc.html) y [.loc](https://pandas.pydata.org/docs/reference/api/pandas.DataFrame.loc.html) . El operador `.iloc` nos permite consultar nuestra tabla por ubicación numérica (posición) de filas/columnas y el operador `.loc` nos permite consultar nuestra tabla por nombres (labels) de filas/columnas.\n",
    "   \n",
    "- Seleccione la columna `Description` utilizando la función `.loc[]`\n",
    ".- Seleccione la columna `UnitPrice` utilizando la función `.iloc[]`\n",
    "- Seleccione las columnas `StockCode` y \"Quantity\" simultáneamente usando `.loc[]`\n",
    "- Seleccione las columnas `InvoiceNo` y \"CustomerID\" simultáneamente usando `.iloc[]`\n",
    "- Seleccione la columna `Country` sin usar `.loc[]` ni `.iloc[]` (df.column_name)\n"
   ]
  },
  {
   "cell_type": "code",
   "execution_count": null,
   "metadata": {},
   "outputs": [],
   "source": []
  },
  {
   "cell_type": "markdown",
   "metadata": {},
   "source": [
    "<a class='anchor' id=\"4\"></a>"
   ]
  },
  {
   "cell_type": "markdown",
   "metadata": {},
   "source": [
    "### <font color='289C4E'>4) Establecer columna índice<font> [↑](#inicio) \n",
    "\n",
    "`pandas` nos permite seleccionar cual va a ser la columna que vamos utilizar como índice de nuestros datos. En caso de no seleccionar índice, pandas incluye un índice por defecto que va de (0:numero filas). En nuestro caso podemos utilizar la función [set_index()](https://pandas.pydata.org/docs/reference/api/pandas.DataFrame.set_index.html) para cambiar la columna `InvoiceNo` como índice de nuestra tabla a modo de prueba."
   ]
  },
  {
   "cell_type": "code",
   "execution_count": null,
   "metadata": {},
   "outputs": [],
   "source": []
  },
  {
   "cell_type": "markdown",
   "metadata": {},
   "source": [
    "Dado que la columna `InvoiceNo` no contiene valores únicos no es un buen atributo para utilizar de índice. Utilizar la función [.reset_index()](https://pandas.pydata.org/docs/reference/api/pandas.DataFrame.reset_index.html) para volver el dataframe a su estado original."
   ]
  },
  {
   "cell_type": "code",
   "execution_count": null,
   "metadata": {},
   "outputs": [],
   "source": []
  },
  {
   "cell_type": "markdown",
   "metadata": {},
   "source": [
    "<a class='anchor' id=\"5\"></a>"
   ]
  },
  {
   "cell_type": "markdown",
   "metadata": {},
   "source": [
    "### <font color='289C4E'>5) Conteo de datos únicos<font> [↑](#inicio) \n",
    "    \n",
    "Podemos conocer la cantidad de valores únicos de nuestras columnas utilizando la función [.nunique()](https://pandas.pydata.org/pandas-docs/stable/reference/api/pandas.DataFrame.nunique.html). Por qué habría de interesarnos conocer nuestros valores únicos? (Enliste al menos 3 razones)\n",
    "1. \n",
    "2. \n",
    "3. "
   ]
  },
  {
   "cell_type": "code",
   "execution_count": null,
   "metadata": {},
   "outputs": [],
   "source": []
  },
  {
   "cell_type": "markdown",
   "metadata": {},
   "source": [
    "<a class='anchor' id=\"6\"></a>"
   ]
  },
  {
   "cell_type": "markdown",
   "metadata": {},
   "source": [
    "### <font color='289C4E'>6) Visualizar datos únicos<font> [↑](#inicio) \n",
    "    \n",
    "Además de saber la cantidad de valores únicos podemos determinar cuales son los valores únicos. Utilize la función [.unique()](https://pandas.pydata.org/pandas-docs/stable/reference/api/pandas.unique.html) para determinar todos los valores únicos de la columna `Country`."
   ]
  },
  {
   "cell_type": "code",
   "execution_count": null,
   "metadata": {},
   "outputs": [],
   "source": []
  },
  {
   "cell_type": "markdown",
   "metadata": {},
   "source": [
    "<a class='anchor' id=\"7\"></a>"
   ]
  },
  {
   "cell_type": "markdown",
   "metadata": {},
   "source": [
    "### <font color='289C4E'>7) Determinar el tipo de datos<font> [↑](#inicio) \n",
    "Como hemos visto en clase, existen múltiples tipos de datos. Estos pueden ser númericos interval, numéricos ratio, categóricos nominales, categóricos ordinales, etc. \n",
    "1.  Conceptualmente, determine que tipo de dato es cada una de las columnas acorde a lo visto en el teórico. \n",
    "2. Determine el tipo de dato de cada columna usando la función [.dtypes](https://pandas.pydata.org/docs/reference/api/pandas.DataFrame.dtypes.html)\n",
    "3. Convierta la columna \"InvoiceDate\" a formato datetime usando la función [pd.to_datetime()](https://pandas.pydata.org/pandas-docs/stable/reference/api/pandas.to_datetime.html)"
   ]
  },
  {
   "cell_type": "markdown",
   "metadata": {},
   "source": [
    "- **InvoiceNo:** \n",
    "- **StockCode:**  \n",
    "- **Description:**\n",
    "- **Quantity:**\n",
    "- **InvoiceDate:**\n",
    "- **UnitPrice:**\n",
    "- **CustomerID:**\n",
    "- **Country:**"
   ]
  },
  {
   "cell_type": "code",
   "execution_count": null,
   "metadata": {},
   "outputs": [],
   "source": []
  },
  {
   "cell_type": "markdown",
   "metadata": {},
   "source": [
    "<a class='anchor' id=\"8\"></a>"
   ]
  },
  {
   "cell_type": "markdown",
   "metadata": {},
   "source": [
    "### <font color='289C4E'>8) Filtros<font> [↑](#inicio) \n",
    "Una de las operaciones más frecuentes que realizamos sobre DFs es filtrar la información acorde a ciertos parámetros de búsqueda o requisitos. Obtenga todas los registros:\n",
    "1. Cuyo país sea Holanda.\n",
    "2. De los países ['Italy', 'Belgium', 'Lithuania', 'Japan', 'Iceland'] usando una lista.\n",
    "3. De los países de la lista anterior cuya cantidad sea superior a 12.\n",
    "4. Cuyo UnitPrice sea superior a 0.3 pero igual o menor a 0.6\n",
    "5. Entre el 01/01/2010 y el 01/01/2011\n",
    "6. Cuya descripción sea \"CUTLERY CIRCUS\". (**Tip:** use la función [pd.str.contains()](https://pandas.pydata.org/pandas-docs/stable/reference/api/pandas.Series.str.contains.html))\n",
    "7. Cuyo país sea \"United Kingdom\" y \"CustomerID\" sea faltante (null). "
   ]
  },
  {
   "cell_type": "code",
   "execution_count": null,
   "metadata": {},
   "outputs": [],
   "source": []
  },
  {
   "cell_type": "markdown",
   "metadata": {},
   "source": [
    "<a class='anchor' id=\"9\"></a>"
   ]
  },
  {
   "cell_type": "markdown",
   "metadata": {},
   "source": [
    "### <font color='289C4E'>9) Group by<font> [↑](#inicio) \n",
    "Es común querer realizar funciones de agregación (SUM, COUNT, MIN, MAX, AVG) luego de agrupar por una columna o un conjunto de columnas. Documentación: \n",
    "    \n",
    "- https://pandas.pydata.org/pandas-docs/stable/reference/api/pandas.DataFrame.groupby.html\n",
    "\n",
    "\n",
    "1. Determine la cantidad total por país: agrupe por la columna `Country` y sume la columna `Quantity`.\n",
    "2. Determine el promedio mensual de la cantidad: agrupe por la columna `InvoiceDate` de manera mensual y promedie por \"Quantity\". **Tip:** pd.Grouper(key='InvoiceDate',freq='M')\n",
    "3. Ahora combinaremos nuestros conocimientos de los puntos 1 y 2. Queremos saber la cantidad total por país pero ahora mes a mes. Agrupe primero por `Country` y luego por `InvoiceDate`. Sume `Quantity`.\n",
    "4. Por último, combinemos lo que hemos aprendido de filtros con lo que hemos aprendido de agrupación. Cree un filto que filtre el campo `Description` por todos los valores que contienen la palabra 'MINI' y que además `CustomerID` no sea nulo. Luego agrupe este resultado por la columna `Country` y tome el mínimo de `UnitPrice`"
   ]
  },
  {
   "cell_type": "code",
   "execution_count": null,
   "metadata": {},
   "outputs": [],
   "source": []
  },
  {
   "cell_type": "markdown",
   "metadata": {},
   "source": [
    "<a class='anchor' id=\"10\"></a>"
   ]
  },
  {
   "cell_type": "markdown",
   "metadata": {},
   "source": [
    "### <font color='289C4E'>10) Merge<font> [↑](#inicio) \n",
    "\n",
    "Muchas veces es de nuestro interés conectar tablas mediante una columna en común. Esto sucede frecuentemente cuando trabajamos con bases de datos relacionales, donde diversas tablas están vinculadas por uno o varios campos en común llamados **clave foránea** o **foreign key**. En esta ocasión, conectaremos la tabla `online_retail` con la tabla `country_codes` para obtener el código país asociado al nombre del país. \n",
    "    \n",
    "Conecte ambas tablas usando la función [pd.merge()](https://pandas.pydata.org/pandas-docs/stable/reference/api/pandas.DataFrame.merge.html) de pandas y cree una columna nueva dentro de `online_retail` llamada `countryCode`."
   ]
  },
  {
   "cell_type": "markdown",
   "metadata": {},
   "source": [
    "##### <font color='289C4E'>10.1) Cargue el .CSV \"country_codes\" que contiene los códigos país<font>"
   ]
  },
  {
   "cell_type": "code",
   "execution_count": null,
   "metadata": {},
   "outputs": [],
   "source": []
  },
  {
   "cell_type": "markdown",
   "metadata": {},
   "source": [
    "##### <font color='289C4E'>10.2) Crea una nueva columna en la tabla \"online_retail\" que contenga el código país asociado al nombre del país<font>"
   ]
  },
  {
   "cell_type": "code",
   "execution_count": null,
   "metadata": {},
   "outputs": [],
   "source": []
  },
  {
   "cell_type": "markdown",
   "metadata": {},
   "source": [
    "<a class='anchor' id=\"11\"></a>"
   ]
  },
  {
   "cell_type": "markdown",
   "metadata": {},
   "source": [
    "### <font color='289C4E'>11) Mapas geográficos<font> [↑](#inicio)\n",
    "    \n",
    "1. Crea una nueva tabla que contenga el nombre del país, el código país y la cantidad de productos del país. Elimine los duplicados usando la función [drop_duplicates()](https://pandas.pydata.org/docs/reference/api/pandas.DataFrame.drop_duplicates.html)\n",
    "2. Elimine el país que contenga la mayor cantidad de productos.\n",
    "3. Visualize la cantidad de productos de cada país usando un mapa geográfico (opcional)\n",
    "\n",
    "[Hint](https://plotly.com/python/choropleth-maps/)"
   ]
  },
  {
   "cell_type": "code",
   "execution_count": null,
   "metadata": {},
   "outputs": [],
   "source": []
  },
  {
   "cell_type": "markdown",
   "metadata": {},
   "source": [
    "<a class='anchor' id=\"12\"></a>"
   ]
  },
  {
   "cell_type": "markdown",
   "metadata": {},
   "source": [
    "### <font color='289C4E'>12) Operaciones con tablas usando MovieLens 100k<font> [↑](#inicio) \n",
    "    \n",
    "En esta seccion utilizaremos [MovieLens 100k](https://grouplens.org/datasets/movielens/100k/), una popular base de datos de ratings de peliculas. Esta tabla contiene ratings en una escala entre 1 y 5 puntos para cada combinacion User - Movie.\n",
    "\n",
    "Asuma la siguiente situación. La tabla de ratings hasta una fecha determinada ha sido cargada. Sin embargo, en otra fecha más adelante en el futuro se han generado más registros y, en consecuencia, la tabla `ratings` ha quedado desactualizada.\n",
    "\n",
    "Asuma que la tabla `ratings_1` es la tabla original, ahora desactualizada. Concaténele la tabla `ratings_2` usando la función [pd.concat()](https://pandas.pydata.org/docs/reference/api/pandas.concat.html) y llámele `ratings`."
   ]
  },
  {
   "cell_type": "code",
   "execution_count": null,
   "metadata": {},
   "outputs": [],
   "source": []
  },
  {
   "cell_type": "markdown",
   "metadata": {},
   "source": [
    "<a class='anchor' id=\"13\"></a>"
   ]
  },
  {
   "cell_type": "markdown",
   "metadata": {},
   "source": [
    "### <font color='289C4E'>13) Timestamps<font> [↑](#inicio) \n",
    "    \n",
    "Suponga ahora que el departamento de Data Engineering ha conseguido una columna adicional muy valiosa: las fechas cuando se han generado los ratings. De la misma manera que el punto anterior concaténe los dataframes `timestamps_1` y `timestamps_2` y llámele `timestamps`."
   ]
  },
  {
   "cell_type": "code",
   "execution_count": null,
   "metadata": {},
   "outputs": [],
   "source": []
  },
  {
   "cell_type": "markdown",
   "metadata": {},
   "source": [
    "<a class='anchor' id=\"14\"></a>"
   ]
  },
  {
   "cell_type": "markdown",
   "metadata": {},
   "source": [
    "### <font color='289C4E'>14) Merge<font> [↑](#inicio) \n",
    "    \n",
    "Ahora tenemos por un lado una tabla `ratings` que contiene todos los registros de ratings existentes y, por otro lado, tenemos la tabla `timestamps` que contiene todas las fechas existentes. Estas dos tablas deben ser unidas mediante un índice en común (la columna index). Utilize la función [pd.merge()](https://pandas.pydata.org/pandas-docs/stable/reference/api/pandas.DataFrame.merge.html) para unir estas tablas. Llame a esta tabla `ml100`."
   ]
  },
  {
   "cell_type": "code",
   "execution_count": null,
   "metadata": {},
   "outputs": [],
   "source": []
  },
  {
   "cell_type": "markdown",
   "metadata": {},
   "source": [
    "<a class='anchor' id=\"15\"></a>"
   ]
  },
  {
   "cell_type": "markdown",
   "metadata": {},
   "source": [
    "### <font color='289C4E'>15) Manipulación de formatos de fecha<font> [↑](#inicio)\n",
    "    \n",
    "El campo `timestamp` esta en un formato no agradable. Este campo se encuentra en formato [Unix Timestamp](https://en.wikipedia.org/wiki/Unix_time), el cual cuenta los segundos que han pasado desde el momento en que se generó el registro desde el primero de Enero de 1970 (UTC). Cambie el formato. \n",
    "\n",
    "**Tip:** \n",
    "1. `from datetime import datetime as dt`\n",
    "2. .apply(dt.fromtimestamp)"
   ]
  },
  {
   "cell_type": "code",
   "execution_count": null,
   "metadata": {},
   "outputs": [],
   "source": []
  },
  {
   "cell_type": "markdown",
   "metadata": {},
   "source": [
    "<a class='anchor' id=\"16\"></a>"
   ]
  },
  {
   "cell_type": "markdown",
   "metadata": {},
   "source": [
    "### <font color='289C4E'>16) Pivot<font> [↑](#inicio) \n",
    "    \n",
    "Queremos crear una tabla llamada `ratings_matrix` a partir de nuestra tabla `ml100`. La tabla `ratings` esta **unpivoted**. Nosotros queremos que la tabla `ratings_matrix` contenga IDs de usuarios en sus filas, IDs de películas (item IDs) en sus columnas y este rellena con los ratings asociados.\n",
    "\n",
    "Utilize la función de pandas [.pivot()](https://pandas.pydata.org/pandas-docs/stable/reference/api/pandas.DataFrame.pivot.html) para pivotear la tabla `ml100` y asi crear la tabla `ratings_matrix`."
   ]
  },
  {
   "cell_type": "code",
   "execution_count": null,
   "metadata": {
    "scrolled": true
   },
   "outputs": [],
   "source": []
  }
 ],
 "metadata": {
  "kernelspec": {
   "display_name": "Python 3 (ipykernel)",
   "language": "python",
   "name": "python3"
  },
  "language_info": {
   "codemirror_mode": {
    "name": "ipython",
    "version": 3
   },
   "file_extension": ".py",
   "mimetype": "text/x-python",
   "name": "python",
   "nbconvert_exporter": "python",
   "pygments_lexer": "ipython3",
   "version": "3.9.7"
  }
 },
 "nbformat": 4,
 "nbformat_minor": 2
}
