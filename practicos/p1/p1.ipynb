{
 "cells": [
  {
   "cell_type": "markdown",
   "metadata": {},
   "source": [
    "<center><img src=\"https://www3.um.edu.uy/logoum.jpg\" width=300></center>\n",
    "<h1 align=\"center\">Introducción a la Ciencia de Datos</h1>\n",
    "<h2 align=\"center\"> <font color='gray'>Práctico 1: Feature engineering</font></h2>\n",
    "\n",
    "# <center> A la deriva </center>\n",
    "<center><i>El paisaje es agresivo, y reina en él un silencio de muerte. Al atardecer, sin embargo, su belleza sombría y calma cobra una majestad única.</i></center>\n",
    "\n",
    "<div style=\"text-align: center\"><i>- A la deriva, Horacio Quiroga.<div>\n",
    "<br>\n",
    "<center><img src=\"https://media.nationalgeographic.org/assets/photos/380/216/1c9ab248-0c9c-413d-b0c8-ce8aec56b821.jpg\" width=700></center>"
   ]
  },
  {
   "cell_type": "markdown",
   "metadata": {},
   "source": [
    "### <b><span style='color:#F1A424'>Tabla de contenidos</span></b> <a class='anchor' id='top'></a>\n",
    "<b></b>\n",
    "<div style=\" background-color:#3b3745; padding: 13px 13px; border-radius: 8px; color: white\">\n",
    "<li> <a href=\"#0\">Importe las librerías necesarias</a></li>\n",
    "<li> <a href=\"#1\">Cargue los datasets del práctico</a></li>\n",
    "<li><a href=\"#2\">Cardinalidad</a></li>\n",
    "<li><a href=\"#3\">Género</a></li>\n",
    "<li><a href=\"#4\">Edad</a></li>\n",
    "<li><a href=\"#5\">Equal-width binning</a></li>\n",
    "<li><a href=\"#6\">Dolor</a></li>\n",
    "<li><a href=\"#7\">Ingresos</a></li>\n",
    "<li><a href=\"#8\">Probabilidad de infarto</a></li>\n",
    "<li><a href=\"#9\">Altura</a></li>\n",
    "<li><a href=\"#10\">Peso</a></li>\n",
    "<li><a href=\"#11\">Visualización 3d: parte 1</a></li>\n",
    "<li><a href=\"#12\">Visualización 3d: parte 2</a></li>\n",
    "<li><a href=\"#13\">Preguntas</a></li>\n",
    "<li><a href=\"#14\">Mean imputation</a></li>\n",
    "<li><a href=\"#15\">Hot-deck imputation</a></li>\n",
    "<li><a href=\"#16\">PCA: parte 1</a></li>\n",
    "<li><a href=\"#17\">PCA: parte 2</a></li>\n",
    "</div>\n",
    "\n",
    "\n",
    "Al finalizar el práctico usted aprenderá:\n",
    "- Chequeo de cardinalidad para la detección de anomalías.\n",
    "- One-hot encoding.\n",
    "- Imputación de valores faltantes utilizando datos disponibles.\n",
    "- Binning.\n",
    "- Ordinal encoding.\n",
    "- Detección y remoción de outliers.\n",
    "- Estandarización.\n",
    "- Normalización.\n",
    "- Transformaciones para visualización de valores.\n",
    "- Visualización 3D.\n",
    "- Técnicas de imputación de valores faltantes.\n",
    "- Principal Component Analysis para la reducción de dimensionalidad.\n",
    "\n",
    "<div class=\"alert alert-block alert-warning\">  \n",
    "    <b>Nota:</b> Por favor, en las celdas al final usar <code>.head(10)</code>\n",
    "</div>"
   ]
  },
  {
   "cell_type": "markdown",
   "metadata": {},
   "source": [
    "# <b>0 <span style='color:#F1A424'>|</span> Importe las librerías necesarias</b><a class='anchor' id='0'></a> [↑](#top)\n",
    "\n",
    "***"
   ]
  },
  {
   "cell_type": "code",
   "execution_count": 3,
   "metadata": {},
   "outputs": [],
   "source": [
    "import datetime\n",
    "import itertools\n",
    "import math\n",
    "import matplotlib.pyplot as plt\n",
    "import numpy as np\n",
    "import pandas as pd\n",
    "import seaborn as sns"
   ]
  },
  {
   "cell_type": "code",
   "execution_count": null,
   "metadata": {},
   "outputs": [],
   "source": []
  },
  {
   "cell_type": "markdown",
   "metadata": {},
   "source": [
    "# <b>1 <span style='color:#F1A424'>|</span> Cargue los datasets del práctico</b><a class='anchor' id='1'></a> [↑](#top)\n",
    "\n",
    "***"
   ]
  },
  {
   "cell_type": "code",
   "execution_count": null,
   "metadata": {},
   "outputs": [],
   "source": []
  },
  {
   "cell_type": "markdown",
   "metadata": {},
   "source": [
    "# <b>2 <span style='color:#F1A424'>|</span> Cardinalidad</b><a class='anchor' id='2'></a> [↑](#top)\n",
    "\n",
    "***\n",
    "Averigüe que es la cardinalidad de un conjunto. Chequee la cardinalidad de las columnas que crea necesarias."
   ]
  },
  {
   "cell_type": "code",
   "execution_count": null,
   "metadata": {},
   "outputs": [],
   "source": []
  },
  {
   "cell_type": "markdown",
   "metadata": {},
   "source": [
    "# <b>3 <span style='color:#F1A424'>|</span> Género</b><a class='anchor' id='3'></a> [↑](#top)\n",
    "\n",
    "***\n",
    "Explore la columna, realize las transformaciones de datos que considere necesarias y realize un one-hot encoding para k-1 variables."
   ]
  },
  {
   "cell_type": "code",
   "execution_count": null,
   "metadata": {},
   "outputs": [],
   "source": []
  },
  {
   "cell_type": "markdown",
   "metadata": {},
   "source": [
    "# <b>4 <span style='color:#F1A424'>|</span> Edad</b><a class='anchor' id='4'></a> [↑](#top)\n",
    "\n",
    "***\n",
    "Explore la columna, argumente en un markdown qué tipo de missing value cree que es. Determine qué columna le puede ayudar a imputar estos valores. Impútelos."
   ]
  },
  {
   "cell_type": "code",
   "execution_count": null,
   "metadata": {},
   "outputs": [],
   "source": []
  },
  {
   "cell_type": "markdown",
   "metadata": {},
   "source": [
    "# <b>5 <span style='color:#F1A424'>|</span> Equal-width binning</b><a class='anchor' id='5'></a> [↑](#top)\n",
    "\n",
    "***    \n",
    "Rellene la columna `bins`, la cual es un equal-width binning de la columna `Edad`. En esta columna, los valores deben adoptar:\n",
    "- `joven` si la edad pertenece a [0,25)\n",
    "- `adulto` si la edad pertenece a [25,50)\n",
    "- `mayor` si la edad pertenece a [50,75)\n",
    "- `anciano` si la edad pertenece a [75,100)\n",
    "    \n",
    "Rellene los valores faltantes usando equal-width binning."
   ]
  },
  {
   "cell_type": "code",
   "execution_count": null,
   "metadata": {},
   "outputs": [],
   "source": []
  },
  {
   "cell_type": "markdown",
   "metadata": {},
   "source": [
    "# <b>6 <span style='color:#F1A424'>|</span> Dolor</b><a class='anchor' id='6'></a> [↑](#top)\n",
    "\n",
    "*** \n",
    "La columna `dolor` fue creada mediante una encuesta de Google. El data type de esta columna son strings. Sin embargo, si se quisiesen obtener estadísticas básicas como por ejemplo dolor promedio de los pacientes o desviación estándar del dolor a partir de esta columna esto no sería posible. \n",
    "1. Realize el encoding que crea necesario usando:\n",
    "    - Pandas\n",
    "    - Scikit-learn\n",
    "2. Obtenga el dolor promedio y la desviación estándar del dolor.\n",
    "3. Realize un histograma de los valores."
   ]
  },
  {
   "cell_type": "code",
   "execution_count": null,
   "metadata": {},
   "outputs": [],
   "source": []
  },
  {
   "cell_type": "markdown",
   "metadata": {},
   "source": [
    "# <b>7 <span style='color:#F1A424'>|</span> Ingresos</b><a class='anchor' id='7'></a> [↑](#top)\n",
    "\n",
    "***\n",
    "\n",
    "1. Grafique un histograma de la variable ingresos\n",
    "2. Que distribución sigue?\n",
    "3. Use [pandas.describe()](https://pandas.pydata.org/docs/reference/api/pandas.DataFrame.describe.html) para obtener los datos estadísticos necesarios para remover outliers\n",
    "4. Grafique la columna mediante un box plot\n",
    "5. Haga un top-coding para lidiar con los outliers presentes."
   ]
  },
  {
   "cell_type": "code",
   "execution_count": null,
   "metadata": {},
   "outputs": [],
   "source": []
  },
  {
   "cell_type": "markdown",
   "metadata": {},
   "source": [
    "# <b>8 <span style='color:#F1A424'>|</span> Probabilidad infarto</b><a class='anchor' id='8'></a> [↑](#top)\n",
    "\n",
    "***\n",
    "\n",
    "Los médicos del hospital han determinado que la probabilidad de infarto puede modelarse aproximadamente mediante la función: \n",
    "\n",
    "$$ P(infarto) = \\frac{edad}{edad +10} $$\n",
    "\n",
    "1. Grafique la probabilidad de infarto en función de la edad mediante un scatter plot.\n",
    "2. Los instrumentos médicos pueden tener fallas de manera aleatoria, guardando datos errados esporádicamente. Determine si existen outliers.\n",
    "3. Busque la manera de lidiar con ellos."
   ]
  },
  {
   "cell_type": "code",
   "execution_count": null,
   "metadata": {},
   "outputs": [],
   "source": []
  },
  {
   "cell_type": "markdown",
   "metadata": {},
   "source": [
    "# <b>9 <span style='color:#F1A424'>|</span> Altura</b><a class='anchor' id='9'></a> [↑](#top)\n",
    "\n",
    "***\n",
    "\n",
    "\n",
    "1. Visualize la altura mediante un histograma.\n",
    "2. Visualize en una sola grafica dos histogramas: uno para el sexo masculino y otro para el sexo femenino.\n",
    "3. Estandarize los datos."
   ]
  },
  {
   "cell_type": "code",
   "execution_count": null,
   "metadata": {},
   "outputs": [],
   "source": []
  },
  {
   "cell_type": "markdown",
   "metadata": {},
   "source": [
    "# <b>10 <span style='color:#F1A424'>|</span> Peso</b><a class='anchor' id='10'></a> [↑](#top)\n",
    "\n",
    "***\n",
    " \n",
    "Normalize los datos de altura, peso y edad de manera de encontrar la persona más similar al paciente con peso faltante."
   ]
  },
  {
   "cell_type": "code",
   "execution_count": null,
   "metadata": {},
   "outputs": [],
   "source": []
  },
  {
   "cell_type": "markdown",
   "metadata": {},
   "source": [
    "### <b><span style='color:#F1A424'>Experimentos</span></b> <a class='anchor' id='top'></a>\n",
    "\n",
    "Los pacientes han sido sometidos a tres experimentos. Luego de ser obtenidos los resultados de los experimentos, los pacientes han sido catalogados mediante una 'label' que determina la enfermedad que padecen. Sin embargo, la enfermera a cargo ha extraviado los resultados del experimento 3 para muchos pacientes.  "
   ]
  },
  {
   "cell_type": "markdown",
   "metadata": {},
   "source": [
    "# <b>11 <span style='color:#F1A424'>|</span> Visualización 3D: parte 1</b><a class='anchor' id='11'></a> [↑](#top)\n",
    "\n",
    "***\n",
    "    \n",
    "Visualize los datos de los 3 experimentos para los pacientes sin datos faltantes.  "
   ]
  },
  {
   "cell_type": "code",
   "execution_count": null,
   "metadata": {},
   "outputs": [],
   "source": []
  },
  {
   "cell_type": "markdown",
   "metadata": {},
   "source": [
    "# <b>12 <span style='color:#F1A424'>|</span> Visualización 3D: parte 2</b><a class='anchor' id='12'></a> [↑](#top)\n",
    "\n",
    "***\n",
    "    \n",
    "Hemos visto en clase, en feature transformation, que existen funciones que nos permiten mapear o transformar valores mediante una transformada o función. Investigue distintos colormaps de la librearía matplotlib y como pueden ayudarlo a transformar la variable 'label' (la cual es una variable discreta, un solo número) en una variable de color (una tupla de tres valores numéricos). Los colores de cualquier pantalla son producidos por la superposición de tres colores: RGB (red, green, blue) con distintas intensidades. \n",
    "\n",
    "Visualize los datos de los 3 experimentos para los pacientes sin datos faltantes pero que el color de los puntos sea la catagoría (label) a la cual pertenecen. "
   ]
  },
  {
   "cell_type": "code",
   "execution_count": null,
   "metadata": {},
   "outputs": [],
   "source": []
  },
  {
   "cell_type": "markdown",
   "metadata": {},
   "source": [
    "# <b>13 <span style='color:#F1A424'>|</span> Preguntas</b><a class='anchor' id='13'></a> [↑](#top)\n",
    "\n",
    "***\n",
    "    \n",
    "Conteste a continuación las siguientes preguntas:\n",
    "1. Tiene sentido normalizar los valores en este escenario? Si o No, justifique su respuesta.\n",
    "2. Tiene sentido usar una regresión lineal para imputar valores en este escenario? Si o No, justifique su respuesta."
   ]
  },
  {
   "cell_type": "code",
   "execution_count": null,
   "metadata": {},
   "outputs": [],
   "source": []
  },
  {
   "cell_type": "markdown",
   "metadata": {},
   "source": [
    "# <b>14 <span style='color:#F1A424'>|</span> Mean imputation</b><a class='anchor' id='14'></a> [↑](#top)\n",
    "\n",
    "***\n",
    "    \n",
    "Asígnele a los valores faltantes la media de los valores:\n",
    "1. Primero, utilizando la media global. Visualize en este caso los datos mediante una gráfica 3D. Qué conclusiones saca a partir de la gráfica?\n",
    "2. Agrupando por label y asignandole la media del label al que pertenece. Visualize en este caso los datos mediante una gráfica 3D. Qué conclusiones saca a partir de la gráfica?"
   ]
  },
  {
   "cell_type": "code",
   "execution_count": null,
   "metadata": {},
   "outputs": [],
   "source": []
  },
  {
   "cell_type": "markdown",
   "metadata": {},
   "source": [
    "# <b>15 <span style='color:#F1A424'>|</span> Hot-deck imputation</b><a class='anchor' id='15'></a> [↑](#top)\n",
    "\n",
    "***\n",
    "    \n",
    "Implemente el algoritmo \"hot-deck imputation\", el cual busca el registro más similar al registro con el valor faltante y le asigna su valor. Visualize en este caso los datos mediante una gráfica 3D."
   ]
  },
  {
   "cell_type": "code",
   "execution_count": null,
   "metadata": {},
   "outputs": [],
   "source": []
  },
  {
   "cell_type": "markdown",
   "metadata": {},
   "source": [
    "### <b><span style='color:#F1A424'>Análisis de componentes principales</span></b> <a class='anchor' id='top'></a>\n",
    "    \n",
    "Cargue el CSV 'covid' que contiene 12 resultados de distintos análisis para determinar si el paciente tiene COVID-19 o no. Es frecuente, que para predecir una variable realizemos numerosos experimentos y guardemos otros datos adicionales. Como ya hemos visto, todo modelo predictivo busca una manera de expresar la variable a predecir por medio de una función de las variables de entrada. \n",
    "\n",
    "Estas variables de entrada en ciertos casos pueden no ser buenas para predecir la variable, introduciendo ruido. En otros casos, las variables están fuertemente correlacionadas entre sí introduciendo información redundante. \n",
    "\n",
    "PCA nos permite \"descubrir\" nuevas variables a partir de nuestras variables de entrada, las cuales estan linealmente no correlacionadas. En consecuencia, podremos predecir la variable objetivo mediante un nuevo conjunto menor de variables que son no redundantes sin perder significativamente información."
   ]
  },
  {
   "cell_type": "markdown",
   "metadata": {},
   "source": [
    "# <b>16 <span style='color:#F1A424'>|</span> PCA: parte 1</b><a class='anchor' id='16'></a> [↑](#top)\n",
    "\n",
    "***\n",
    "\n",
    "1. Grafique, utilizando la gráfica [seaborn.pairplot()](https://seaborn.pydata.org/generated/seaborn.pairplot.html), el dataset de COVID (al ser 169 graficas en una esto puede tardar unos minutos).\n",
    "2. Obtenga la matriz de correlación para el dataset.\n",
    "3. En una celda aparte conteste las siguientes preguntas:\n",
    "    - Qué es la correlación entre dos variables? \n",
    "    - Por qué es importante la correlación entre las variables de entrada y la variable objetivo?\n",
    "    - Explique correlación positiva, negativa y neutra. Identifique ejemplos en el dataset"
   ]
  },
  {
   "cell_type": "code",
   "execution_count": null,
   "metadata": {},
   "outputs": [],
   "source": []
  },
  {
   "cell_type": "markdown",
   "metadata": {},
   "source": [
    "# <b>17 <span style='color:#F1A424'>|</span> PCA: parte 2</b><a class='anchor' id='17'></a> [↑](#top)\n",
    "\n",
    "***\n",
    "\n",
    "1. Aplique PCA de tal manera que la varianza explicada sea del 89%\n",
    "2. Cree un pandas dataframe que contenga las nuevas componentes principales y la variable objetivo.\n",
    "3. Grafique las dos componentes principales e interprete la gráfica obtenida."
   ]
  },
  {
   "cell_type": "code",
   "execution_count": null,
   "metadata": {},
   "outputs": [],
   "source": []
  }
 ],
 "metadata": {
  "kernelspec": {
   "display_name": "Python 3 (ipykernel)",
   "language": "python",
   "name": "python3"
  },
  "language_info": {
   "codemirror_mode": {
    "name": "ipython",
    "version": 3
   },
   "file_extension": ".py",
   "mimetype": "text/x-python",
   "name": "python",
   "nbconvert_exporter": "python",
   "pygments_lexer": "ipython3",
   "version": "3.9.7"
  }
 },
 "nbformat": 4,
 "nbformat_minor": 2
}
