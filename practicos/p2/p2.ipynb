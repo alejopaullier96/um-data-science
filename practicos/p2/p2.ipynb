{
 "cells": [
  {
   "cell_type": "markdown",
   "metadata": {},
   "source": [
    "</center><img src=\"https://www3.um.edu.uy/logoum.jpg\" width=300></center>\n",
    "<h1 align=\"center\">Introducción a la Ciencia de Datos</h1>\n",
    "<h2 align=\"center\"> <font color='gray'>Práctico 2: Data visualization</font></h2>"
   ]
  },
  {
   "cell_type": "markdown",
   "metadata": {},
   "source": [
    "</center><img src=\"images/charts.png\" width=800></center>"
   ]
  },
  {
   "cell_type": "markdown",
   "metadata": {},
   "source": [
    "### <font color='289C4E'>Tabla de contenidos<font><a class='anchor' id='inicio'>\n",
    "- [Importe las librerías necesarias](#0)\n",
    "- [Subplots usando Matplotlib (*)](#1)\n",
    "- [Parte 1: Múltiples gráficas en una. (*)](#2a)\n",
    "- [Parte 2: Ajustar colores (*)](#2b)\n",
    "- [Ajustar los límites horizontales y verticales de las gráficas (*)](#3)\n",
    "- [Anotaciones de texto (***)](#4)\n",
    "- [Scatter plots (**)](#5)\n",
    "- [Pie charts (****)](#6)\n",
    "- [Doughnut charts (***)](#7)\n",
    "- [Horizontal bar plots (***)](#8)\n",
    "- [Vertical grouped bar plots (****)](#9)\n",
    "- [Lineplots parte 1 (**)](#10)\n",
    "- [Lineplots parte 2 (***)](#11)\n",
    "- [Back-to-back bars (***)](#12)\n",
    "- [Violin plots (*)](#13)\n",
    "- [Intervalos de confianza (*)](#14)\n",
    "- [Error bars (**)](#15)\n",
    "    \n",
    "Al finalizar el práctico usted aprenderá:\n",
    "- La anatomía de una gráfica de matplotlib.\n",
    "- Manipular distintas características de una gráfica, como ejes, anotaciones, colores, tamaño, textos, leyendas, ticks, posiciones, etc.\n",
    "- Graficar un gran número de gráficas de uso cotidiano, como Line Plots, Scatter Plots, Pie Charts, Doughnut Charts, Back-to-back bars, Violin Plots, Confidence Intervals, Error bars, etc.\n",
    "\n",
    "<font color='B60F04'>A lo largo del práctico usted notará asteriscos (*) al lado de cada ejercicio. Estos indican el nivel de dificultad. Se sugiere realizar el trabajo en conjunto y no por separado.<font>"
   ]
  },
  {
   "cell_type": "markdown",
   "metadata": {},
   "source": [
    "### <font color='289C4E'>0) Importe las librerías necesarias<font> <a class='anchor' id='0'></a> [↑](#inicio)"
   ]
  },
  {
   "cell_type": "code",
   "execution_count": 1,
   "metadata": {},
   "outputs": [],
   "source": [
    "import math\n",
    "import matplotlib.pyplot as plt\n",
    "import numpy as np\n",
    "import pandas as pd\n",
    "import sklearn\n",
    "\n",
    "from sklearn.datasets import make_blobs"
   ]
  },
  {
   "cell_type": "markdown",
   "metadata": {},
   "source": [
    "### Elementos de una gráfica de Matplotlib\n",
    "\n",
    "</center><img src=\"images/figure.png\" width=600></center>\n",
    "\n",
    "- **Figure:** hace referencia a la figura en la cual estamos trabajando. Es como la \"ventana\" que contiene nuestras gráficas/plots. Las figuras contienen axes, lo que solemos interpretar cuando comúnmente hablamos de gráficas. Una figura puede tener muchos axes.\n",
    "- **Axes:**  axes es lo que comúnmente solemos interpretar cuando hablamos de una gráfica. Cuando hablamos de gráficas hablamos de axes. \n",
    "- **Axis:** establece los límites de una gráfica."
   ]
  },
  {
   "cell_type": "markdown",
   "metadata": {},
   "source": [
    "### Anatomía de una gráfica [↑](#inicio)\n",
    "</center><img src=\"images/anatomy.png\" width=600></center>\n",
    "\n",
    "[Fuente](https://matplotlib.org/examples/showcase/anatomy.html) de la imagen.\n",
    "\n"
   ]
  },
  {
   "cell_type": "markdown",
   "metadata": {},
   "source": [
    "### Ejemplo:"
   ]
  },
  {
   "cell_type": "code",
   "execution_count": 2,
   "metadata": {},
   "outputs": [
    {
     "data": {
      "text/plain": [
       "[<matplotlib.lines.Line2D at 0x7fc9b8d386a0>]"
      ]
     },
     "execution_count": 2,
     "metadata": {},
     "output_type": "execute_result"
    },
    {
     "data": {
      "image/png": "[encoded data removed]",
      "text/plain": [
       "<Figure size 432x288 with 1 Axes>"
      ]
     },
     "metadata": {
      "needs_background": "light"
     },
     "output_type": "display_data"
    }
   ],
   "source": [
    "x = np.arange(0, math.pi*4, 0.1)\n",
    "y = np.cos(x)\n",
    "\n",
    "plt.xlabel(\"ángulo en radianes\")\n",
    "plt.ylabel(\"coseno\")\n",
    "plt.title('Gráfica coseno')\n",
    "plt.grid(True, which='both')\n",
    "plt.plot(x,y)"
   ]
  },
  {
   "cell_type": "markdown",
   "metadata": {},
   "source": [
    "### <font color='289C4E'>1) Subplots usando Matplotlib (*)<font> <a class='anchor' id='1'></a>  [↑](#inicio)\n",
    "    \n",
    "Subplots permite agregar múltiples sub-gráficas en una sola figura. Sin embargo, no nos permite la opción de agregar las distintas sub-gráficas donde querramos dentro de la figura, sino que las posiciones de las sub-gráficas están predeterminadas mediante una grilla. La manera más fácil de especificar la posición de las distintas sub-gráficas es mediante la notación de 3 números enteros. \n",
    "\n",
    "Para posicionar subplots usamos el comando `ax = fig.add_subplot(RCP)` donde:\n",
    "- `R` (rows) = cantidad de filas de la grilla\n",
    "- `C` (columns) = cantidad de columnas de la grilla\n",
    "- `P` (position) = qué posición ocupara la subplot en la grilla\n",
    "\n",
    "Grafique usando subplots: \n",
    "- cos(x) en azul\n",
    "- sin(x) en verde\n",
    "- cos(x) + sin(x) en rojo\n",
    "- Establezca el tamaño de la gráfica en 16 pulgadas de ancho y 8 de alto. **Tip:** `figsize()`\n",
    "- Distancie las distintas subplot horizontalmente con una distancia de 0.5 para que los títulos de las subplots no se toquen entre sí. **Tip:** `plt.subplots_adjust()`\n",
    "- Agréguele títulos a cada subplot con la función trigonométrica que esta graficando.\n",
    "- Agréguele un título a la figura que diga 'Gráficas trigonométricas'.\n",
    "\n",
    "Su gráfica debería verse similar a la siguiente:\n",
    "    \n",
    "<center><img src=\"images/trig.png\" width=600></center>"
   ]
  },
  {
   "cell_type": "code",
   "execution_count": null,
   "metadata": {},
   "outputs": [],
   "source": [
    "x = np.arange(0, math.pi*4, 0.1)\n",
    "y1 = np.cos(x)\n",
    "y2 = np.sin(x)\n",
    "y3 = y1 + y2"
   ]
  },
  {
   "cell_type": "code",
   "execution_count": null,
   "metadata": {},
   "outputs": [],
   "source": []
  },
  {
   "cell_type": "markdown",
   "metadata": {},
   "source": [
    "### <font color='289C4E'>2) Parte 1: Múltiples gráficas en una. (*)<font> <a class='anchor' id='2a'></a> [↑](#inicio)\n",
    "Frecuentemente, queremos graficar datos usando una sola gráfica para mejor comparación. Para esto, no es necesario especificar axes. Simplemente podemos usar [plt.plot()](https://matplotlib.org/stable/api/_as_gen/matplotlib.pyplot.plot.html) múltiples veces.\n",
    "    \n",
    "Grafique en una sola gráfica:\n",
    "- cos(x) en verde, línea sólida.\n",
    "- sin(x) en naranja, línea punteada.\n",
    "- cos(x) + sin(x) en rojo, línea punto-raya (-.-.-.-).\n",
    "- Añándale un título como la gráfica anterior y labels en los ejes.\n",
    "- Agréguele una leyenda con labels de cada función.\n",
    "\n",
    "Su gráfica debería verse similar a la siguiente:\n",
    "<center><img src=\"images/leyend.png\" width=400></center>"
   ]
  },
  {
   "cell_type": "code",
   "execution_count": null,
   "metadata": {},
   "outputs": [],
   "source": []
  },
  {
   "cell_type": "markdown",
   "metadata": {},
   "source": [
    "### <font color='289C4E'>2) Parte 2: Ajustar colores (*)<font> <a class='anchor' id='2b'></a> [↑](#inicio)\n",
    "    \n",
    "El color de una gráfica puede ser ajustado de distintas maneras. \n",
    "1. Especificando el nombre del color. Método simple pero muy acotado a un número bajo de colores. Ejemplo: 'red', 'green', 'blue', etc. \n",
    "2. Especificar mediante un [código hexadecimal](https://htmlcolorcodes.com/) los tres canales RGB de la siguiente manera: '#RRGGBB' donde los valores van desde 00 hasta FF. Recordar que los dígitos disponibles en base 16 son 0123456789ABCDEF.\n",
    "3. Una tupla de 3 valores numéricos entre 0 y 1 que especifican las intensidades de los canales RGB. \n",
    "\n",
    "Grafique nuevamente la gráfica anterior pero cambiando los colores mediante los 3 métodos anteriormente mencionados. Cada función debe ser mediante un método distinto. Los colores son a libre elección."
   ]
  },
  {
   "cell_type": "code",
   "execution_count": null,
   "metadata": {},
   "outputs": [],
   "source": []
  },
  {
   "cell_type": "markdown",
   "metadata": {},
   "source": [
    "### <font color='289C4E'>3) Ajustar los límites horizontales y verticales de las gráficas (*)<font> <a class='anchor' id='3'></a>  [↑](#inicio)\n",
    "\n",
    "La manera de ajustar los límites de nuestras plots usando matplotlib es mediante los comandos [plt.xlim()](https://matplotlib.org/stable/api/_as_gen/matplotlib.pyplot.xlim.html) and [plt.ylim()](https://matplotlib.org/stable/api/_as_gen/matplotlib.pyplot.ylim.html). \n",
    "    \n",
    "Grafique x entre 0 y 12 radianes y tan(x) entre -20 y 20. No se olvide de las labels en los ejes ni la leyenda."
   ]
  },
  {
   "cell_type": "code",
   "execution_count": null,
   "metadata": {},
   "outputs": [],
   "source": [
    "y4 = np.tan(np.arange(0, math.pi*2, 0.05))"
   ]
  },
  {
   "cell_type": "code",
   "execution_count": null,
   "metadata": {},
   "outputs": [],
   "source": []
  },
  {
   "cell_type": "markdown",
   "metadata": {},
   "source": [
    "### <font color='289C4E'>4) Anotaciones de texto (***)<font> <a class='anchor' id='4'></a> [↑](#inicio)\n",
    "\n",
    "Dentro de una gráfica se pueden visualizar y posicionar textos con distintos formatos, tamaños, fuentes, etc. A continuación, usted graficara usando un **scatterplot** los tamaños de tumores de pacientes y generará anotaciones de texto dentro de la gráfica.\n",
    "\n",
    "- Ajuste el tamaño de la imagen a (12,8)\n",
    "- Agréguele un título a la figura que sea 'Detección de outliers', `fontsize` = 24, `fontweight` = bold.\n",
    "- Agregue una única subplot.\n",
    "- Ajústela con `top` = 0.9. Use [fig.subplots_adjust()](https://matplotlib.org/stable/api/_as_gen/matplotlib.pyplot.subplots_adjust.html)\n",
    "- Grafique los datos de los pacientes usando [plt.scatter()](https://matplotlib.org/stable/api/_as_gen/matplotlib.pyplot.scatter.html), largo del tumor en el eje x, ancho del tumor en el eje y.\n",
    "- Añadale el siguiente texto usando [ax.text()](https://matplotlib.org/stable/api/_as_gen/matplotlib.axes.Axes.text.html): *'Población general $\\mu$ = 100mm, $\\sigma$ = 10mm'* en la posición (125, 150). Use bbox={'facecolor':'red', 'alpha':0.5, 'pad':10}. \n",
    "- Añadale el siguiente texto usando `ax.text()`: *'Los datos visualizados son propiedad privada'*. Esta vez, posicione el texto indicando la posición como un porcentaje del largo de los ejes. El texto debe estar en 0.99 del eje x y 0.01 del eje y. Por ejemplo, (0.5,0.5) sería la mitad del eje x y la mitad del eje y. Use `color` = 'red' y `fontsize` = 10. \n",
    "- Agrégue una flecha apuntando al grupo de outliers que en la punta diga 'outliers'\n",
    "- Establezca los límites de la gráfica en (0,200) para ambos ejes.\n",
    "\n",
    "**Tip:** básese en el siguiente [ejemplo](https://matplotlib.org/3.1.1/gallery/pyplots/text_commands.html#sphx-glr-gallery-pyplots-text-commands-py) de Matplotlib\n",
    "\n",
    "\n",
    "La gráfica debería verse similar a la siguiente:\n",
    "<center><img src=\"images/ej4.png\" width=600></center>"
   ]
  },
  {
   "cell_type": "code",
   "execution_count": null,
   "metadata": {},
   "outputs": [],
   "source": [
    "sample1 = make_blobs(n_samples=1000,centers=[(100,100)], n_features=2,random_state=0,cluster_std=10)\n",
    "sample2 = make_blobs(n_samples=10,centers=[(50,150)], n_features=2,random_state=0,cluster_std=1)\n",
    "samples = np.concatenate([sample1[0], sample2[0]])\n",
    "samples = pd.DataFrame(samples, columns = ['largo', 'ancho'])\n",
    "samples.head()"
   ]
  },
  {
   "cell_type": "code",
   "execution_count": null,
   "metadata": {},
   "outputs": [],
   "source": []
  },
  {
   "cell_type": "markdown",
   "metadata": {},
   "source": [
    "### <font color='289C4E'>5) Scatter plots (**)<font> <a class='anchor' id='5'></a> [↑](#inicio)\n",
    "\n",
    "Las scatter plots son utilizadas para visualizar puntos en un espacio N-dimensional (N acotado, generalmente hasta máximo 6 dimensiones si se usa tamaño, color y forma). A continuación, ejecute la siguiente celda para obtener el iris dataset que contiene datos de flores.\n",
    "\n",
    "- Grafique el largo de las flores en función del ancho.\n",
    "- Grafique con un marcador de estilo `X`.\n",
    "- Establezca el parámetro de transparencia/opacidad alpha en 0.4\n",
    "- Establezca el tamaño del marcador como: (100 x ancho de pétalo).\n",
    "- Que el color dependa de la especie de flor. **Tip:** use la columna target (ordinal encoder de species).\n",
    "- Establezca el colormap como `jet`.\n",
    "- Nombre los ejes y establezca el título de la gráfica.\n",
    "\n",
    "La gráfica debería verse similar a la siguiente:\n",
    "<center><img src=\"images/ej5.png\" width=400></center>"
   ]
  },
  {
   "cell_type": "code",
   "execution_count": null,
   "metadata": {},
   "outputs": [],
   "source": [
    "iris = pd.read_csv('./data/iris.csv', sep=',')\n",
    "ordinal_mapping = {\n",
    "    'setosa': 0,\n",
    "    'versicolor': 1,\n",
    "    'virginica': 2\n",
    "}\n",
    "iris['target'] = iris['species'].map(ordinal_mapping)\n",
    "iris.head()"
   ]
  },
  {
   "cell_type": "code",
   "execution_count": null,
   "metadata": {},
   "outputs": [],
   "source": []
  },
  {
   "cell_type": "markdown",
   "metadata": {},
   "source": [
    "### <font color='289C4E'>6) Pie charts (****)<font> <a class='anchor' id='6'></a> [↑](#inicio)\n",
    "\n",
    "Las pie charts, aunque criticadas por no ser buenas para comunicar información, son frecuentemente utilizadas. **Las pie charts no son una buena forma de comunicar resultados pues el cerebro humano no es bueno para comparar tamaños de ángulos.** De todas formas, a continuación crearemos una pie chart que visualizará la cantidad de usuarios de la empresa Spotify según el sistema operativo que utiliza.\n",
    "\n",
    "- Referénciese con este [ejemplo](https://matplotlib.org/3.1.1/gallery/pie_and_polar_charts/pie_and_donut_labels.html), el mismo le servirá de guía para realizar este ejercicio.\n",
    "- También le será de utilidad leer qué significan los distintos [parámetros](https://matplotlib.org/3.1.1/api/_as_gen/matplotlib.pyplot.pie.html) del pie chart: \n",
    "- Establezca el tamaño de la figura en (15,8)\n",
    "- Cree una tupla explode. El parámetro `explode` determina el distanciamiento entre las distintas secciones del pie chart. Cómo usted trabaja para Microsoft le interesa que Windows tenga un explode de 0.1 y el resto 0 para visualizarlo mejor.\n",
    "- Establezca la lista `os` como las labels del pie chart.\n",
    "- Utilize los colores que le son dados.\n",
    "- Establezca el ratio entre el centro del pie chart y el comienzo del texto generado por `autopct` en 1.2\n",
    "- Establezca el ratio entre el centro del pie chart y el comienzo de las labels en 1.4\n",
    "- Establezca el título de la leyenda como \"Operating Systems\" y posiciónelo \"lower right\".\n",
    "- Establezca el título de la gráfica como\"Operating systems users on Spotify\".\n",
    "\n",
    "\n",
    "La gráfica debería verse similar a la siguiente:\n",
    "<center><img src=\"images/ej6.png\" width=600></center>"
   ]
  },
  {
   "cell_type": "code",
   "execution_count": null,
   "metadata": {},
   "outputs": [],
   "source": [
    "users = [80, 40, 1000, 300, 50, 80, 10]\n",
    "os = ['MacOS', 'Chrome', 'Windows', 'Linux', 'Devian', 'Ubuntu', 'Arch Linux']\n",
    "cmap = plt.get_cmap(\"tab20c\")\n",
    "colors = cmap([2,4,6,8,10,12,14])"
   ]
  },
  {
   "cell_type": "code",
   "execution_count": null,
   "metadata": {},
   "outputs": [],
   "source": []
  },
  {
   "cell_type": "markdown",
   "metadata": {},
   "source": [
    "### <font color='289C4E'>7) Doughnut charts (***)<font> <a class='anchor' id='7'></a> [↑](#inicio)\n",
    "\n",
    "En clase ha visto la doughnut chart con un ejemplo del porcentaje de mercado de distintas marcas. Reproduzca el ejemplo. Para eso:\n",
    "\n",
    "- Referénciese con este [ejemplo](https://matplotlib.org/3.1.1/gallery/pie_and_polar_charts/nested_pie.html#sphx-glr-gallery-pie-and-polar-charts-nested-pie-py), el mismo le servirá de guía para realizar este ejercicio:\n",
    "\n",
    "- También le será de utilidad leer qué significan los distintos [parámetros](https://matplotlib.org/3.1.1/api/_as_gen/matplotlib.pyplot.pie.html) del pie chart: \n",
    "- Establezca el tamaño de la figura en (15,8)\n",
    "- Establezca la lista `brands` como las labels del doughnut chart.\n",
    "- Utilize los colores que le son dados.\n",
    "- Establezca el ratio entre el centro del pie chart y el comienzo de las labels para los valores del 2013 en 0.7\n",
    "- Establezca textprops en color blanco para los valores del 2013.\n",
    "- Establezca el título de la gráfica como\"Smartphone market share\".\n",
    "\n",
    "La gráfica debería verse similar a la siguiente:\n",
    "<center><img src=\"images/ej7.png\" width=600></center>"
   ]
  },
  {
   "cell_type": "code",
   "execution_count": null,
   "metadata": {},
   "outputs": [],
   "source": [
    "brands = ['Apple', 'Samsung', 'LG', 'Motorola', 'HTC']\n",
    "outer_vals = [0.48, 0.26, 0.09, 0.09, 0.08] # porcentaje de mercado año 2014\n",
    "inner_vals = [0.55, 0.25, 0.07, 0.07, 0.06] # porcentaje de mercado año 2013\n",
    "cmap = plt.get_cmap(\"Blues\")\n",
    "outer_colors = cmap(np.array([100,200,300,400,500]))\n",
    "inner_colors = cmap(np.array([100,200,300,400,500]))"
   ]
  },
  {
   "cell_type": "code",
   "execution_count": null,
   "metadata": {},
   "outputs": [],
   "source": []
  },
  {
   "cell_type": "markdown",
   "metadata": {},
   "source": [
    "### <font color='289C4E'>8) Horizontal bar plots (***)<font> <a class='anchor' id='8'></a> [↑](#inicio)\n",
    "\n",
    "En clase ha visto las gráficas de barras horizontales con un ejemplo de estudiantes latinos. Reproduzca el ejemplo. Para eso:\n",
    "\n",
    "- Referénciese con este [ejemplo](https://matplotlib.org/3.3.1/gallery/lines_bars_and_markers/barh.html), el mismo le servirá de guía para realizar este ejercicio:\n",
    "\n",
    "- También le será de utilidad leer qué significan los distintos [parámetros](https://matplotlib.org/3.1.1/api/_as_gen/matplotlib.axes.Axes.barh.html) del horizontal bar chart: \n",
    "\n",
    "- Utilize los valores porcentuales y las labels establecidas.\n",
    "- Establezca los `xticks_labels` y los `yticks_labels`.\n",
    "- Establezca los rótulos de los ejes.\n",
    "- Establezca el título de la gráfica.\n",
    "- Pinte la barra \"Adult relatives\" de color gris. **Tip:** guíese por este [ejemplo](https://stackoverflow.com/questions/18973404/setting-different-bar-color-in-matplotlib-python)\n",
    "- Añádale líneas verticales grises `dashed`.\n",
    "\n",
    "La gráfica debería verse similar a la siguiente:\n",
    "<center><img src=\"images/ej_8.png\" width=600></center>"
   ]
  },
  {
   "cell_type": "code",
   "execution_count": null,
   "metadata": {},
   "outputs": [],
   "source": [
    "values = [1, 0.59, 0.57, 0.5, 0.18, 0.15, 0.10]\n",
    "people = ('Parents', 'Friends', 'Adult relatives', 'Teachers', 'Mentors', 'Employers', 'Others adults')\n",
    "x = ['Parents', 'Friends', 'Adult relatives', 'Teachers', 'Mentors', 'Employers', 'Others adults']"
   ]
  },
  {
   "cell_type": "code",
   "execution_count": null,
   "metadata": {},
   "outputs": [],
   "source": []
  },
  {
   "cell_type": "markdown",
   "metadata": {},
   "source": [
    "### <font color='289C4E'>9) Vertical grouped bar plots (****)<font> <a class='anchor' id='9'></a> [↑](#inicio)\n",
    "    \n",
    "En clase ha visto las gráficas de barras verticales con un ejemplo de regiones. Reproduzca el ejemplo. Para eso:\n",
    "\n",
    "- Referénciese con este [ejemplo](https://matplotlib.org/3.1.1/gallery/lines_bars_and_markers/barchart.html), el mismo le servirá de guía para realizar este ejercicio.\n",
    "- Deberá graficar 7 gráficas ax.bar(), una para cada año.\n",
    "- Establezca los `xticks_labels` (regiones) y los `yticks_labels` (porcentajes).\n",
    "- Establezca el título de la gráfica como 'Porcentajes por región'.\n",
    "- Establezca la posición de la leyenda debajo y afuera de la gráfica. **Tip:** guíeses por este [ejemplo](https://stackoverflow.com/questions/4700614/how-to-put-the-legend-out-of-the-plot)\n",
    "- Pinte los años con distintos colores. Puede usar colores hexadecimales con la siguiente [página](https://htmlcolorcodes.com/).\n",
    "- La mayor dificultad de este problema es distanciar bien las barras para que no se superpongan. Para eso, usted tiene el array `x` al cual debe sumarle y restarle valores numéricos para distanciar las barras.\n",
    "- `width` = 0.8\n",
    "\n",
    "La gráfica debería verse similar a la siguiente:\n",
    "<center><img src=\"images/ej_9.png\" width=600></center>"
   ]
  },
  {
   "cell_type": "code",
   "execution_count": null,
   "metadata": {},
   "outputs": [],
   "source": [
    "df = pd.read_csv('./data/regions.csv', sep=',', index_col = 'index')\n",
    "xlabels = df.index.tolist()\n",
    "x = np.arange(len(xlabels))*10  # the label locations\n",
    "df"
   ]
  },
  {
   "cell_type": "code",
   "execution_count": null,
   "metadata": {},
   "outputs": [],
   "source": []
  },
  {
   "cell_type": "markdown",
   "metadata": {},
   "source": [
    "### <font color='289C4E'>10) Lineplots parte 1 (**)<font> <a class='anchor' id='10'></a> [↑](#inicio)\n",
    "\n",
    "En clase ha visto lineplots con un ejemplo de regiones. Estas pueden llevar a confusión. Reproduzca el ejemplo visto en clase. Para eso:\n",
    "\n",
    "- Grafique 7 lineplots una para cada año.\n",
    "- Utilize códigos hexadecimales y diferencie bien los colores para no causar confusión.\n",
    "- Establezca los `yticks` y `ylabels`.\n",
    "- Establezca los rótulos de los ejes y el título de la gráfica.\n",
    "\n",
    "La gráfica debería verse similar a la siguiente:\n",
    "<center><img src=\"images/ej10.png\" width=600></center>"
   ]
  },
  {
   "cell_type": "code",
   "execution_count": null,
   "metadata": {},
   "outputs": [],
   "source": []
  },
  {
   "cell_type": "markdown",
   "metadata": {},
   "source": [
    "### <font color='289C4E'>11) Lineplots parte 2 (***)<font> <a class='anchor' id='11'></a> [↑](#inicio)\n",
    "\n",
    "Ahora grafique para una mejor visualización la gráfica anterior pero partiendo cada año en una subplot distinta.\n",
    "\n",
    "- Grafique 7 subplots una para cada año.\n",
    "- Utilize códigos hexadecimales y diferencie bien los colores para no causar confusión.\n",
    "- Establezca los `yticks` y `ylabels`.\n",
    "- Establezca los rótulos de los ejes y el título de la gráfica.\n",
    "\n",
    "La gráfica debería verse similar a la siguiente:\n",
    "<center><img src=\"images/ej11.png\" width=600></center>"
   ]
  },
  {
   "cell_type": "code",
   "execution_count": null,
   "metadata": {},
   "outputs": [],
   "source": []
  },
  {
   "cell_type": "markdown",
   "metadata": {},
   "source": [
    "### <font color='289C4E'>12) Back-to-back bars (***)<font> <a class='anchor' id='12'></a> [↑](#inicio)\n",
    "\n",
    "En clase ha visto back-to-back bars con un ejemplo de causas de muerte para hombres y mujeres. Reproduzca el ejemplo visto en clase. Para eso:\n",
    "\n",
    "- Referénciese a este [ejemplo](https://subscription.packtpub.com/book/big_data_and_business_intelligence/9781849513265/1/ch01lvl1sec18/plotting-back-to-back-bar-charts), el cual le servirá como guía.\n",
    "- Determine los `x_ticks` y `x_labels`.\n",
    "- Determine las `y_ticks` y `y_labels`.\n",
    "- Grafique las barras horizontales back to back para hombres y mujeres.\n",
    "- Establezca los rótulos de cada eje, título y leyenda.\n",
    "- Establezca la grilla vertical gris `dashed`.\n",
    "\n",
    "La gráfica debería verse similar a la siguiente:\n",
    "<center><img src=\"images/ej12.png\" width=800></center>"
   ]
  },
  {
   "cell_type": "code",
   "execution_count": null,
   "metadata": {},
   "outputs": [],
   "source": [
    "diseases = pd.read_csv('./data/diseases.csv', sep=',', index_col='index')\n",
    "diseases"
   ]
  },
  {
   "cell_type": "code",
   "execution_count": null,
   "metadata": {},
   "outputs": [],
   "source": []
  },
  {
   "cell_type": "markdown",
   "metadata": {},
   "source": [
    "### <font color='289C4E'>13) Violin plots (*)<font> <a class='anchor' id='13'></a> [↑](#inicio)\n",
    "\n",
    "Las violin plots suelen usarse como una alternativa más descriptiva a las boxplots. Usualmente es utilizada para visualizar distribuciones de datos. Las violin plots además de ofrecer estadísticas descriptivas generales como la media, mediana y cuartiles ofrece la distribución misma de los datos. A continuación, utilize el dataset que se encuentra en la siguiente celda, el cual contiene 4 distribuciones normales y grafíquelas mediante violin plots en una sola gráfica.\n",
    "\n",
    "- Documentación de matplotlib sobre [violin plots](https://matplotlib.org/3.3.1/api/_as_gen/matplotlib.axes.Axes.violinplot.html).\n",
    "\n",
    "La gráfica debería verse similar a la siguiente:\n",
    "<center><img src=\"./images/ej13.png\" width=600></center>"
   ]
  },
  {
   "cell_type": "code",
   "execution_count": null,
   "metadata": {},
   "outputs": [],
   "source": [
    "data = pd.read_csv('./data/distributions.csv', sep=',')\n",
    "data"
   ]
  },
  {
   "cell_type": "code",
   "execution_count": null,
   "metadata": {},
   "outputs": [],
   "source": []
  },
  {
   "cell_type": "markdown",
   "metadata": {},
   "source": [
    "### <font color='289C4E'>14) Intervalos de confianza (*)<font> <a class='anchor' id='14'></a> [↑](#inicio)\n",
    "\n",
    "Al realizar estimaciones es frecuente añadir un intervalo de confianza en nuestras mediciones. A continuación, corra la siguiente celda, la cual contiene un dataset de las ventas estimadas en el correr del tiempo por medio de un algoritmo (como podrá ver los días no son discretos). A estas estimaciones deben serles añadidas un intervalo de confianza por medio de la siguiente fórmula:\n",
    "\n",
    "$$ I.C = 1,96 . \\frac{\\sigma}{\\mu} $$\n",
    "\n",
    "- Grafique las ventas estimadas en el correr del tiempo.\n",
    "- Añada en sombreado el intervalo de confianza. **Tip:** `ax.fill_between()`\n",
    "- Añadale a la gráfica rótulos y el título.\n",
    "\n",
    "La gráfica debería verse similar a la siguiente:\n",
    "<center><img src=\"images/ej14.png\" width=400></center>"
   ]
  },
  {
   "cell_type": "code",
   "execution_count": null,
   "metadata": {},
   "outputs": [],
   "source": [
    "estimates = pd.read_csv('./data/estimates.csv', sep=',')\n",
    "estimates.head()"
   ]
  },
  {
   "cell_type": "code",
   "execution_count": null,
   "metadata": {},
   "outputs": [],
   "source": []
  },
  {
   "cell_type": "markdown",
   "metadata": {},
   "source": [
    "### <font color='289C4E'>15) Error bars (**)<font> <a class='anchor' id='15'></a> [↑](#inicio)\n",
    "\n",
    "Las gráficas con error bars son efectivas para presentar errores estimados, desviaciones, intervalos de confianza, etc. En clase, usted ha visto ejemplos de error bars para un caso de efectividad de 3 distintos programas. Reproduzca la gráfica vista en clase. Para eso:\n",
    "\n",
    "- Sírvase de los datos que le son ofrecidos a continuación en la siguiente celda.\n",
    "- Referénciese al siguiente [ejemplo](https://matplotlib.org/3.3.1/api/_as_gen/matplotlib.pyplot.errorbar.html).\n",
    "- Agregue `xticks`, `xlabels`, `yticks` y `ylabels`.\n",
    "- Grafique cada punto por separado pero en la misma gráfica.\n",
    "- Utilize la función `ax.annotate()` para posicionar textos con los porcentajes en la gráfica.\n",
    "- Establezca los límites de la gráfica.\n",
    "- Establezca el título de la gráfica.\n",
    "- Establezca una grilla horizontal para la gráfica.\n",
    "\n",
    "La gráfica debería verse similar a la siguiente:\n",
    "<center><img src=\"images/ej15.png\" width=600></center>"
   ]
  },
  {
   "cell_type": "code",
   "execution_count": null,
   "metadata": {},
   "outputs": [],
   "source": [
    "x = [1, 2, 3]\n",
    "dy = [0.05, 0.07, 0.05]\n",
    "y = [0.35, 0.30, 0.40]"
   ]
  },
  {
   "cell_type": "code",
   "execution_count": null,
   "metadata": {},
   "outputs": [],
   "source": []
  }
 ],
 "metadata": {
  "kernelspec": {
   "display_name": "Python 3 (ipykernel)",
   "language": "python",
   "name": "python3"
  },
  "language_info": {
   "codemirror_mode": {
    "name": "ipython",
    "version": 3
   },
   "file_extension": ".py",
   "mimetype": "text/x-python",
   "name": "python",
   "nbconvert_exporter": "python",
   "pygments_lexer": "ipython3",
   "version": "3.9.7"
  }
 },
 "nbformat": 4,
 "nbformat_minor": 2
}
