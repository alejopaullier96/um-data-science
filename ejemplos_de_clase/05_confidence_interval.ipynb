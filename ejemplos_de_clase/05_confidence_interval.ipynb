{
 "cells": [
  {
   "cell_type": "markdown",
   "metadata": {},
   "source": [
    "<h1 align=\"center\">Intervalos de confianza con manzanas</h1>\n",
    "</center><img src=\"https://i2.wp.com/4f7bg01yl3z03jojs41hgo8k-wpengine.netdna-ssl.com/wp-content/uploads/2016/10/HF160920_Global_Blog_All_About_Apples_15_low.jpg?ssl=1\" width=600></center>\n"
   ]
  },
  {
   "cell_type": "code",
   "execution_count": 3,
   "metadata": {},
   "outputs": [],
   "source": [
    "def sep():\n",
    "    print(\"*\"*100)"
   ]
  },
  {
   "cell_type": "code",
   "execution_count": 3,
   "metadata": {},
   "outputs": [
    {
     "name": "stdout",
     "output_type": "stream",
     "text": [
      "Initial samples stats   : mean = 0.2178 stdv = 5.4283\n",
      "True zero samples stats : mean = -0.0000 stdv = 5.4283\n",
      "Scaled samples stats    : mean = 0.0000 stdv = 6.2000\n",
      "Final samples stats     : mean = 86.0000 stdv = 6.2000\n"
     ]
    }
   ],
   "source": [
    "import numpy as np\n",
    "\n",
    "num_samples = 46\n",
    "desired_mean = 86\n",
    "desired_std_dev = 6.2\n",
    "\n",
    "samples = np.random.normal(loc=0.0, scale=desired_std_dev, size=num_samples)\n",
    "\n",
    "actual_mean = np.mean(samples)\n",
    "actual_std = np.std(samples)\n",
    "print(\"Initial samples stats   : mean = {:.4f} stdv = {:.4f}\".format(actual_mean, actual_std))\n",
    "\n",
    "zero_mean_samples = samples - (actual_mean)\n",
    "\n",
    "zero_mean_mean = np.mean(zero_mean_samples)\n",
    "zero_mean_std = np.std(zero_mean_samples)\n",
    "print(\"True zero samples stats : mean = {:.4f} stdv = {:.4f}\".format(zero_mean_mean, zero_mean_std))\n",
    "\n",
    "scaled_samples = zero_mean_samples * (desired_std_dev/zero_mean_std)\n",
    "scaled_mean = np.mean(scaled_samples)\n",
    "scaled_std = np.std(scaled_samples)\n",
    "print(\"Scaled samples stats    : mean = {:.4f} stdv = {:.4f}\".format(scaled_mean, scaled_std))\n",
    "\n",
    "final_samples = scaled_samples + desired_mean\n",
    "final_mean = np.mean(final_samples)\n",
    "final_std = np.std(final_samples)\n",
    "print(\"Final samples stats     : mean = {:.4f} stdv = {:.4f}\".format(final_mean, final_std))"
   ]
  },
  {
   "cell_type": "code",
   "execution_count": 5,
   "metadata": {},
   "outputs": [
    {
     "name": "stdout",
     "output_type": "stream",
     "text": [
      "[82.0311766  95.10723609 97.4268164  90.44936584 95.70401503 87.1822088\n",
      " 84.1563915  88.29047345 88.38770787 85.62775699 89.24348115 85.27700156\n",
      " 92.8235798  81.91094438 82.35646483 79.52384529 81.8053227  85.76167479\n",
      " 94.33666539 87.34578875 91.15910461 92.8411923  85.907493   79.21980107\n",
      " 77.47563883 83.78371165 89.88370397 88.03473913 85.26754514 88.19901697\n",
      " 95.59538864 82.52679636 81.2956947  79.29719099 97.14592812 81.75131117\n",
      " 85.154452   86.93938529 82.93607434 81.20339159 80.60266973 82.89389381\n",
      " 62.43853415 87.31782744 89.78621141 82.59538636]\n",
      "Scaled samples stats    : mean = 86.0000 stdv = 6.2000\n"
     ]
    }
   ],
   "source": [
    "apples = final_samples\n",
    "print(apples)\n",
    "mean = np.mean(apples)\n",
    "std = np.std(apples)\n",
    "print(\"Scaled samples stats    : mean = {:.4f} stdv = {:.4f}\".format(mean, std))"
   ]
  },
  {
   "cell_type": "code",
   "execution_count": 6,
   "metadata": {},
   "outputs": [
    {
     "data": {
      "text/plain": [
       "(86.0, 84.13848220602414, 87.86151779397586)"
      ]
     },
     "execution_count": 6,
     "metadata": {},
     "output_type": "execute_result"
    }
   ],
   "source": [
    "import scipy.stats\n",
    "\n",
    "\n",
    "def mean_confidence_interval(data, confidence=0.95):\n",
    "    a = 1.0 * np.array(data)\n",
    "    n = len(a)\n",
    "    m, se = np.mean(a), scipy.stats.sem(a)\n",
    "    h = se * scipy.stats.t.ppf((1 + confidence) / 2., n-1)\n",
    "    return m, m-h, m+h\n",
    "\n",
    "mean_confidence_interval(apples, confidence=0.95)"
   ]
  },
  {
   "cell_type": "markdown",
   "metadata": {},
   "source": [
    "<h1 align=\"center\">Chi-cuadrado</h1>\n",
    "</center><img src=\"https://ib.bioninja.com.au/_Media/chi-table_med.jpeg\" width=600></center>"
   ]
  },
  {
   "cell_type": "markdown",
   "metadata": {},
   "source": [
    "<h1 align=\"center\">Chi-cuadrado con monedas</h1>\n",
    "</center><img src=\"https://images.unsplash.com/photo-1567427018369-9216e43df052?ixid=MXwxMjA3fDB8MHxzZWFyY2h8M3x8Y29pbnN8ZW58MHx8MHw%3D&ixlib=rb-1.2.1&w=1000&q=80\" width=600></center>\n"
   ]
  },
  {
   "cell_type": "code",
   "execution_count": 16,
   "metadata": {},
   "outputs": [
    {
     "name": "stdout",
     "output_type": "stream",
     "text": [
      "Chi: 0.72\n",
      "****************************************************************************************************\n",
      "p-value: 0.3961439091520741\n",
      "****************************************************************************************************\n",
      "Independent (H0 holds true)\n"
     ]
    }
   ],
   "source": [
    "from scipy.stats import chisquare\n",
    "\n",
    "# defining the table\n",
    "valores_observados = [28, 22]\n",
    "valores_estimados = [25, 25]\n",
    "chi_stat, p_value = chisquare(valores_observados, valores_estimados)  \n",
    "    \n",
    "# interpret p-value\n",
    "print(\"Chi: {}\".format(chi_stat))\n",
    "sep()\n",
    "print(\"p-value: {}\".format(p_value))\n",
    "sep()\n",
    "\n",
    "alpha = 0.05\n",
    "\n",
    "if p_value <= alpha:\n",
    "    print('Dependent (reject H0)')\n",
    "else:\n",
    "    print('Independent (H0 holds true)')"
   ]
  },
  {
   "cell_type": "markdown",
   "metadata": {},
   "source": [
    "<h1 align=\"center\">Chi-cuadrado con dados</h1>\n",
    "</center><img src=\"https://free4kwallpapers.com/uploads/originals/2018/10/08/dice-wallpaper.jpg\" width=600></center>"
   ]
  },
  {
   "cell_type": "code",
   "execution_count": 79,
   "metadata": {},
   "outputs": [
    {
     "name": "stdout",
     "output_type": "stream",
     "text": [
      "Chi: 9.666666666666666\n",
      "****************************************************************************************************\n",
      "p-value: 0.08525020077588863\n",
      "****************************************************************************************************\n",
      "Independent (H0 holds true)\n"
     ]
    }
   ],
   "source": [
    "from scipy.stats import chisquare\n",
    "\n",
    "# defining the table\n",
    "dof = (2-1)*(6-1)\n",
    "valores_observados = [2,4,8,9,3,10]\n",
    "valores_estimados = [6,6,6,6,6,6]\n",
    "chi_stat, p_value = chisquare(valores_observados,\n",
    "                              valores_estimados)  \n",
    "    \n",
    "# interpret p-value\n",
    "print(\"Chi: {}\".format(chi_stat))\n",
    "sep()\n",
    "print(\"p-value: {}\".format(p_value))\n",
    "sep()\n",
    "\n",
    "alpha = 0.05\n",
    "\n",
    "if p_value <= alpha:\n",
    "    print('Dependent (reject H0)')\n",
    "else:\n",
    "    print('Independent (H0 holds true)')"
   ]
  },
  {
   "cell_type": "code",
   "execution_count": 14,
   "metadata": {},
   "outputs": [
    {
     "name": "stdout",
     "output_type": "stream",
     "text": [
      "Chi: 4.0\n",
      "****************************************************************************************************\n",
      "p-value: 0.04550026389635857\n",
      "****************************************************************************************************\n",
      "Dependent (reject H0)\n"
     ]
    }
   ],
   "source": [
    "from scipy.stats import chisquare\n",
    "\n",
    "# defining the table\n",
    "valores_observados = [[30,20],[20,30]]\n",
    "valores_estimados = [[25,25],[25,25]]\n",
    "chi_stat, p_value = chisquare(f_obs = valores_observados,\n",
    "                              f_exp = valores_estimados,\n",
    "                              ddof = 2,\n",
    "                              axis = None)  \n",
    "    \n",
    "# interpret p-value\n",
    "print(\"Chi: {}\".format(chi_stat))\n",
    "sep()\n",
    "print(\"p-value: {}\".format(p_value))\n",
    "sep()\n",
    "\n",
    "alpha = 0.05\n",
    "\n",
    "if p_value <= alpha:\n",
    "    print('Dependent (reject H0)')\n",
    "else:\n",
    "    print('Independent (H0 holds true)')"
   ]
  },
  {
   "cell_type": "markdown",
   "metadata": {},
   "source": [
    "### Dado de 12 caras"
   ]
  },
  {
   "cell_type": "code",
   "execution_count": 80,
   "metadata": {},
   "outputs": [
    {
     "name": "stdout",
     "output_type": "stream",
     "text": [
      "Total de experimentos realizados: 12000\n",
      "****************************************************************************************************\n",
      "Valores observados: [974, 1013, 1028, 1052, 955, 1006, 965, 972, 1007, 1023, 1017, 988]\n",
      "****************************************************************************************************\n",
      "Valores estimados: [1000, 1000, 1000, 1000, 1000, 1000, 1000, 1000, 1000, 1000, 1000, 1000]\n",
      "Chi: 9.414\n",
      "****************************************************************************************************\n",
      "p-value: 0.5837355847200595\n",
      "****************************************************************************************************\n",
      "Independent (H0 holds true)\n"
     ]
    }
   ],
   "source": [
    "import numpy as np\n",
    "import collections\n",
    "\n",
    "from scipy.stats import chisquare\n",
    "\n",
    "trials = 12000\n",
    "faces = 12\n",
    "dices = np.random.randint(low = 1,\n",
    "                         high = faces+1,\n",
    "                         size = trials)\n",
    "\n",
    "counter = collections.Counter(dices)\n",
    "valores_observados = list(counter.values())\n",
    "valores_estimados = [int(trials/faces)]*faces\n",
    "    \n",
    "print(\"Total de experimentos realizados: {}\".format(sum(valores_observados)))\n",
    "sep()\n",
    "print(\"Valores observados: {}\".format(valores_observados))\n",
    "sep()\n",
    "print(\"Valores estimados: {}\".format(valores_estimados))\n",
    "\n",
    "chi_stat, p_value = chisquare(valores_observados, valores_estimados)\n",
    "\n",
    "print(\"Chi: {}\".format(chi_stat))\n",
    "sep()\n",
    "print(\"p-value: {}\".format(p_value))\n",
    "sep()\n",
    "\n",
    "alpha = 0.05\n",
    "\n",
    "if p_value <= alpha:\n",
    "    print('Dependent (reject H0)')\n",
    "else:\n",
    "    print('Independent (H0 holds true)')"
   ]
  },
  {
   "cell_type": "markdown",
   "metadata": {},
   "source": [
    "### Dado de 12 caras sesgado"
   ]
  },
  {
   "cell_type": "code",
   "execution_count": 97,
   "metadata": {},
   "outputs": [
    {
     "name": "stdout",
     "output_type": "stream",
     "text": [
      "Total de experimentos realizados: 120\n",
      "****************************************************************************************************\n",
      "Valores observados: [11, 15, 18, 11, 4, 5, 8, 15, 7, 8, 12, 6]\n",
      "****************************************************************************************************\n",
      "Valores estimados: [10, 10, 10, 10, 10, 10, 10, 10, 10, 10, 10, 10]\n",
      "Chi: 21.4\n",
      "****************************************************************************************************\n",
      "p-value: 0.029455991090165515\n",
      "****************************************************************************************************\n",
      "Dependent (reject H0)\n"
     ]
    }
   ],
   "source": [
    "import numpy as np\n",
    "import collections\n",
    "\n",
    "from scipy.stats import chisquare\n",
    "\n",
    "trials = 120\n",
    "faces = 12\n",
    "dices = np.random.normal(loc = faces/2,\n",
    "                         scale = 3,\n",
    "                         size = trials)\n",
    "for i in range(0,len(dices)):\n",
    "    if dices[i]>12:\n",
    "        dices[i] = 12\n",
    "    elif dices[i]<1:\n",
    "        dices[i] = 1\n",
    "    else:\n",
    "        dices[i] = int(dices[i])\n",
    "\n",
    "dices = [int(dice) for dice in dices]\n",
    "counter = collections.Counter(dices)\n",
    "valores_observados = list(counter.values())\n",
    "valores_estimados = [int(trials/faces)]*faces\n",
    "    \n",
    "print(\"Total de experimentos realizados: {}\".format(sum(valores_observados)))\n",
    "sep()\n",
    "print(\"Valores observados: {}\".format(valores_observados))\n",
    "sep()\n",
    "print(\"Valores estimados: {}\".format(valores_estimados))\n",
    "\n",
    "chi_stat, p_value = chisquare(valores_observados, valores_estimados)\n",
    "\n",
    "print(\"Chi: {}\".format(chi_stat))\n",
    "sep()\n",
    "print(\"p-value: {}\".format(p_value))\n",
    "sep()\n",
    "\n",
    "alpha = 0.05\n",
    "\n",
    "if p_value <= alpha:\n",
    "    print('Dependent (reject H0)')\n",
    "else:\n",
    "    print('Independent (H0 holds true)')"
   ]
  },
  {
   "cell_type": "code",
   "execution_count": null,
   "metadata": {},
   "outputs": [],
   "source": [
    "import matplotlib.pyplot as plt\n",
    "trials = 200\n",
    "faces = 12\n",
    "\n",
    "def large_numbers(faces, trials):\n",
    "    dices = np.random.randint(low = 1,\n",
    "                             high = faces+1,\n",
    "                             size = trials)\n",
    "\n",
    "    counter = collections.Counter(dices)\n",
    "    valores_observados = list(counter.values())\n",
    "    valores_estimados = [int(trials/faces)]*faces\n",
    "\n",
    "    chi_stat, p_value = chisquare(valores_observados, valores_estimados)\n",
    "    \n",
    "    return p_value\n",
    "\n",
    "p_values = []\n",
    "trials = []\n",
    "\n",
    "for i in range(100,10000,1):\n",
    "    p_values.append(large_numbers(12, i))\n",
    "    trials.append(i)"
   ]
  },
  {
   "cell_type": "code",
   "execution_count": 90,
   "metadata": {},
   "outputs": [
    {
     "name": "stdout",
     "output_type": "stream",
     "text": [
      "Total de experimentos realizados: 60\n",
      "****************************************************************************************************\n",
      "Valores observados: [3, 2, 6, 5, 3, 4, 6, 6, 9, 4, 5, 7]\n",
      "****************************************************************************************************\n",
      "Valores estimados: [5, 5, 5, 5, 5, 5, 5, 5, 5, 5, 5, 5]\n",
      "Chi: 8.4\n",
      "****************************************************************************************************\n",
      "p-value: 0.677087340426279\n",
      "****************************************************************************************************\n",
      "Independent (H0 holds true)\n"
     ]
    }
   ],
   "source": [
    "trials = 60\n",
    "faces = 12\n",
    "dices = np.random.randint(low = 1,\n",
    "                         high = faces+1,\n",
    "                         size = trials)\n",
    "\n",
    "counter = collections.Counter(dices)\n",
    "valores_observados = list(counter.values())\n",
    "valores_estimados = [int(trials/faces)]*faces\n",
    "    \n",
    "print(\"Total de experimentos realizados: {}\".format(sum(valores_observados)))\n",
    "sep()\n",
    "print(\"Valores observados: {}\".format(valores_observados))\n",
    "sep()\n",
    "print(\"Valores estimados: {}\".format(valores_estimados))\n",
    "\n",
    "chi_stat, p_value = chisquare(valores_observados, valores_estimados)\n",
    "\n",
    "print(\"Chi: {}\".format(chi_stat))\n",
    "sep()\n",
    "print(\"p-value: {}\".format(p_value))\n",
    "sep()\n",
    "\n",
    "alpha = 0.05\n",
    "\n",
    "if p_value <= alpha:\n",
    "    print('Dependent (reject H0)')\n",
    "else:\n",
    "    print('Independent (H0 holds true)')"
   ]
  }
 ],
 "metadata": {
  "kernelspec": {
   "display_name": "Python 3",
   "language": "python",
   "name": "python3"
  },
  "language_info": {
   "codemirror_mode": {
    "name": "ipython",
    "version": 3
   },
   "file_extension": ".py",
   "mimetype": "text/x-python",
   "name": "python",
   "nbconvert_exporter": "python",
   "pygments_lexer": "ipython3",
   "version": "3.7.4"
  }
 },
 "nbformat": 4,
 "nbformat_minor": 2
}
