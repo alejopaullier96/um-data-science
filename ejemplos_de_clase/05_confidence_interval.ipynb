{
 "cells": [
  {
   "cell_type": "markdown",
   "metadata": {},
   "source": [
    "<h1 align=\"center\">Intervalos de confianza con manzanas</h1>\n",
    "</center><img src=\"https://i2.wp.com/4f7bg01yl3z03jojs41hgo8k-wpengine.netdna-ssl.com/wp-content/uploads/2016/10/HF160920_Global_Blog_All_About_Apples_15_low.jpg?ssl=1\" width=600></center>\n"
   ]
  },
  {
   "cell_type": "code",
   "execution_count": 1,
   "metadata": {},
   "outputs": [],
   "source": [
    "def sep():\n",
    "    print(\"-\"*100)"
   ]
  },
  {
   "cell_type": "code",
   "execution_count": 3,
   "metadata": {},
   "outputs": [
    {
     "name": "stdout",
     "output_type": "stream",
     "text": [
      "Estadísticas de la muestra inicial   : media = 0.7839 std = 5.8842\n",
      "Estadísticas de la muestra centrada : media = 0.0000 std = 5.8842\n",
      "Estadísticas de la muestra escalada    : media = 0.0000 std = 6.2000\n",
      "Estadísticas de la muestra final     : media = 86.0000 stdv = 6.2000\n"
     ]
    }
   ],
   "source": [
    "import numpy as np\n",
    "\n",
    "num_samples = 46\n",
    "desired_mean = 86\n",
    "desired_std_dev = 6.2\n",
    "\n",
    "samples = np.random.normal(loc=0.0, scale=desired_std_dev, size=num_samples)\n",
    "\n",
    "actual_mean = np.mean(samples)\n",
    "actual_std = np.std(samples)\n",
    "print(\"Estadísticas de la muestra inicial   : media = {:.4f} std = {:.4f}\".format(actual_mean, actual_std))\n",
    "\n",
    "zero_mean_samples = samples - (actual_mean)\n",
    "\n",
    "zero_mean_mean = np.mean(zero_mean_samples)\n",
    "zero_mean_std = np.std(zero_mean_samples)\n",
    "print(\"Estadísticas de la muestra centrada : media = {:.4f} std = {:.4f}\".format(zero_mean_mean, zero_mean_std))\n",
    "\n",
    "scaled_samples = zero_mean_samples * (desired_std_dev/zero_mean_std)\n",
    "scaled_mean = np.mean(scaled_samples)\n",
    "scaled_std = np.std(scaled_samples)\n",
    "print(\"Estadísticas de la muestra escalada    : media = {:.4f} std = {:.4f}\".format(scaled_mean, scaled_std))\n",
    "\n",
    "final_samples = scaled_samples + desired_mean\n",
    "final_mean = np.mean(final_samples)\n",
    "final_std = np.std(final_samples)\n",
    "print(\"Estadísticas de la muestra final     : media = {:.4f} stdv = {:.4f}\".format(final_mean, final_std))"
   ]
  },
  {
   "cell_type": "code",
   "execution_count": 11,
   "metadata": {},
   "outputs": [
    {
     "name": "stdout",
     "output_type": "stream",
     "text": [
      "[86.54576203 93.30221042 85.98141981 82.46968163 89.32068151 88.62813955\n",
      " 77.53330776 87.99031365 98.93622922 90.38068113 88.23094224 90.10106213\n",
      " 92.63141193 82.00417828 76.35090549 81.73083204 87.38049889 87.25155758\n",
      " 75.11504944 87.62195093 88.38472076 84.27169278 87.89481515 79.97309771\n",
      " 98.98040656 79.97218337 87.0865399  85.0243905  87.54091829 85.20201035\n",
      " 76.97143118 97.12854928 78.29480322 73.31993718 89.42658155 88.50093551\n",
      " 86.8232597  92.88546167 90.06662202 79.99310467 87.34980894 78.24437021\n",
      " 76.21856707 97.21285882 87.6603606  82.06575736]\n",
      "Scaled samples stats    : mean = 86.0000 stdv = 6.2000\n"
     ]
    }
   ],
   "source": [
    "apples = final_samples\n",
    "print(apples)\n",
    "mean = np.mean(apples)\n",
    "std = np.std(apples)\n",
    "print(\"Scaled samples stats    : mean = {:.4f} stdv = {:.4f}\".format(mean, std))"
   ]
  },
  {
   "cell_type": "code",
   "execution_count": 13,
   "metadata": {},
   "outputs": [
    {
     "data": {
      "text/plain": [
       "(85.99999999999999, 84.13848220228321, 87.86151779771676)"
      ]
     },
     "execution_count": 13,
     "metadata": {},
     "output_type": "execute_result"
    }
   ],
   "source": [
    "import scipy.stats\n",
    "\n",
    "\n",
    "def mean_confidence_interval(data, confidence=0.95):\n",
    "    a = 1.0 * np.array(data)\n",
    "    n = len(a)\n",
    "    m, se = np.mean(a), scipy.stats.sem(a)\n",
    "    h = se * scipy.stats.t.ppf((1 + confidence) / 2., n-1)\n",
    "    return m, m-h, m+h\n",
    "\n",
    "mean_confidence_interval(apples, confidence=0.95)"
   ]
  },
  {
   "cell_type": "markdown",
   "metadata": {},
   "source": [
    "<h1 align=\"center\">Chi-cuadrado</h1>\n",
    "</center><img src=\"https://ib.bioninja.com.au/_Media/chi-table_med.jpeg\" width=600></center>"
   ]
  },
  {
   "cell_type": "markdown",
   "metadata": {},
   "source": [
    "<h1 align=\"center\">Chi-cuadrado con monedas</h1>\n",
    "</center><img src=\"https://images.unsplash.com/photo-1567427018369-9216e43df052?ixid=MXwxMjA3fDB8MHxzZWFyY2h8M3x8Y29pbnN8ZW58MHx8MHw%3D&ixlib=rb-1.2.1&w=1000&q=80\" width=600></center>\n"
   ]
  },
  {
   "cell_type": "code",
   "execution_count": 15,
   "metadata": {},
   "outputs": [
    {
     "name": "stdout",
     "output_type": "stream",
     "text": [
      "Chi: 0.72\n",
      "----------------------------------------------------------------------------------------------------\n",
      "p-value: 0.3961439091520741\n",
      "----------------------------------------------------------------------------------------------------\n",
      "Independent (H0 holds true)\n"
     ]
    }
   ],
   "source": [
    "from scipy.stats import chisquare\n",
    "\n",
    "# defining the table\n",
    "valores_observados = [28, 22]\n",
    "valores_estimados = [25, 25]\n",
    "chi_stat, p_value = chisquare(valores_observados, valores_estimados)  \n",
    "    \n",
    "# interpret p-value\n",
    "print(\"Chi: {}\".format(chi_stat))\n",
    "sep()\n",
    "print(\"p-value: {}\".format(p_value))\n",
    "sep()\n",
    "\n",
    "alpha = 0.05\n",
    "\n",
    "if p_value <= alpha:\n",
    "    print('Dependent (reject H0)')\n",
    "else:\n",
    "    print('Independent (H0 holds true)')"
   ]
  },
  {
   "cell_type": "markdown",
   "metadata": {},
   "source": [
    "<h1 align=\"center\">Chi-cuadrado con dados</h1>\n",
    "</center><img src=\"https://free4kwallpapers.com/uploads/originals/2018/10/08/dice-wallpaper.jpg\" width=600></center>"
   ]
  },
  {
   "cell_type": "code",
   "execution_count": 17,
   "metadata": {},
   "outputs": [
    {
     "name": "stdout",
     "output_type": "stream",
     "text": [
      "Chi: 9.666666666666666\n",
      "----------------------------------------------------------------------------------------------------\n",
      "p-value: 0.08525020077588856\n",
      "----------------------------------------------------------------------------------------------------\n",
      "Independent (H0 holds true)\n"
     ]
    }
   ],
   "source": [
    "from scipy.stats import chisquare\n",
    "\n",
    "# defining the table\n",
    "dof = (2-1)*(6-1)\n",
    "valores_observados = [2,4,8,9,3,10]\n",
    "valores_estimados = [6,6,6,6,6,6]\n",
    "chi_stat, p_value = chisquare(valores_observados,\n",
    "                              valores_estimados)  \n",
    "    \n",
    "# interpret p-value\n",
    "print(\"Chi: {}\".format(chi_stat))\n",
    "sep()\n",
    "print(\"p-value: {}\".format(p_value))\n",
    "sep()\n",
    "\n",
    "alpha = 0.05\n",
    "\n",
    "if p_value <= alpha:\n",
    "    print('Dependent (reject H0)')\n",
    "else:\n",
    "    print('Independent (H0 holds true)')"
   ]
  },
  {
   "cell_type": "code",
   "execution_count": 14,
   "metadata": {},
   "outputs": [
    {
     "name": "stdout",
     "output_type": "stream",
     "text": [
      "Chi: 4.0\n",
      "****************************************************************************************************\n",
      "p-value: 0.04550026389635857\n",
      "****************************************************************************************************\n",
      "Dependent (reject H0)\n"
     ]
    }
   ],
   "source": [
    "from scipy.stats import chisquare\n",
    "\n",
    "# defining the table\n",
    "valores_observados = [[30,20],[20,30]]\n",
    "valores_estimados = [[25,25],[25,25]]\n",
    "chi_stat, p_value = chisquare(f_obs = valores_observados,\n",
    "                              f_exp = valores_estimados,\n",
    "                              ddof = 2,\n",
    "                              axis = None)  \n",
    "    \n",
    "# interpret p-value\n",
    "print(\"Chi: {}\".format(chi_stat))\n",
    "sep()\n",
    "print(\"p-value: {}\".format(p_value))\n",
    "sep()\n",
    "\n",
    "alpha = 0.05\n",
    "\n",
    "if p_value <= alpha:\n",
    "    print('Dependent (reject H0)')\n",
    "else:\n",
    "    print('Independent (H0 holds true)')"
   ]
  },
  {
   "cell_type": "markdown",
   "metadata": {},
   "source": [
    "### Dado de 12 caras"
   ]
  },
  {
   "cell_type": "code",
   "execution_count": 80,
   "metadata": {},
   "outputs": [
    {
     "name": "stdout",
     "output_type": "stream",
     "text": [
      "Total de experimentos realizados: 12000\n",
      "****************************************************************************************************\n",
      "Valores observados: [974, 1013, 1028, 1052, 955, 1006, 965, 972, 1007, 1023, 1017, 988]\n",
      "****************************************************************************************************\n",
      "Valores estimados: [1000, 1000, 1000, 1000, 1000, 1000, 1000, 1000, 1000, 1000, 1000, 1000]\n",
      "Chi: 9.414\n",
      "****************************************************************************************************\n",
      "p-value: 0.5837355847200595\n",
      "****************************************************************************************************\n",
      "Independent (H0 holds true)\n"
     ]
    }
   ],
   "source": [
    "import numpy as np\n",
    "import collections\n",
    "\n",
    "from scipy.stats import chisquare\n",
    "\n",
    "trials = 12000\n",
    "faces = 12\n",
    "dices = np.random.randint(low = 1,\n",
    "                         high = faces+1,\n",
    "                         size = trials)\n",
    "\n",
    "counter = collections.Counter(dices)\n",
    "valores_observados = list(counter.values())\n",
    "valores_estimados = [int(trials/faces)]*faces\n",
    "    \n",
    "print(\"Total de experimentos realizados: {}\".format(sum(valores_observados)))\n",
    "sep()\n",
    "print(\"Valores observados: {}\".format(valores_observados))\n",
    "sep()\n",
    "print(\"Valores estimados: {}\".format(valores_estimados))\n",
    "\n",
    "chi_stat, p_value = chisquare(valores_observados, valores_estimados)\n",
    "\n",
    "print(\"Chi: {}\".format(chi_stat))\n",
    "sep()\n",
    "print(\"p-value: {}\".format(p_value))\n",
    "sep()\n",
    "\n",
    "alpha = 0.05\n",
    "\n",
    "if p_value <= alpha:\n",
    "    print('Dependent (reject H0)')\n",
    "else:\n",
    "    print('Independent (H0 holds true)')"
   ]
  },
  {
   "cell_type": "markdown",
   "metadata": {},
   "source": [
    "### Dado de 12 caras sesgado"
   ]
  },
  {
   "cell_type": "code",
   "execution_count": 97,
   "metadata": {},
   "outputs": [
    {
     "name": "stdout",
     "output_type": "stream",
     "text": [
      "Total de experimentos realizados: 120\n",
      "****************************************************************************************************\n",
      "Valores observados: [11, 15, 18, 11, 4, 5, 8, 15, 7, 8, 12, 6]\n",
      "****************************************************************************************************\n",
      "Valores estimados: [10, 10, 10, 10, 10, 10, 10, 10, 10, 10, 10, 10]\n",
      "Chi: 21.4\n",
      "****************************************************************************************************\n",
      "p-value: 0.029455991090165515\n",
      "****************************************************************************************************\n",
      "Dependent (reject H0)\n"
     ]
    }
   ],
   "source": [
    "import numpy as np\n",
    "import collections\n",
    "\n",
    "from scipy.stats import chisquare\n",
    "\n",
    "trials = 120\n",
    "faces = 12\n",
    "dices = np.random.normal(loc = faces/2,\n",
    "                         scale = 3,\n",
    "                         size = trials)\n",
    "for i in range(0,len(dices)):\n",
    "    if dices[i]>12:\n",
    "        dices[i] = 12\n",
    "    elif dices[i]<1:\n",
    "        dices[i] = 1\n",
    "    else:\n",
    "        dices[i] = int(dices[i])\n",
    "\n",
    "dices = [int(dice) for dice in dices]\n",
    "counter = collections.Counter(dices)\n",
    "valores_observados = list(counter.values())\n",
    "valores_estimados = [int(trials/faces)]*faces\n",
    "    \n",
    "print(\"Total de experimentos realizados: {}\".format(sum(valores_observados)))\n",
    "sep()\n",
    "print(\"Valores observados: {}\".format(valores_observados))\n",
    "sep()\n",
    "print(\"Valores estimados: {}\".format(valores_estimados))\n",
    "\n",
    "chi_stat, p_value = chisquare(valores_observados, valores_estimados)\n",
    "\n",
    "print(\"Chi: {}\".format(chi_stat))\n",
    "sep()\n",
    "print(\"p-value: {}\".format(p_value))\n",
    "sep()\n",
    "\n",
    "alpha = 0.05\n",
    "\n",
    "if p_value <= alpha:\n",
    "    print('Dependent (reject H0)')\n",
    "else:\n",
    "    print('Independent (H0 holds true)')"
   ]
  },
  {
   "cell_type": "code",
   "execution_count": null,
   "metadata": {},
   "outputs": [],
   "source": [
    "import matplotlib.pyplot as plt\n",
    "trials = 200\n",
    "faces = 12\n",
    "\n",
    "def large_numbers(faces, trials):\n",
    "    dices = np.random.randint(low = 1,\n",
    "                             high = faces+1,\n",
    "                             size = trials)\n",
    "\n",
    "    counter = collections.Counter(dices)\n",
    "    valores_observados = list(counter.values())\n",
    "    valores_estimados = [int(trials/faces)]*faces\n",
    "\n",
    "    chi_stat, p_value = chisquare(valores_observados, valores_estimados)\n",
    "    \n",
    "    return p_value\n",
    "\n",
    "p_values = []\n",
    "trials = []\n",
    "\n",
    "for i in range(100,10000,1):\n",
    "    p_values.append(large_numbers(12, i))\n",
    "    trials.append(i)"
   ]
  },
  {
   "cell_type": "code",
   "execution_count": 90,
   "metadata": {},
   "outputs": [
    {
     "name": "stdout",
     "output_type": "stream",
     "text": [
      "Total de experimentos realizados: 60\n",
      "****************************************************************************************************\n",
      "Valores observados: [3, 2, 6, 5, 3, 4, 6, 6, 9, 4, 5, 7]\n",
      "****************************************************************************************************\n",
      "Valores estimados: [5, 5, 5, 5, 5, 5, 5, 5, 5, 5, 5, 5]\n",
      "Chi: 8.4\n",
      "****************************************************************************************************\n",
      "p-value: 0.677087340426279\n",
      "****************************************************************************************************\n",
      "Independent (H0 holds true)\n"
     ]
    }
   ],
   "source": [
    "trials = 60\n",
    "faces = 12\n",
    "dices = np.random.randint(low = 1,\n",
    "                         high = faces+1,\n",
    "                         size = trials)\n",
    "\n",
    "counter = collections.Counter(dices)\n",
    "valores_observados = list(counter.values())\n",
    "valores_estimados = [int(trials/faces)]*faces\n",
    "    \n",
    "print(\"Total de experimentos realizados: {}\".format(sum(valores_observados)))\n",
    "sep()\n",
    "print(\"Valores observados: {}\".format(valores_observados))\n",
    "sep()\n",
    "print(\"Valores estimados: {}\".format(valores_estimados))\n",
    "\n",
    "chi_stat, p_value = chisquare(valores_observados, valores_estimados)\n",
    "\n",
    "print(\"Chi: {}\".format(chi_stat))\n",
    "sep()\n",
    "print(\"p-value: {}\".format(p_value))\n",
    "sep()\n",
    "\n",
    "alpha = 0.05\n",
    "\n",
    "if p_value <= alpha:\n",
    "    print('Dependent (reject H0)')\n",
    "else:\n",
    "    print('Independent (H0 holds true)')"
   ]
  },
  {
   "cell_type": "markdown",
   "metadata": {},
   "source": [
    "# Chi-Square Example\n",
    "\n",
    "To run a $\\chi^2$ (Chi-square) test for independence, we'll compare the observed frequencies in your contingency table to the expected frequencies to determine if there's a significant difference. This test will help us decide whether to reject the null hypothesis $H_0$ that passing an exam is independent of how many hours a student has slept.\n",
    "\n",
    "### Contingency Table\n",
    "\n",
    "Given percentages in the problem:\n",
    "\n",
    "|            | Pass | Fail | Total |\n",
    "|------------|------|------|-------|\n",
    "| **Attended** | 30%  | 20%  | 50%   |\n",
    "| **Skipped**  | 20%  | 30%  | 50%   |\n",
    "| **Total**    | 50%  | 50%  | 100%  |\n",
    "\n",
    "### Expected Frequencies Table\n",
    "\n",
    "If the null hypothesis $H_0$ is true (i.e., passing an exam is independent of how many hours a student has slept), the expected frequencies would be based on the marginal totals:\n",
    "\n",
    "|            | Pass | Fail | Total |\n",
    "|------------|------|------|-------|\n",
    "| **Attended** | 25%  | 25%  | 50%   |\n",
    "| **Skipped**  | 25%  | 25%  | 50%   |\n",
    "| **Total**    | 50%  | 50%  | 100%  |\n",
    "\n",
    "### Chi-Square Test Calculation\n",
    "\n",
    "To compute the $\\chi^2$ test statistic, use the formula:\n",
    "\n",
    "$$\n",
    "\\chi^2 = \\sum \\frac{(O - E)^2}{E}\n",
    "$$\n",
    "\n",
    "where:\n",
    "- \\(O\\) = Observed frequency\n",
    "- \\(E\\) = Expected frequency\n",
    "\n",
    "Let's calculate each term:\n",
    "\n",
    "1. **Observed frequencies:**\n",
    "   - (Attended, Pass): $O_1 = 30\\%$\n",
    "   - (Attended, Fail): $O_2 = 20\\%$\n",
    "   - (Skipped, Pass): $O_3 = 20\\%$\n",
    "   - (Skipped, Fail): $O_4 = 30\\%$\n",
    "\n",
    "2. **Expected frequencies:**\n",
    "   - (Attended, Pass): $E_1 = 25\\%$\n",
    "   - (Attended, Fail): $E_2 = 25\\%$\n",
    "   - (Skipped, Pass): $E_3 = 25\\%$\n",
    "   - (Skipped, Fail): $E_4 = 25\\%$\n",
    "\n",
    "Now, calculate the $\\chi^2$ for each cell:\n",
    "$$\n",
    "\\chi^2 = \\frac{(30 - 25)^2}{25} + \\frac{(20 - 25)^2}{25} + \\frac{(20 - 25)^2}{25} + \\frac{(30 - 25)^2}{25}\n",
    "$$\n",
    "\n",
    "$$\n",
    "\\chi^2 = \\frac{5^2}{25} + \\frac{(-5)^2}{25} + \\frac{(-5)^2}{25} + \\frac{5^2}{25}\n",
    "$$\n",
    "\n",
    "$$\n",
    "\\chi^2 = \\frac{25}{25} + \\frac{25}{25} + \\frac{25}{25} + \\frac{25}{25}\n",
    "$$\n",
    "\n",
    "$$\n",
    "\\chi^2 = 1 + 1 + 1 + 1 = 4\n",
    "$$\n",
    "\n",
    "### Degrees of Freedom (df)\n",
    "\n",
    "For a contingency table, the degrees of freedom are calculated as:\n",
    "\n",
    "$$\n",
    "df = (rows - 1) \\times (columns - 1)\n",
    "$$\n",
    "\n",
    "In this case:\n",
    "\n",
    "$$\n",
    "df = (2 - 1) \\times (2 - 1) = 1\n",
    "$$\n",
    "\n",
    "### Determining the p-value\n",
    "\n",
    "Now we compare the calculated $\\chi^2$ value to the critical value from the Chi-square distribution table for $df = 1$ and a common significance level, such as $\\alpha = 0.05$.\n",
    "\n",
    "From the Chi-square table:\n",
    "\n",
    "- The critical value of $\\chi^2$ for $df = 1$ and $\\alpha = 0.05$ is approximately 3.841.\n",
    "\n",
    "<img src=\"https://www.scribbr.com/wp-content/uploads/2022/05/chi-square-distribution-table.png\" width=500 class=\"center\">\n",
    "\n",
    "### Conclusion\n",
    "\n",
    "- **Calculated $\\chi^2$ = 4**\n",
    "- **Critical $\\chi^2$ = 3.841** (for $\\alpha = 0.05$, $df = 1$)\n",
    "\n",
    "Since the calculated $\\chi^2$ (4) is greater than the critical value (3.841), we **reject the null hypothesis** $H_0$. This means there is sufficient evidence to conclude that passing an exam is related to how many hours a student has slept."
   ]
  },
  {
   "cell_type": "code",
   "execution_count": null,
   "metadata": {},
   "outputs": [],
   "source": []
  }
 ],
 "metadata": {
  "kernelspec": {
   "display_name": "Python 3 (ipykernel)",
   "language": "python",
   "name": "python3"
  },
  "language_info": {
   "codemirror_mode": {
    "name": "ipython",
    "version": 3
   },
   "file_extension": ".py",
   "mimetype": "text/x-python",
   "name": "python",
   "nbconvert_exporter": "python",
   "pygments_lexer": "ipython3",
   "version": "3.12.2"
  }
 },
 "nbformat": 4,
 "nbformat_minor": 4
}
