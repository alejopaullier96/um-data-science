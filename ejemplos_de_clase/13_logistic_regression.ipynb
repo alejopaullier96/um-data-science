{
 "cells": [
  {
   "cell_type": "markdown",
   "metadata": {},
   "source": [
    "<h1 align=\"center\">Regresión Logística</h1>\n",
    "</center><img src=\"https://www.researchgate.net/profile/Knut-Kvaal/publication/239269767/figure/fig2/AS:643520205430784@1530438581076/An-illustration-of-the-signal-processing-in-a-sigmoid-function.png\" width=600></center>\n"
   ]
  },
  {
   "cell_type": "markdown",
   "metadata": {},
   "source": [
    "\n",
    "Intentemos comprender la regresión logística considerando un modelo logístico con parámetros dados, y luego viendo cómo se pueden estimar los coeficientes a partir de los datos. Considere un modelo con dos predictores:\n",
    "$x_{1}$ y $x_{2}$, y una variable de respuesta binaria $Y$ (Bernoulli), que denotaremos como $p=P(Y=1)$. \n",
    "\n",
    "Suponemos una relación lineal entre las variables predictoras y la probabilidad logarítmica (también llamado logit) del evento que $Y=1$. Esta relación lineal se puede escribir en la siguiente forma matemática (donde ℓ es la probabilidad logarítmica, $b$ es la base del logaritmo, y $\\beta _{i}$ son parámetros del modelo:\n",
    "\n",
    "$${\\displaystyle \\ell =\\log _{b}{\\frac {p}{1-p}}=\\beta _{0}+\\beta _{1}x_{1}+\\beta _{2}x_{2}}$$\n",
    "\n",
    "Podemos recuperar las probabilidades exponenciando las probabilidades logarítmicas:\n",
    "\n",
    "$${\\displaystyle {\\frac {p}{1-p}}=b^{\\beta _{0}+\\beta _{1}x_{1}+\\beta _{2}x_{2}}}$$\n",
    "\n",
    "\n",
    "Mediante simple manipulación algebraica (y dividiendo el numerador y el denominador entre\n",
    "\n",
    "$${\\displaystyle b^{\\beta _{0}+\\beta _{1}x_{1}+\\beta _{2}x_{2}}}$$\n",
    "\n",
    "la probabilidad de que $Y=1$ sea: \n",
    "\n",
    "$${\\displaystyle p={\\frac {b^{\\beta _{0}+\\beta _{1}x_{1}+\\beta _{2}x_{2}}}{b^{\\beta _{0}+\\beta _{1}x_{1}+\\beta _{2}x_{2}}+1}}={\\frac {1}{1+b^{-(\\beta _{0}+\\beta _{1}x_{1}+\\beta _{2}x_{2})}}}=S_{b}(\\beta _{0}+\\beta _{1}x_{1}+\\beta _{2}x_{2})}$$\n",
    "\n",
    "\n",
    "Donde $S_{b}$ es la función sigmoidea con base $b$. La fórmula anterior muestra que una vez que $\\beta _ {i}$ son fijos, podemos calcular fácilmente las probabilidades logarítmicas de que $Y = 1$ para una observación determinada, o la probabilidad de que $Y = 1$ para una observación determinada. El caso de uso principal de un modelo logístico es recibir una observación $(x_1, x_2)$ y estimar la probabilidad $p$ de que $Y = 1$. En la mayoría de las aplicaciones, la base $b$ del logaritmo generalmente se toma como e. Sin embargo, en algunos casos puede ser más fácil comunicar los resultados trabajando en base 2 o base 10.\n",
    "\n",
    "Consideramos un ejemplo con $b = 10$ y coeficientes $\\beta_{0} = - 3$, $\\beta _ {1} = 1$ y $\\beta_{2} = 2$. Para ser concreto, el modelo es\n",
    "\n",
    "$${\\displaystyle \\log _{10}{\\frac {p}{1-p}}=\\ell =-3+x_{1}+2x_{2}}$$\n",
    "\n",
    "donde $p$ es la probabilidad de que el evento sea $Y=1$.\n",
    "\n",
    "This can be interpreted as follows:\n",
    "\n",
    "- $\\beta _{0}=-3$ es la intercepción en $y$. Son las probabilidades logarítmicas de que para el evento $Y=1$, cuando los predictores $x_{1}=x_{2}=0$. Exponenciando, podemos ver que $x_{1}=x_{2}=0$ las probabilidades para el evento $Y=1$ son 1 a 1000, o $10^{-3}$. De manera similar, la probabilidad de que el evento sea $Y=1$ cuando $x_{1}=x_{2}=0$ pueden ser calculadas como $\\frac{1}{1000+1} = \\frac{1}{1001}$.\n",
    "\n",
    "- $\\beta _{1}=1$  quiere decir que incrementando $x_{1}$ una unidad 1 incrementa las probabilidades logarítmicas 1. Entonces si $x_{1}$ incrementa en 1, las probabilidades de que $Y=1$ incrementan por un factor de $10^{1}$. Tenga en cuenta que la probabilidad de $Y = 1$ también ha aumentado, pero no ha aumentado tanto como han aumentado las probabilidades.\n",
    "\n",
    "- $\\beta _{2}=2$ quiere decir que incrementando $x_{2}$ dos unidades incrementa las probabilidades logarítmicas en 2. Entonces si $x_{2}$ incrementa en 2, las probabilidades de que $Y=1$ incrementan por un factor de $10^{2}$.  Tenga en cuenta como el efecto de $x_{2}$ en las probabilidades logarítmicas es el doble que el efecto de $x_{1}$, pero el efecto en las probabilidades es 10 veces mayor. Pero el efecto sobre la probabilidad de $Y = 1$ no es 10 veces mayor, es solo el efecto sobre las probabilidades que es 10 veces mayor.\n",
    "\n",
    "Para estimar los parámetros $ \\beta_{i} $ a partir de los datos, se debe hacer una regresión logística."
   ]
  },
  {
   "cell_type": "code",
   "execution_count": 9,
   "metadata": {},
   "outputs": [
    {
     "name": "stdout",
     "output_type": "stream",
     "text": [
      "Caso 1: p = 0.000999000999000999\n",
      "Caso 2: p = 0.009900990099009901\n",
      "Caso 3: p = 0.09090909090909091\n",
      "Caso 3: p = 1.0\n"
     ]
    }
   ],
   "source": [
    "import numpy as np\n",
    "\n",
    "# Para el caso en que b = e\n",
    "def sigmoid(x, betas):\n",
    "    p = 1/(1+np.exp(betas[0]+betas[1]*x[0]+betas[2]*x[1]))\n",
    "    return p\n",
    "\n",
    "# Para el caso en que b = 10\n",
    "def sigmoid(x, betas):\n",
    "    p = 1/(1+10**-(betas[0]+betas[1]*x[0]+betas[2]*x[1]))\n",
    "    return p\n",
    "\n",
    "betas = [-3, 1, 2]\n",
    "x = [0 ,0]\n",
    "print(\"Caso 1: p = {}\".format(sigmoid(x, betas)))\n",
    "\n",
    "betas = [-3, 1, 2]\n",
    "x = [1 ,0]\n",
    "print(\"Caso 2: p = {}\".format(sigmoid(x, betas)))\n",
    "\n",
    "betas = [-3, 1, 2]\n",
    "x = [0 ,1]\n",
    "print(\"Caso 3: p = {}\".format(sigmoid(x, betas)))\n",
    "\n",
    "betas = [-3, 1, 2]\n",
    "x = [0 ,10]\n",
    "print(\"Caso 3: p = {}\".format(sigmoid(x, betas)))"
   ]
  }
 ],
 "metadata": {
  "kernelspec": {
   "display_name": "Python 3",
   "language": "python",
   "name": "python3"
  },
  "language_info": {
   "codemirror_mode": {
    "name": "ipython",
    "version": 3
   },
   "file_extension": ".py",
   "mimetype": "text/x-python",
   "name": "python",
   "nbconvert_exporter": "python",
   "pygments_lexer": "ipython3",
   "version": "3.7.4"
  }
 },
 "nbformat": 4,
 "nbformat_minor": 2
}
