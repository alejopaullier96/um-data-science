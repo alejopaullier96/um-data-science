{
 "cells": [
  {
   "cell_type": "markdown",
   "metadata": {},
   "source": [
    "</center><img src=\"https://www.teachingenglish.org.uk/sites/teacheng/files/styles/large/public/images/revisiting_text_iStock_000015756375XSmall%20%281%29_3.jpg?itok=YSNa9Dvz\" width=600></center>\n",
    "<h1 align=\"center\">Natural Language Processing</h1>\n",
    "<h2 align=\"center\"> <font color='gray'>Regular expressions</font></h2>\n",
    "\n",
    "\n",
    "### Links de utilidad\n",
    "\n",
    "- Link a [regex101.com](https://regex101.com/)\n",
    "- [Video](https://www.youtube.com/watch?v=sa-TUpSx1JA) en el cual se basa la clase.\n",
    "\n",
    "### Por qué usamos expresiones regulares?\n",
    "\n",
    "- Buscar patrones en textos.\n",
    "- Extraer información.\n",
    "- Data parsing (partición de textos).\n",
    "- Filtrado/Eliminación de información.\n",
    "- Pre-procesamiento.\n",
    "- Análisis de sentimientos.\n",
    "\n",
    "### Cheat sheet\n",
    "```\n",
    ".       - Any Character Except New Line\n",
    "\\d      - Digit (0-9)\n",
    "\\D      - Not a Digit (0-9)\n",
    "\\w      - Word Character (a-z, A-Z, 0-9, _)\n",
    "\\W      - Not a Word Character\n",
    "\\s      - Whitespace (space, tab, newline, carriage return) ---> ( , \\t, \\n, \\r)\n",
    "\\S      - Not Whitespace (space, tab, newline, carriage return)\n",
    "\n",
    "\\b      - Word Boundary\n",
    "\\B      - Not a Word Boundary\n",
    "^       - Beginning of a String\n",
    "$       - End of a String\n",
    "\n",
    "[]      - Matches Characters in brackets\n",
    "[^ ]    - Matches Characters NOT in brackets\n",
    "|       - Either Or\n",
    "( )     - Group\n",
    "\n",
    "Quantifiers:\n",
    "*       - 0 or More of the preceding regex token\n",
    "+       - 1 or More of the preceding regex token\n",
    "?       - 0 or One of the preceding regex token\n",
    "{3}     - Exact Number\n",
    "{3,4}   - Range of Numbers (Minimum, Maximum)\n",
    "\n",
    "```\n",
    "\n",
    "Link a funciones:\n",
    "- [re.compile()](https://docs.python.org/3/library/re.html#re.compile): Compile a regular expression pattern into a regular expression object, which can be used for matching using its match(), search() and other methods.\n",
    "- [re.findall()](https://docs.python.org/3/library/re.html#re.findall): Return all non-overlapping matches of pattern in string, as a list of strings. The string is scanned left-to-right, and matches are returned in the order found. If one or more groups are present in the pattern, return a list of groups; this will be a list of tuples if the pattern has more than one group. Empty matches are included in the result."
   ]
  },
  {
   "cell_type": "markdown",
   "metadata": {},
   "source": [
    "### Importamos librerías"
   ]
  },
  {
   "cell_type": "code",
   "execution_count": 1,
   "metadata": {},
   "outputs": [],
   "source": [
    "import regex as re"
   ]
  },
  {
   "cell_type": "markdown",
   "metadata": {},
   "source": [
    "### Texto de búsqueda"
   ]
  },
  {
   "cell_type": "code",
   "execution_count": 3,
   "metadata": {},
   "outputs": [],
   "source": [
    "text_to_search = '''\n",
    "abcdefghijklmnopqurtuvwxyz\n",
    "ABCDEFGHIJKLMNOPQRSTUVWXYZ\n",
    "1234567890\n",
    "Ha HaHa\n",
    "MetaCharacters (Need to be escaped):\n",
    ". ^ $ * + ? { } [ ] \\ | ( )\n",
    "coreyms.com\n",
    "321-555-4321\n",
    "123.555.1234\n",
    "123*555*1234\n",
    "800-555-1234\n",
    "900-555-1234\n",
    "Mr. Schafer\n",
    "Mr Smith\n",
    "Ms Davis\n",
    "Mrs. Robinson\n",
    "Mr. T\n",
    "\n",
    "cat\n",
    "bat\n",
    "mat\n",
    "pat\n",
    "'''"
   ]
  },
  {
   "cell_type": "markdown",
   "metadata": {},
   "source": [
    "### Match de minúsculas"
   ]
  },
  {
   "cell_type": "code",
   "execution_count": 4,
   "metadata": {},
   "outputs": [
    {
     "name": "stdout",
     "output_type": "stream",
     "text": [
      "['abcdefghijklmnopqurtuvwxyz', 'a', 'a', 'a', 'eta', 'haracters', 'eed', 'to', 'be', 'escaped', 'coreyms', 'com', 'r', 'chafer', 'r', 'mith', 's', 'avis', 'rs', 'obinson', 'r', 'cat', 'bat', 'mat', 'pat']\n"
     ]
    }
   ],
   "source": [
    "# pattern = r\"([a-z])\" # letras individuales\n",
    "pattern = r\"([a-z]+)\" # desde la ocurrencia de una minúscula hasta que aparezca una no minúscula\n",
    "pattern = re.compile(pattern)\n",
    "\n",
    "matches = re.findall(pattern, text_to_search)\n",
    "\n",
    "print(matches)"
   ]
  },
  {
   "cell_type": "markdown",
   "metadata": {},
   "source": [
    "### Match de mayúsculas"
   ]
  },
  {
   "cell_type": "code",
   "execution_count": 5,
   "metadata": {},
   "outputs": [
    {
     "name": "stdout",
     "output_type": "stream",
     "text": [
      "['ABCDEFGHIJKLMNOPQRSTUVWXYZ', 'H', 'H', 'H', 'M', 'C', 'N', 'M', 'S', 'M', 'S', 'M', 'D', 'M', 'R', 'M', 'T']\n"
     ]
    }
   ],
   "source": [
    "# pattern = r\"[A-Z]\" # letras individuales\n",
    "pattern = r\"([A-Z]+)\" # desde la ocurrencia de una mayúscula hasta que aparezca una no mayúscula\n",
    "pattern = re.compile(pattern)\n",
    "\n",
    "matches = re.findall(pattern, text_to_search)\n",
    "\n",
    "print(matches)"
   ]
  },
  {
   "cell_type": "markdown",
   "metadata": {},
   "source": [
    "### Word character\n",
    "Un word character es un caracter desde a-z, A-Z, 0-9, incluyendo la _ (barra baja)."
   ]
  },
  {
   "cell_type": "code",
   "execution_count": 6,
   "metadata": {},
   "outputs": [
    {
     "name": "stdout",
     "output_type": "stream",
     "text": [
      "['abcdefghijklmnopqurtuvwxyz', 'ABCDEFGHIJKLMNOPQRSTUVWXYZ', '1234567890', 'Ha', 'HaHa', 'MetaCharacters', 'Need', 'to', 'be', 'escaped', 'coreyms', 'com', '321', '555', '4321', '123', '555', '1234', '123', '555', '1234', '800', '555', '1234', '900', '555', '1234', 'Mr', 'Schafer', 'Mr', 'Smith', 'Ms', 'Davis', 'Mrs', 'Robinson', 'Mr', 'T', 'cat', 'bat', 'mat', 'pat']\n"
     ]
    }
   ],
   "source": [
    "# pattern = r\"\\w\" \n",
    "pattern = r\"\\w+\"\n",
    "pattern = re.compile(pattern)\n",
    "\n",
    "matches = re.findall(pattern, text_to_search)\n",
    "\n",
    "print(matches)"
   ]
  },
  {
   "cell_type": "markdown",
   "metadata": {},
   "source": [
    "### Matchear hasta encontrar un patrón\n",
    "\n",
    "La expresión regular busca línea a línea. Busquemos hasta que aparezca el apellido \"Robinson\".\n",
    "\n",
    "[Fuente](https://stackoverflow.com/questions/7124778/how-to-match-anything-up-until-this-sequence-of-characters-in-a-regular-expres)"
   ]
  },
  {
   "cell_type": "code",
   "execution_count": 28,
   "metadata": {},
   "outputs": [
    {
     "name": "stdout",
     "output_type": "stream",
     "text": [
      "[]\n"
     ]
    }
   ],
   "source": [
    "pattern = r\".+?\\s(?=Robinson)\"\n",
    "pattern = re.compile(pattern)\n",
    "\n",
    "matches = re.findall(pattern, text_to_search)\n",
    "\n",
    "print(matches)"
   ]
  },
  {
   "cell_type": "markdown",
   "metadata": {},
   "source": [
    "### Matchear todos los caracteres entre dos strings\n",
    "\n",
    "Matchemos todo entre \"Meta\" y \"escaped\".\n",
    "\n",
    "[Fuente](https://stackoverflow.com/questions/6109882/regex-match-all-characters-between-two-strings)"
   ]
  },
  {
   "cell_type": "code",
   "execution_count": 9,
   "metadata": {},
   "outputs": [
    {
     "name": "stdout",
     "output_type": "stream",
     "text": [
      "['Characters (Need to be ']\n"
     ]
    }
   ],
   "source": [
    "pattern = r\"(?<=Meta)(.*)(?=escaped)\"\n",
    "pattern = re.compile(pattern)\n",
    "\n",
    "matches = re.findall(pattern, text_to_search)\n",
    "\n",
    "print(matches)"
   ]
  },
  {
   "cell_type": "markdown",
   "metadata": {},
   "source": [
    "### Match de números telefónicos\n",
    "Matchear 3 digitos, cualquier separador, 3 digitos, cualquier separador, 4 digitos"
   ]
  },
  {
   "cell_type": "code",
   "execution_count": 10,
   "metadata": {},
   "outputs": [
    {
     "name": "stdout",
     "output_type": "stream",
     "text": [
      "['321-555-4321', '123.555.1234', '123*555*1234', '800-555-1234', '900-555-1234']\n"
     ]
    }
   ],
   "source": [
    "pattern = r\"\\d\\d\\d.\\d\\d\\d.\\d\\d\\d\\d\"\n",
    "pattern = re.compile(pattern)\n",
    "\n",
    "matches = re.findall(pattern, text_to_search)\n",
    "\n",
    "print(matches)"
   ]
  },
  {
   "cell_type": "markdown",
   "metadata": {},
   "source": [
    "### Matchear números telefónicos con - o . solamente\n",
    "\n",
    "Podemos usar corchetes para hacer coincidir **solo** estos dos separadores en lugar del último ejemplo, que coincidió con **cualquier** separador. Los corchetes se denominan **character sets**.\n",
    "\n",
    "Tenga en cuenta que estos patrones **solo coinciden con una aparición de - o .**\n",
    "\n",
    "Si tuviéramos dos o más guiones o puntos, estos no coincidirían."
   ]
  },
  {
   "cell_type": "code",
   "execution_count": 11,
   "metadata": {},
   "outputs": [
    {
     "name": "stdout",
     "output_type": "stream",
     "text": [
      "['321-555-4321', '123.555.1234', '800-555-1234', '900-555-1234']\n"
     ]
    }
   ],
   "source": [
    "pattern = r\"\\d\\d\\d[.-]\\d\\d\\d[.-]\\d\\d\\d\\d\"\n",
    "pattern = re.compile(pattern)\n",
    "\n",
    "matches = re.findall(pattern, text_to_search)\n",
    "\n",
    "print(matches)"
   ]
  },
  {
   "cell_type": "markdown",
   "metadata": {},
   "source": [
    "### Matchear números telefónicos que empiecen con 800 o 900"
   ]
  },
  {
   "cell_type": "code",
   "execution_count": 12,
   "metadata": {},
   "outputs": [
    {
     "name": "stdout",
     "output_type": "stream",
     "text": [
      "['800-555-1234', '900-555-1234']\n"
     ]
    }
   ],
   "source": [
    "pattern = r\"[89]\\d\\d[.-]\\d\\d\\d[.-]\\d\\d\\d\\d\"\n",
    "pattern = re.compile(pattern)\n",
    "\n",
    "matches = re.findall(pattern, text_to_search)\n",
    "\n",
    "print(matches)"
   ]
  },
  {
   "cell_type": "markdown",
   "metadata": {},
   "source": [
    "### Matchear números telefónicos inferiores a 800\n",
    "Si usamos el guión entre otros caracteres dentro de corchetes, matcheamos **rangos**. Estos pueden ser rangos numéricos o alfabéticos."
   ]
  },
  {
   "cell_type": "code",
   "execution_count": 13,
   "metadata": {},
   "outputs": [
    {
     "name": "stdout",
     "output_type": "stream",
     "text": [
      "['321-555-4321', '123.555.1234']\n"
     ]
    }
   ],
   "source": [
    "pattern = r\"[1-7]\\d\\d[.-]\\d\\d\\d[.-]\\d\\d\\d\\d\"\n",
    "pattern = re.compile(pattern)\n",
    "\n",
    "matches = re.findall(pattern, text_to_search)\n",
    "\n",
    "print(matches)"
   ]
  },
  {
   "cell_type": "markdown",
   "metadata": {},
   "source": [
    "### Matchear todas las letras\n",
    "Podemos usar rangos alfabéticos para matchear letras minúsculas y mayúsculas."
   ]
  },
  {
   "cell_type": "code",
   "execution_count": 15,
   "metadata": {},
   "outputs": [
    {
     "name": "stdout",
     "output_type": "stream",
     "text": [
      "['abcdefghij', 'ABCDEFGHIJKLMNOPQRSTUVWXYZ', 'Ha', 'HaHa', 'Me', 'aCha', 'ac', 'e', 'Need', 'be', 'e', 'ca', 'ed', 'c', 'e', 'c', 'M', 'Schafe', 'M', 'S', 'i', 'h', 'M', 'Da', 'i', 'M', 'R', 'bi', 'M', 'T', 'ca', 'ba', 'a', 'a']\n"
     ]
    }
   ],
   "source": [
    "pattern = r\"[a-zA-Z]+\"\n",
    "pattern = re.compile(pattern)\n",
    "\n",
    "matches = re.findall(pattern, text_to_search)\n",
    "\n",
    "print(matches)"
   ]
  },
  {
   "cell_type": "markdown",
   "metadata": {},
   "source": [
    "### No matchear letras minúsculas\n",
    "\n",
    "Podemos usar el **signo de intercalación ^** como operador **NOT**."
   ]
  },
  {
   "cell_type": "code",
   "execution_count": 16,
   "metadata": {},
   "outputs": [
    {
     "name": "stdout",
     "output_type": "stream",
     "text": [
      "['\\n', '\\n', 'A', 'B', 'C', 'D', 'E', 'F', 'G', 'H', 'I', 'J', 'K', 'L', 'M', 'N', 'O', 'P', 'Q', 'R', 'S', 'T', 'U', 'V', 'W', 'X', 'Y', 'Z', '\\n', '1', '2', '3', '4', '5', '6', '7', '8', '9', '0', '\\n', 'H', ' ', 'H', 'H', '\\n', 'M', 'C', ' ', '(', 'N', ' ', ' ', ' ', ')', ':', '\\n', '.', ' ', '^', ' ', '$', ' ', '*', ' ', '+', ' ', '?', ' ', '{', ' ', '}', ' ', '[', ' ', ']', ' ', '\\\\', ' ', '|', ' ', '(', ' ', ')', '\\n', '.', '\\n', '3', '2', '1', '-', '5', '5', '5', '-', '4', '3', '2', '1', '\\n', '1', '2', '3', '.', '5', '5', '5', '.', '1', '2', '3', '4', '\\n', '1', '2', '3', '*', '5', '5', '5', '*', '1', '2', '3', '4', '\\n', '8', '0', '0', '-', '5', '5', '5', '-', '1', '2', '3', '4', '\\n', '9', '0', '0', '-', '5', '5', '5', '-', '1', '2', '3', '4', '\\n', 'M', '.', ' ', 'S', '\\n', 'M', ' ', 'S', '\\n', 'M', ' ', 'D', '\\n', 'M', '.', ' ', 'R', '\\n', 'M', '.', ' ', 'T', '\\n', '\\n', '\\n', '\\n', '\\n', '\\n']\n"
     ]
    }
   ],
   "source": [
    "pattern = r\"[^a-z]\"\n",
    "pattern = re.compile(pattern)\n",
    "\n",
    "matches = re.findall(pattern, text_to_search)\n",
    "\n",
    "print(matches)"
   ]
  },
  {
   "cell_type": "markdown",
   "metadata": {},
   "source": [
    "### Matchear pat, mat, cat pero no bat"
   ]
  },
  {
   "cell_type": "code",
   "execution_count": 17,
   "metadata": {},
   "outputs": [
    {
     "name": "stdout",
     "output_type": "stream",
     "text": [
      "['cat', 'mat', 'pat']\n"
     ]
    }
   ],
   "source": [
    "pattern = r\"[^b]at\"\n",
    "pattern = re.compile(pattern)\n",
    "\n",
    "matches = re.findall(pattern, text_to_search)\n",
    "\n",
    "print(matches)"
   ]
  },
  {
   "cell_type": "markdown",
   "metadata": {},
   "source": [
    "### Matchear los números de teléfono usando cuantificadores\n",
    "Podemos usar cuantificadores para especificar rangos de ocurrencias de caracteres."
   ]
  },
  {
   "cell_type": "code",
   "execution_count": 18,
   "metadata": {},
   "outputs": [
    {
     "name": "stdout",
     "output_type": "stream",
     "text": [
      "['321-555-4321', '123.555.1234', '800-555-1234', '900-555-1234']\n"
     ]
    }
   ],
   "source": [
    "pattern = r\"\\d{3}[.-]\\d{3}[.-]\\d{4}\"\n",
    "pattern = re.compile(pattern)\n",
    "\n",
    "matches = re.findall(pattern, text_to_search)\n",
    "\n",
    "print(matches)"
   ]
  },
  {
   "cell_type": "markdown",
   "metadata": {},
   "source": [
    "### Matchear con todos los nombres masculinos\n",
    "\n",
    "Si miramos los nombres, vemos que tenemos \"Mr\" y \"Mr.\" así que tenemos que usar un cuantificador \"?\". Esto coincidirá con 0 o una aparición del punto.\n",
    "\n",
    "Luego, después del espacio, necesitamos hacer coincidir una letra mayúscula seguida de letras minúsculas.\n",
    "\n",
    "Si usamos el cuantificador \"+\" (1 o más) \"Mr. T\" quedaría fuera.\n",
    "\n",
    "Si usamos el carácter \"\\*\" (0 o más) se incluirá."
   ]
  },
  {
   "cell_type": "code",
   "execution_count": 19,
   "metadata": {},
   "outputs": [
    {
     "name": "stdout",
     "output_type": "stream",
     "text": [
      "['Mr. Schafer', 'Mr Smith', 'Mr. T']\n"
     ]
    }
   ],
   "source": [
    "pattern = r\"Mr\\.?\\s[A-Z]\\w*\"\n",
    "# pattern = r\"Mr\\.?\\s[A-Z]\\w+\" ### uncoment if you want to leave Mr. T out\n",
    "pattern = re.compile(pattern)\n",
    "\n",
    "matches = re.findall(pattern, text_to_search)\n",
    "\n",
    "print(matches)"
   ]
  },
  {
   "cell_type": "markdown",
   "metadata": {},
   "source": [
    "### Crear un grupo usando paréntesis curvos\n",
    "\n",
    "Matchear Mr, Ms, or Mrs usando grupos."
   ]
  },
  {
   "cell_type": "code",
   "execution_count": 16,
   "metadata": {},
   "outputs": [
    {
     "name": "stdout",
     "output_type": "stream",
     "text": [
      "['Mr. Schafer', 'Mr Smith', 'Ms Davis', 'Mrs. Robinson', 'Mr. T']\n"
     ]
    }
   ],
   "source": [
    "pattern = r\"(M(r|s|rs)\\.?\\s[A-Z]\\w*)\"\n",
    "pattern = re.compile(pattern)\n",
    "\n",
    "matches = re.findall(pattern, text_to_search)\n",
    "matches = [m[0] for m in matches]\n",
    "print(matches)"
   ]
  },
  {
   "cell_type": "markdown",
   "metadata": {},
   "source": [
    "### Matchear emails que terminen en .com"
   ]
  },
  {
   "cell_type": "code",
   "execution_count": 21,
   "metadata": {},
   "outputs": [
    {
     "name": "stdout",
     "output_type": "stream",
     "text": [
      "['CoreyMSchafer@gmail.com']\n"
     ]
    }
   ],
   "source": [
    "emails = '''\n",
    "CoreyMSchafer@gmail.com\n",
    "corey.schafer@university.edu\n",
    "corey-321-schafer@my-work.net\n",
    "'''\n",
    "\n",
    "pattern = r\"[a-zA-Z.]+@[a-zA-Z]+\\.com\"\n",
    "pattern = re.compile(pattern)\n",
    "\n",
    "matches = re.findall(pattern, emails)\n",
    "print(matches)"
   ]
  },
  {
   "cell_type": "markdown",
   "metadata": {},
   "source": [
    "### Matchear emails que terminen en .com o .edu"
   ]
  },
  {
   "cell_type": "code",
   "execution_count": 22,
   "metadata": {},
   "outputs": [
    {
     "name": "stdout",
     "output_type": "stream",
     "text": [
      "['CoreyMSchafer@gmail.com', 'corey.schafer@university.edu']\n",
      "['com', 'edu']\n"
     ]
    }
   ],
   "source": [
    "emails = '''\n",
    "CoreyMSchafer@gmail.com\n",
    "corey.schafer@university.edu\n",
    "corey-321-schafer@my-work.net\n",
    "'''\n",
    "\n",
    "pattern = r\"([a-zA-Z.]+@[a-zA-Z]+\\.(com|edu))\"\n",
    "pattern = re.compile(pattern)\n",
    "\n",
    "### Dirección de email entera\n",
    "matches = re.findall(pattern, emails)\n",
    "matches = [m[0] for m in matches]\n",
    "print(matches)\n",
    "\n",
    "### Solo top-level domain\n",
    "matches = re.findall(pattern, emails)\n",
    "matches = [m[1] for m in matches]\n",
    "print(matches)"
   ]
  },
  {
   "cell_type": "markdown",
   "metadata": {},
   "source": [
    "### Incluir emails con números y barras en el nombre o en el dominio"
   ]
  },
  {
   "cell_type": "code",
   "execution_count": 23,
   "metadata": {},
   "outputs": [
    {
     "name": "stdout",
     "output_type": "stream",
     "text": [
      "<re.Match object; span=(1, 24), match='CoreyMSchafer@gmail.com'>\n",
      "<re.Match object; span=(25, 53), match='corey.schafer@university.edu'>\n",
      "<re.Match object; span=(54, 83), match='corey-321-schafer@my-work.net'>\n"
     ]
    }
   ],
   "source": [
    "import re\n",
    "\n",
    "emails = '''\n",
    "CoreyMSchafer@gmail.com\n",
    "corey.schafer@university.edu\n",
    "corey-321-schafer@my-work.net\n",
    "'''\n",
    "\n",
    "pattern = re.compile(r'[a-zA-Z0-9_.+-]+@[a-zA-Z0-9-]+\\.[a-z]+')\n",
    "\n",
    "matches = pattern.finditer(emails)\n",
    "\n",
    "for match in matches:\n",
    "    print(match)"
   ]
  },
  {
   "cell_type": "markdown",
   "metadata": {},
   "source": [
    "### Leer todos los emails del archivo de emails"
   ]
  },
  {
   "cell_type": "code",
   "execution_count": 24,
   "metadata": {},
   "outputs": [
    {
     "name": "stdout",
     "output_type": "stream",
     "text": [
      "Dave Martin\n",
      "615-555-7164\n",
      "173 Main St., Springfield RI 55924\n",
      "davemartin@bogusemail.com\n",
      "\n",
      "Charles Harris\n",
      "800-555-5669\n",
      "969 High St., Atlantis VA 34075\n",
      "charlesharris@bogusemail.com\n",
      "\n",
      "Eric Williams\n",
      "560-555-5153\n",
      "806 1st St., Faketown AK 86847\n",
      "laurawilliams@bogusemail.com\n",
      "\n",
      "Corey Jefferson\n",
      "900-555-9340\n",
      "826 Elm St., Epicburg NE 10671\n",
      "coreyjefferson@bogusemail.com\n",
      "\n",
      "Jennifer Martin-White\n",
      "714-555-7405\n",
      "212 Cedar St., Sunnydale CT 74983\n",
      "jenniferwhite@bogusemail.com\n",
      "\n",
      "Erick Davis\n",
      "800-555-6771\n",
      "519 Washington St., Olympus TN 32425\n",
      "tomdavis@bogusemail.com\n",
      "\n",
      "Neil Patterson\n",
      "783-555-4799\n",
      "625 Oak St., Dawnstar IL 61914\n",
      "neilpatterson@bogusemail.com\n",
      "\n",
      "Laura Jefferson\n",
      "516-555-4615\n",
      "890 Main St., Pythonville LA 29947\n",
      "laurajefferson@bogusemail.com\n",
      "\n",
      "Maria Johnson\n",
      "127-555-1867\n",
      "884 High St., Braavos‎ ME 43597\n",
      "mariajohnson@bogusemail.com\n",
      "\n",
      "Michael Arnold\n",
      "608-555-4938\n",
      "249 Elm St., Quahog OR 90938\n",
      "michaelarnold@bogusemail.com\n",
      "\n",
      "Michael Smith\n",
      "568-555-6051\n",
      "619 Park St., Winterfell VA 99000\n",
      "michaelsmith@bogusemail.com\n",
      "\n",
      "Erik Stuart\n",
      "292-555-1875\n",
      "220 Cedar St., Lakeview NY 87282\n",
      "robertstuart@bogusemail.com\n",
      "\n",
      "Laura Martin\n",
      "900-555-3205\n",
      "391 High St., Smalltown WY 28362\n",
      "lauramartin@bogusemail.com\n",
      "\n",
      "Barbara Martin\n",
      "614-555-1166\n",
      "121 Hill St., Braavos‎ UT 92474\n",
      "barbaramartin@bogusemail.com\n",
      "\n",
      "Linda Jackson\n",
      "530-555-2676\n",
      "433 Elm St., Westworld TX 61967\n",
      "lindajackson@bogusemail.com\n",
      "\n",
      "Eric Miller\n",
      "470-555-2750\n",
      "838 Main St., Balmora MT 56526\n",
      "stevemiller@bogusemail.com\n",
      "\n",
      "Dave Arnold\n",
      "800-555-6089\n",
      "732 High St., Valyria KY 97152\n",
      "davearnold@bogusemail.com\n",
      "\n",
      "Jennifer Jacobs\n",
      "880-555-8319\n",
      "217 High St., Old-town IA 82767\n",
      "jenniferjacobs@bogusemail.com\n",
      "\n",
      "Neil Wilson\n",
      "777-555-8378\n",
      "191 Main St., Mordor IL 72160\n",
      "neilwilson@bogusemail.com\n",
      "\n",
      "Kurt Jackson\n",
      "998-555-7385\n",
      "607 Washington St., Blackwater NH 97183\n",
      "kurtjackson@bogusemail.com\n",
      "\n",
      "Mary Jacobs\n",
      "800-555-7100\n",
      "478 Oak St., Bedrock IA 58176\n",
      "maryjacobs@bogusemail.com\n",
      "\n",
      "Michael White\n",
      "903-555-8277\n",
      "906 Elm St., Mordor TX 89212\n",
      "michaelwhite@bogusemail.com\n",
      "\n",
      "Jennifer Jenkins\n",
      "196-555-5674\n",
      "949 Main St., Smalltown SC 96962\n",
      "jenniferjenkins@bogusemail.com\n",
      "\n",
      "Sam Wright\n",
      "900-555-5118\n",
      "835 Pearl St., Smalltown ND 77737\n",
      "samwright@bogusemail.com\n",
      "\n",
      "John Davis\n",
      "905-555-1630\n",
      "451 Lake St., Bedrock GA 34615\n",
      "johndavis@bogusemail.com\n",
      "\n",
      "Eric Davis\n",
      "203-555-3475\n",
      "419 Lake St., Balmora OR 30826\n",
      "neildavis@bogusemail.com\n",
      "\n",
      "Laura Jackson\n",
      "884-555-8444\n",
      "443 Maple St., Quahog MS 29348\n",
      "laurajackson@bogusemail.com\n",
      "\n",
      "John Williams\n",
      "904-555-8559\n",
      "756 Hill St., Valyria KY 94854\n",
      "johnwilliams@bogusemail.com\n",
      "\n",
      "Michael Martin\n",
      "889-555-7393\n",
      "216 High St., Olympus NV 21888\n",
      "michaelmartin@bogusemail.com\n",
      "\n",
      "Maggie Brown\n",
      "195-555-2405\n",
      "806 Lake St., Lakeview MD 59348\n",
      "maggiebrown@bogusemail.com\n",
      "\n",
      "Erik Wilson\n",
      "321-555-9053\n",
      "354 Hill St., Mordor FL 74122\n",
      "kurtwilson@bogusemail.com\n",
      "\n",
      "Elizabeth Arnold\n",
      "133-555-1711\n",
      "805 Maple St., Winterfell NV 99431\n",
      "elizabetharnold@bogusemail.com\n",
      "\n",
      "Jane Martin\n",
      "900-555-5428\n",
      "418 Park St., Metropolis ID 16576\n",
      "janemartin@bogusemail.com\n",
      "\n",
      "Travis Johnson\n",
      "760-555-7147\n",
      "749 Washington St., Braavos‎ SD 25668\n",
      "travisjohnson@bogusemail.com\n",
      "\n",
      "Laura Jefferson\n",
      "391-555-6621\n",
      "122 High St., Metropolis ME 29540\n",
      "laurajefferson@bogusemail.com\n",
      "\n",
      "Tom Williams\n",
      "932-555-7724\n",
      "610 High St., Old-town FL 60758\n",
      "tomwilliams@bogusemail.com\n",
      "\n",
      "Jennifer Taylor\n",
      "609-555-7908\n",
      "332 Main St., Pythonville OH 78172\n",
      "jennifertaylor@bogusemail.com\n",
      "\n",
      "Erick Wright\n",
      "800-555-8810\n",
      "858 Hill St., Blackwater NC 79714\n",
      "jenniferwright@bogusemail.com\n",
      "\n",
      "Steve Doe\n",
      "149-555-7657\n",
      "441 Elm St., Atlantis MS 87195\n",
      "stevedoe@bogusemail.com\n",
      "\n",
      "Kurt Davis\n",
      "130-555-9709\n",
      "404 Oak St., Atlantis ND 85386\n",
      "kurtdavis@bogusemail.com\n",
      "\n",
      "Corey Harris\n",
      "143-555-9295\n",
      "286 Pearl St., Vice City TX 57112\n",
      "coreyharris@bogusemail.com\n",
      "\n",
      "Nicole Taylor\n",
      "903-555-9878\n",
      "465 Hill St., Old-town LA 64102\n",
      "nicoletaylor@bogusemail.com\n",
      "\n",
      "Elizabeth Davis\n",
      "574-555-3194\n",
      "151 Lake St., Eerie SD 17880\n",
      "elizabethdavis@bogusemail.com\n",
      "\n",
      "Maggie Jenkins\n",
      "496-555-7533\n",
      "504 Lake St., Gotham PA 46692\n",
      "maggiejenkins@bogusemail.com\n",
      "\n",
      "Linda Davis\n",
      "210-555-3757\n",
      "201 Pine St., Vice City AR 78455\n",
      "lindadavis@bogusemail.com\n",
      "\n",
      "Dave Moore\n",
      "900-555-9598\n",
      "251 Pine St., Old-town OK 29087\n",
      "davemoore@bogusemail.com\n",
      "\n",
      "Linda Jenkins\n",
      "866-555-9844\n",
      "117 High St., Bedrock NE 11899\n",
      "lindajenkins@bogusemail.com\n",
      "\n",
      "Eric White\n",
      "669-555-7159\n",
      "650 Oak St., Smalltown TN 43281\n",
      "samwhite@bogusemail.com\n",
      "\n",
      "Laura Robinson\n",
      "152-555-7417\n",
      "377 Pine St., Valyria NC 78036\n",
      "laurarobinson@bogusemail.com\n",
      "\n",
      "Charles Patterson\n",
      "893-555-9832\n",
      "416 Pearl St., Valyria AK 62260\n",
      "charlespatterson@bogusemail.com\n",
      "\n",
      "Joe Jackson\n",
      "217-555-7123\n",
      "683 Cedar St., South Park KS 66724\n",
      "joejackson@bogusemail.com\n",
      "\n",
      "Michael Johnson\n",
      "786-555-6544\n",
      "288 Hill St., Smalltown AZ 18586\n",
      "michaeljohnson@bogusemail.com\n",
      "\n",
      "Corey Miller\n",
      "780-555-2574\n",
      "286 High St., Springfield IA 16272\n",
      "coreymiller@bogusemail.com\n",
      "\n",
      "James Moore\n",
      "926-555-8735\n",
      "278 Main St., Gotham KY 89569\n",
      "jamesmoore@bogusemail.com\n",
      "\n",
      "Jennifer Stuart\n",
      "895-555-3539\n",
      "766 Hill St., King's Landing GA 54999\n",
      "jenniferstuart@bogusemail.com\n",
      "\n",
      "Charles Martin\n",
      "874-555-3949\n",
      "775 High St., Faketown PA 89260\n",
      "charlesmartin@bogusemail.com\n",
      "\n",
      "Eric Wilks\n",
      "800-555-2420\n",
      "885 Main St., Blackwater OH 61275\n",
      "joewilks@bogusemail.com\n",
      "\n",
      "Elizabeth Arnold\n",
      "936-555-6340\n",
      "528 Hill St., Atlantis NH 88289\n",
      "elizabetharnold@bogusemail.com\n",
      "\n",
      "John Miller\n",
      "372-555-9809\n",
      "117 Cedar St., Thundera NM 75205\n",
      "johnmiller@bogusemail.com\n",
      "\n",
      "Corey Jackson\n",
      "890-555-5618\n",
      "115 Oak St., Gotham UT 36433\n",
      "coreyjackson@bogusemail.com\n",
      "\n",
      "Sam Thomas\n",
      "670-555-3005\n",
      "743 Lake St., Springfield MS 25473\n",
      "samthomas@bogusemail.com\n",
      "\n",
      "Patricia Thomas\n",
      "509-555-5997\n",
      "381 Hill St., Blackwater CT 30958\n",
      "patriciathomas@bogusemail.com\n",
      "\n",
      "Jennifer Davis\n",
      "721-555-5632\n",
      "125 Main St., Smalltown MT 62155\n",
      "jenniferdavis@bogusemail.com\n",
      "\n",
      "Patricia Brown\n",
      "900-555-3567\n",
      "292 Hill St., Gotham WV 57680\n",
      "patriciabrown@bogusemail.com\n",
      "\n",
      "Barbara Williams\n",
      "147-555-6830\n",
      "514 Park St., Balmora NV 55462\n",
      "barbarawilliams@bogusemail.com\n",
      "\n",
      "James Taylor\n",
      "582-555-3426\n",
      "776 Hill St., Dawnstar MA 51312\n",
      "jamestaylor@bogusemail.com\n",
      "\n",
      "Eric Harris\n",
      "400-555-1706\n",
      "421 Elm St., Smalltown NV 72025\n",
      "barbaraharris@bogusemail.com\n",
      "\n",
      "Travis Anderson\n",
      "525-555-1793\n",
      "937 Cedar St., Thundera WA 78862\n",
      "travisanderson@bogusemail.com\n",
      "\n",
      "Sam Robinson\n",
      "317-555-6700\n",
      "417 Pine St., Lakeview MD 13147\n",
      "samrobinson@bogusemail.com\n",
      "\n",
      "Steve Robinson\n",
      "974-555-8301\n",
      "478 Park St., Springfield NM 92369\n",
      "steverobinson@bogusemail.com\n",
      "\n",
      "Mary Wilson\n",
      "800-555-3216\n",
      "708 Maple St., Braavos‎ UT 29551\n",
      "marywilson@bogusemail.com\n",
      "\n",
      "Sam Wilson\n",
      "746-555-4094\n",
      "557 Pearl St., Westworld KS 23225\n",
      "samwilson@bogusemail.com\n",
      "\n",
      "Charles Jones\n",
      "922-555-1773\n",
      "855 Hill St., Olympus HI 81427\n",
      "charlesjones@bogusemail.com\n",
      "\n",
      "Laura Brown\n",
      "711-555-4427\n",
      "980 Maple St., Smalltown MO 96421\n",
      "laurabrown@bogusemail.com\n",
      "\n",
      "Tom Harris\n",
      "355-555-1872\n",
      "676 Hill St., Blackwater AR 96698\n",
      "tomharris@bogusemail.com\n",
      "\n",
      "Patricia Taylor\n",
      "852-555-6521\n",
      "588 Pine St., Olympus FL 98412\n",
      "patriciataylor@bogusemail.com\n",
      "\n",
      "Barbara Williams\n",
      "691-555-5773\n",
      "351 Elm St., Sunnydale GA 26245\n",
      "barbarawilliams@bogusemail.com\n",
      "\n",
      "Maggie Johnson\n",
      "332-555-5441\n",
      "948 Cedar St., Quahog DE 56449\n",
      "maggiejohnson@bogusemail.com\n",
      "\n",
      "Kurt Miller\n",
      "900-555-7755\n",
      "381 Hill St., Quahog AL 97503\n",
      "kurtmiller@bogusemail.com\n",
      "\n",
      "Neil Stuart\n",
      "379-555-3685\n",
      "496 Cedar St., Sunnydale RI 49113\n",
      "neilstuart@bogusemail.com\n",
      "\n",
      "Linda Patterson\n",
      "127-555-9682\n",
      "736 Cedar St., Lakeview KY 47472\n",
      "lindapatterson@bogusemail.com\n",
      "\n",
      "Charles Davis\n",
      "789-555-7032\n",
      "678 Lake St., Mordor MN 11845\n",
      "charlesdavis@bogusemail.com\n",
      "\n",
      "Jennifer Jefferson\n",
      "783-555-5135\n",
      "289 Park St., Sunnydale WA 74526\n",
      "jenniferjefferson@bogusemail.com\n",
      "\n",
      "Erick Taylor\n",
      "315-555-6507\n",
      "245 Washington St., Bedrock IL 26941\n",
      "coreytaylor@bogusemail.com\n",
      "\n",
      "Robert Wilks\n",
      "481-555-5835\n",
      "573 Elm St., Sunnydale IL 47182\n",
      "robertwilks@bogusemail.com\n",
      "\n",
      "Travis Jackson\n",
      "365-555-8287\n",
      "851 Lake St., Metropolis PA 22772\n",
      "travisjackson@bogusemail.com\n",
      "\n",
      "Travis Jackson\n",
      "911-555-7535\n",
      "489 Oak St., Atlantis HI 73725\n",
      "travisjackson@bogusemail.com\n",
      "\n",
      "Laura Wilks\n",
      "681-555-2460\n",
      "371 Pearl St., Smalltown SC 47466\n",
      "laurawilks@bogusemail.com\n",
      "\n",
      "Neil Arnold\n",
      "274-555-9800\n",
      "504 Oak St., Faketown PA 73860\n",
      "neilarnold@bogusemail.com\n",
      "\n",
      "Linda Johnson\n",
      "800-555-1372\n",
      "667 High St., Balmora IN 82473\n",
      "lindajohnson@bogusemail.com\n",
      "\n",
      "Jennifer Wilson\n",
      "300-555-7821\n",
      "266 Pine St., Westworld DC 58720\n",
      "jenniferwilson@bogusemail.com\n",
      "\n",
      "Nicole White\n",
      "133-555-3889\n",
      "276 High St., Braavos‎ IL 57764\n",
      "nicolewhite@bogusemail.com\n",
      "\n",
      "Maria Arnold\n",
      "705-555-6863\n",
      "491 Elm St., Metropolis PA 31836\n",
      "mariaarnold@bogusemail.com\n",
      "\n",
      "Jennifer Davis\n",
      "215-555-9449\n",
      "859 Cedar St., Old-town MT 31169\n",
      "jenniferdavis@bogusemail.com\n",
      "\n",
      "Mary Patterson\n",
      "988-555-6112\n",
      "956 Park St., Valyria CT 81541\n",
      "marypatterson@bogusemail.com\n",
      "\n",
      "Jane Stuart\n",
      "623-555-3006\n",
      "983 Oak St., Old-town RI 15445\n",
      "janestuart@bogusemail.com\n",
      "\n",
      "Robert Davis\n",
      "192-555-4977\n",
      "789 Maple St., Mordor IN 22215\n",
      "robertdavis@bogusemail.com\n",
      "\n",
      "James Taylor\n",
      "178-555-4899\n",
      "439 Hill St., Olympus NV 39308\n",
      "jamestaylor@bogusemail.com\n",
      "\n",
      "Eric Stuart\n",
      "952-555-3089\n",
      "777 High St., King's Landing AZ 16547\n",
      "johnstuart@bogusemail.com\n",
      "\n",
      "Charles Miller\n",
      "900-555-6426\n",
      "207 Washington St., Blackwater MA 24886\n",
      "charlesmiller@bogusemail.com\n"
     ]
    }
   ],
   "source": [
    "import json\n",
    "\n",
    "with open('data/data.txt', 'r') as file:\n",
    "    data = file.read()\n",
    "\n",
    "print(data)"
   ]
  },
  {
   "cell_type": "code",
   "execution_count": 25,
   "metadata": {},
   "outputs": [
    {
     "name": "stdout",
     "output_type": "stream",
     "text": [
      "<re.Match object; span=(60, 85), match='davemartin@bogusemail.com'>\n",
      "<re.Match object; span=(147, 175), match='charlesharris@bogusemail.com'>\n",
      "<re.Match object; span=(235, 263), match='laurawilliams@bogusemail.com'>\n",
      "<re.Match object; span=(325, 354), match='coreyjefferson@bogusemail.com'>\n",
      "<re.Match object; span=(425, 453), match='jenniferwhite@bogusemail.com'>\n"
     ]
    }
   ],
   "source": [
    "pattern = re.compile(r'[a-zA-Z0-9_.+-]+@[a-zA-Z0-9-]+\\.[a-zA-Z0-9-.]+')\n",
    "\n",
    "matches = pattern.finditer(data)\n",
    "i=0\n",
    "for match in matches:\n",
    "    print(match)\n",
    "    i+=1\n",
    "    if i==5:\n",
    "        break\n",
    "    "
   ]
  },
  {
   "cell_type": "markdown",
   "metadata": {},
   "source": [
    "### Matchear con el nombre de dominio de la URL\n",
    "\n",
    "Breakdown:\n",
    "- La \"s\" en \"https\" es opcional, por lo que necesitamos un \"?\".\n",
    "- \"www.\" es opcional, pero es un grupo, por lo que debemos capturarlo con corchetes. Es un grupo 0 o uno, por lo que también necesitamos un \"?\" después del grupo.\n",
    "- Entonces necesitamos hacer coincidir cualquier carácter de palabra. Uno o más, por lo que necesitamos un \"+\".\n",
    "- Finalmente, necesitamos lo mismo para el nombre de dominio superior."
   ]
  },
  {
   "cell_type": "code",
   "execution_count": 26,
   "metadata": {},
   "outputs": [
    {
     "name": "stdout",
     "output_type": "stream",
     "text": [
      "\n",
      "google.com\n",
      "coreyms.com\n",
      "youtube.com\n",
      "nasa.gov\n",
      "\n"
     ]
    }
   ],
   "source": [
    "import re\n",
    "\n",
    "urls = '''\n",
    "https://www.google.com\n",
    "http://coreyms.com\n",
    "https://youtube.com\n",
    "https://www.nasa.gov\n",
    "'''\n",
    "\n",
    "pattern = re.compile(r'https?://(www\\.)?(\\w+)(\\.\\w+)')\n",
    "\n",
    "subbed_urls = pattern.sub(r'\\2\\3', urls)\n",
    "\n",
    "print(subbed_urls)"
   ]
  },
  {
   "cell_type": "code",
   "execution_count": null,
   "metadata": {},
   "outputs": [],
   "source": []
  }
 ],
 "metadata": {
  "kernelspec": {
   "display_name": "Python 3 (ipykernel)",
   "language": "python",
   "name": "python3"
  },
  "language_info": {
   "codemirror_mode": {
    "name": "ipython",
    "version": 3
   },
   "file_extension": ".py",
   "mimetype": "text/x-python",
   "name": "python",
   "nbconvert_exporter": "python",
   "pygments_lexer": "ipython3",
   "version": "3.9.7"
  }
 },
 "nbformat": 4,
 "nbformat_minor": 2
}
