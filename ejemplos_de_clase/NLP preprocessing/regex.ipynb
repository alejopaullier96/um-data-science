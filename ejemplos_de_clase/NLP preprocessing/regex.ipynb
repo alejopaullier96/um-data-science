{
 "cells": [
  {
   "cell_type": "markdown",
   "metadata": {},
   "source": [
    "</center><img src=\"https://www.teachingenglish.org.uk/sites/teacheng/files/styles/large/public/images/revisiting_text_iStock_000015756375XSmall%20%281%29_3.jpg?itok=YSNa9Dvz\" width=600></center>\n",
    "<h1 align=\"center\">Natural Language Processing</h1>\n",
    "<h2 align=\"center\"> <font color='gray'>Regular expressions</font></h2>\n",
    "\n",
    "\n",
    "### Links de utilidad\n",
    "\n",
    "- Link a [regex101.com](https://regex101.com/)\n",
    "- [Video](https://www.youtube.com/watch?v=sa-TUpSx1JA) en el cual se basa la clase.\n",
    "\n",
    "### Por qué usamos expresiones regulares?\n",
    "\n",
    "- Buscar patrones en textos.\n",
    "- Extraer información.\n",
    "- Data parsing (partición de textos).\n",
    "- Filtrado/Eliminación de información.\n",
    "- Pre-procesamiento.\n",
    "- Análisis de sentimientos.\n",
    "\n",
    "### Cheat sheet\n",
    "```\n",
    ".       - Any Character Except New Line\n",
    "\\d      - Digit (0-9)\n",
    "\\D      - Not a Digit (0-9)\n",
    "\\w      - Word Character (a-z, A-Z, 0-9, _)\n",
    "\\W      - Not a Word Character\n",
    "\\s      - Whitespace (space, tab, newline, carriage return) ---> ( , \\t, \\n, \\r)\n",
    "\\S      - Not Whitespace (space, tab, newline, carriage return)\n",
    "\n",
    "\\b      - Word Boundary\n",
    "\\B      - Not a Word Boundary\n",
    "^       - Beginning of a String\n",
    "$       - End of a String\n",
    "\n",
    "[]      - Matches Characters in brackets\n",
    "[^ ]    - Matches Characters NOT in brackets\n",
    "|       - Either Or\n",
    "( )     - Group\n",
    "\n",
    "Quantifiers:\n",
    "*       - 0 or More of the preceding regex token\n",
    "+       - 1 or More of the preceding regex token\n",
    "?       - 0 or One of the preceding regex token\n",
    "{3}     - Exact Number\n",
    "{3,4}   - Range of Numbers (Minimum, Maximum)\n",
    "\n",
    "```\n",
    "\n",
    "Link a funciones:\n",
    "- [re.compile()](https://docs.python.org/3/library/re.html#re.compile): Compile a regular expression pattern into a regular expression object, which can be used for matching using its match(), search() and other methods.\n",
    "- [re.findall()](https://docs.python.org/3/library/re.html#re.findall): Return all non-overlapping matches of pattern in string, as a list of strings. The string is scanned left-to-right, and matches are returned in the order found. If one or more groups are present in the pattern, return a list of groups; this will be a list of tuples if the pattern has more than one group. Empty matches are included in the result."
   ]
  },
  {
   "cell_type": "markdown",
   "metadata": {},
   "source": [
    "### Importamos librerías"
   ]
  },
  {
   "cell_type": "code",
   "execution_count": 1,
   "metadata": {},
   "outputs": [],
   "source": [
    "import regex as re"
   ]
  },
  {
   "cell_type": "markdown",
   "metadata": {},
   "source": [
    "### Texto de búsqueda"
   ]
  },
  {
   "cell_type": "code",
   "execution_count": 2,
   "metadata": {},
   "outputs": [],
   "source": [
    "text_to_search = '''\n",
    "abcdefghijklmnopqurtuvwxyz\n",
    "ABCDEFGHIJKLMNOPQRSTUVWXYZ\n",
    "1234567890\n",
    "Ha HaHa\n",
    "MetaCharacters (Need to be escaped):\n",
    ". ^ $ * + ? { } [ ] \\ | ( )\n",
    "coreyms.com\n",
    "321-555-4321\n",
    "123.555.1234\n",
    "123*555*1234\n",
    "800-555-1234\n",
    "900-555-1234\n",
    "Mr. Schafer\n",
    "Mr Smith\n",
    "Ms Davis\n",
    "Mrs. Robinson\n",
    "Mr. T\n",
    "\n",
    "cat\n",
    "bat\n",
    "mat\n",
    "pat\n",
    "'''"
   ]
  },
  {
   "cell_type": "markdown",
   "metadata": {},
   "source": [
    "### Match de minúsculas"
   ]
  },
  {
   "cell_type": "code",
   "execution_count": 3,
   "metadata": {},
   "outputs": [
    {
     "name": "stdout",
     "output_type": "stream",
     "text": [
      "['abcdefghijklmnopqurtuvwxyz', 'a', 'a', 'a', 'eta', 'haracters', 'eed', 'to', 'be', 'escaped', 'coreyms', 'com', 'r', 'chafer', 'r', 'mith', 's', 'avis', 'rs', 'obinson', 'r', 'cat', 'bat', 'mat', 'pat']\n"
     ]
    }
   ],
   "source": [
    "# pattern = r\"([a-z])\" # letras individuales\n",
    "pattern = r\"([a-z]+)\" # desde la ocurrencia de una minúscula hasta que aparezca una no minúscula\n",
    "pattern = re.compile(pattern)\n",
    "\n",
    "matches = re.findall(pattern, text_to_search)\n",
    "\n",
    "print(matches)"
   ]
  },
  {
   "cell_type": "markdown",
   "metadata": {},
   "source": [
    "### Match de mayúsculas"
   ]
  },
  {
   "cell_type": "code",
   "execution_count": 4,
   "metadata": {},
   "outputs": [
    {
     "name": "stdout",
     "output_type": "stream",
     "text": [
      "['ABCDEFGHIJKLMNOPQRSTUVWXYZ', 'H', 'H', 'H', 'M', 'C', 'N', 'M', 'S', 'M', 'S', 'M', 'D', 'M', 'R', 'M', 'T']\n"
     ]
    }
   ],
   "source": [
    "# pattern = r\"[A-Z]\" # letras individuales\n",
    "pattern = r\"([A-Z]+)\" # desde la ocurrencia de una mayúscula hasta que aparezca una no mayúscula\n",
    "pattern = re.compile(pattern)\n",
    "\n",
    "matches = re.findall(pattern, text_to_search)\n",
    "\n",
    "print(matches)"
   ]
  },
  {
   "cell_type": "markdown",
   "metadata": {},
   "source": [
    "### Word character\n",
    "Un word character es un caracter desde a-z, A-Z, 0-9, incluyendo la _ (barra baja)."
   ]
  },
  {
   "cell_type": "code",
   "execution_count": 5,
   "metadata": {},
   "outputs": [
    {
     "name": "stdout",
     "output_type": "stream",
     "text": [
      "['abcdefghijklmnopqurtuvwxyz', 'ABCDEFGHIJKLMNOPQRSTUVWXYZ', '1234567890', 'Ha', 'HaHa', 'MetaCharacters', 'Need', 'to', 'be', 'escaped', 'coreyms', 'com', '321', '555', '4321', '123', '555', '1234', '123', '555', '1234', '800', '555', '1234', '900', '555', '1234', 'Mr', 'Schafer', 'Mr', 'Smith', 'Ms', 'Davis', 'Mrs', 'Robinson', 'Mr', 'T', 'cat', 'bat', 'mat', 'pat']\n"
     ]
    }
   ],
   "source": [
    "# pattern = r\"\\w\" \n",
    "pattern = r\"\\w+\"\n",
    "pattern = re.compile(pattern)\n",
    "\n",
    "matches = re.findall(pattern, text_to_search)\n",
    "\n",
    "print(matches)"
   ]
  },
  {
   "cell_type": "markdown",
   "metadata": {},
   "source": [
    "### Matchear hasta encontrar un patrón\n",
    "\n",
    "La expresión regular busca línea a línea. Busquemos hasta que aparezca el apellido \"Robinson\".\n",
    "\n",
    "[Fuente](https://stackoverflow.com/questions/7124778/how-to-match-anything-up-until-this-sequence-of-characters-in-a-regular-expres)"
   ]
  },
  {
   "cell_type": "code",
   "execution_count": 6,
   "metadata": {},
   "outputs": [
    {
     "name": "stdout",
     "output_type": "stream",
     "text": [
      "['Mrs. ']\n"
     ]
    }
   ],
   "source": [
    "pattern = r\".+?\\s(?=Robinson)\"\n",
    "pattern = re.compile(pattern)\n",
    "\n",
    "matches = re.findall(pattern, text_to_search)\n",
    "\n",
    "print(matches)"
   ]
  },
  {
   "cell_type": "markdown",
   "metadata": {},
   "source": [
    "### Matchear todos los caracteres entre dos strings\n",
    "\n",
    "Matchemos todo entre \"Meta\" y \"escaped\".\n",
    "\n",
    "[Fuente](https://stackoverflow.com/questions/6109882/regex-match-all-characters-between-two-strings)"
   ]
  },
  {
   "cell_type": "code",
   "execution_count": 7,
   "metadata": {},
   "outputs": [
    {
     "name": "stdout",
     "output_type": "stream",
     "text": [
      "['Characters (Need to be ']\n"
     ]
    }
   ],
   "source": [
    "pattern = r\"(?<=Meta)(.*)(?=escaped)\"\n",
    "pattern = re.compile(pattern)\n",
    "\n",
    "matches = re.findall(pattern, text_to_search)\n",
    "\n",
    "print(matches)"
   ]
  },
  {
   "cell_type": "markdown",
   "metadata": {},
   "source": [
    "### Match de números telefónicos\n",
    "Matchear 3 digitos, cualquier separador, 3 digitos, cualquier separador, 4 digitos"
   ]
  },
  {
   "cell_type": "code",
   "execution_count": 8,
   "metadata": {},
   "outputs": [
    {
     "name": "stdout",
     "output_type": "stream",
     "text": [
      "['321-555-4321', '123.555.1234', '123*555*1234', '800-555-1234', '900-555-1234']\n"
     ]
    }
   ],
   "source": [
    "pattern = r\"\\d\\d\\d.\\d\\d\\d.\\d\\d\\d\\d\"\n",
    "pattern = re.compile(pattern)\n",
    "\n",
    "matches = re.findall(pattern, text_to_search)\n",
    "\n",
    "print(matches)"
   ]
  },
  {
   "cell_type": "markdown",
   "metadata": {},
   "source": [
    "### Matchear números telefónicos con - o . solamente\n",
    "\n",
    "Podemos usar corchetes para hacer coincidir **solo** estos dos separadores en lugar del último ejemplo, que coincidió con **cualquier** separador. Los corchetes se denominan **character sets**.\n",
    "\n",
    "Tenga en cuenta que estos patrones **solo coinciden con una aparición de - o .**\n",
    "\n",
    "Si tuviéramos dos o más guiones o puntos, estos no coincidirían."
   ]
  },
  {
   "cell_type": "code",
   "execution_count": 9,
   "metadata": {},
   "outputs": [
    {
     "name": "stdout",
     "output_type": "stream",
     "text": [
      "['321-555-4321', '123.555.1234', '800-555-1234', '900-555-1234']\n"
     ]
    }
   ],
   "source": [
    "pattern = r\"\\d\\d\\d[.-]\\d\\d\\d[.-]\\d\\d\\d\\d\"\n",
    "pattern = re.compile(pattern)\n",
    "\n",
    "matches = re.findall(pattern, text_to_search)\n",
    "\n",
    "print(matches)"
   ]
  },
  {
   "cell_type": "markdown",
   "metadata": {},
   "source": [
    "### Matchear números telefónicos que empiecen con 800 o 900"
   ]
  },
  {
   "cell_type": "code",
   "execution_count": 10,
   "metadata": {},
   "outputs": [
    {
     "name": "stdout",
     "output_type": "stream",
     "text": [
      "['800-555-1234', '900-555-1234']\n"
     ]
    }
   ],
   "source": [
    "pattern = r\"[89]\\d\\d[.-]\\d\\d\\d[.-]\\d\\d\\d\\d\"\n",
    "pattern = re.compile(pattern)\n",
    "\n",
    "matches = re.findall(pattern, text_to_search)\n",
    "\n",
    "print(matches)"
   ]
  },
  {
   "cell_type": "markdown",
   "metadata": {},
   "source": [
    "### Matchear números telefónicos inferiores a 800\n",
    "Si usamos el guión entre otros caracteres dentro de corchetes, matcheamos **rangos**. Estos pueden ser rangos numéricos o alfabéticos."
   ]
  },
  {
   "cell_type": "code",
   "execution_count": 11,
   "metadata": {},
   "outputs": [
    {
     "name": "stdout",
     "output_type": "stream",
     "text": [
      "['321-555-4321', '123.555.1234']\n"
     ]
    }
   ],
   "source": [
    "pattern = r\"[1-7]\\d\\d[.-]\\d\\d\\d[.-]\\d\\d\\d\\d\"\n",
    "pattern = re.compile(pattern)\n",
    "\n",
    "matches = re.findall(pattern, text_to_search)\n",
    "\n",
    "print(matches)"
   ]
  },
  {
   "cell_type": "markdown",
   "metadata": {},
   "source": [
    "### Matchear todas las letras\n",
    "Podemos usar rangos alfabéticos para matchear letras minúsculas y mayúsculas."
   ]
  },
  {
   "cell_type": "code",
   "execution_count": 27,
   "metadata": {},
   "outputs": [
    {
     "name": "stdout",
     "output_type": "stream",
     "text": [
      "['abcdefghij', 'a', 'a', 'a', 'e', 'a', 'ha', 'ac', 'e', 'eed', 'be', 'e', 'ca', 'ed', 'c', 'e', 'c', 'chafe', 'i', 'h', 'a', 'i', 'bi', 'ca', 'ba', 'a', 'a']\n"
     ]
    }
   ],
   "source": [
    "pattern = r\"[a-zA-Z]+\"\n",
    "pattern = re.compile(pattern)\n",
    "\n",
    "matches = re.findall(pattern, text_to_search)\n",
    "\n",
    "print(matches)"
   ]
  },
  {
   "cell_type": "markdown",
   "metadata": {},
   "source": [
    "### No matchear letras minúsculas\n",
    "\n",
    "Podemos usar el **signo de intercalación ^** como operador **NOT**."
   ]
  },
  {
   "cell_type": "code",
   "execution_count": 12,
   "metadata": {},
   "outputs": [
    {
     "name": "stdout",
     "output_type": "stream",
     "text": [
      "['\\n', '\\n', 'A', 'B', 'C', 'D', 'E', 'F', 'G', 'H', 'I', 'J', 'K', 'L', 'M', 'N', 'O', 'P', 'Q', 'R', 'S', 'T', 'U', 'V', 'W', 'X', 'Y', 'Z', '\\n', '1', '2', '3', '4', '5', '6', '7', '8', '9', '0', '\\n', 'H', ' ', 'H', 'H', '\\n', 'M', 'C', ' ', '(', 'N', ' ', ' ', ' ', ')', ':', '\\n', '.', ' ', '^', ' ', '$', ' ', '*', ' ', '+', ' ', '?', ' ', '{', ' ', '}', ' ', '[', ' ', ']', ' ', '\\\\', ' ', '|', ' ', '(', ' ', ')', '\\n', '.', '\\n', '3', '2', '1', '-', '5', '5', '5', '-', '4', '3', '2', '1', '\\n', '1', '2', '3', '.', '5', '5', '5', '.', '1', '2', '3', '4', '\\n', '1', '2', '3', '*', '5', '5', '5', '*', '1', '2', '3', '4', '\\n', '8', '0', '0', '-', '5', '5', '5', '-', '1', '2', '3', '4', '\\n', '9', '0', '0', '-', '5', '5', '5', '-', '1', '2', '3', '4', '\\n', 'M', '.', ' ', 'S', '\\n', 'M', ' ', 'S', '\\n', 'M', ' ', 'D', '\\n', 'M', '.', ' ', 'R', '\\n', 'M', '.', ' ', 'T', '\\n', '\\n', '\\n', '\\n', '\\n', '\\n']\n"
     ]
    }
   ],
   "source": [
    "pattern = r\"[^a-z]\"\n",
    "pattern = re.compile(pattern)\n",
    "\n",
    "matches = re.findall(pattern, text_to_search)\n",
    "\n",
    "print(matches)"
   ]
  },
  {
   "cell_type": "markdown",
   "metadata": {},
   "source": [
    "### Matchear pat, mat, cat pero no bat"
   ]
  },
  {
   "cell_type": "code",
   "execution_count": 13,
   "metadata": {},
   "outputs": [
    {
     "name": "stdout",
     "output_type": "stream",
     "text": [
      "['cat', 'mat', 'pat']\n"
     ]
    }
   ],
   "source": [
    "pattern = r\"[^b]at\"\n",
    "pattern = re.compile(pattern)\n",
    "\n",
    "matches = re.findall(pattern, text_to_search)\n",
    "\n",
    "print(matches)"
   ]
  },
  {
   "cell_type": "markdown",
   "metadata": {},
   "source": [
    "### Matchear los números de teléfono usando cuantificadores\n",
    "Podemos usar cuantificadores para especificar rangos de ocurrencias de caracteres."
   ]
  },
  {
   "cell_type": "code",
   "execution_count": 14,
   "metadata": {},
   "outputs": [
    {
     "name": "stdout",
     "output_type": "stream",
     "text": [
      "['321-555-4321', '123.555.1234', '800-555-1234', '900-555-1234']\n"
     ]
    }
   ],
   "source": [
    "pattern = r\"\\d{3}[.-]\\d{3}[.-]\\d{4}\"\n",
    "pattern = re.compile(pattern)\n",
    "\n",
    "matches = re.findall(pattern, text_to_search)\n",
    "\n",
    "print(matches)"
   ]
  },
  {
   "cell_type": "markdown",
   "metadata": {},
   "source": [
    "### Matchear con todos los nombres masculinos\n",
    "\n",
    "Si miramos los nombres, vemos que tenemos \"Mr\" y \"Mr.\" así que tenemos que usar un cuantificador \"?\". Esto coincidirá con 0 o una aparición del punto.\n",
    "\n",
    "Luego, después del espacio, necesitamos hacer coincidir una letra mayúscula seguida de letras minúsculas.\n",
    "\n",
    "Si usamos el cuantificador \"+\" (1 o más) \"Mr. T\" quedaría fuera.\n",
    "\n",
    "Si usamos el carácter \"\\*\" (0 o más) se incluirá."
   ]
  },
  {
   "cell_type": "code",
   "execution_count": 15,
   "metadata": {},
   "outputs": [
    {
     "name": "stdout",
     "output_type": "stream",
     "text": [
      "['Mr. Schafer', 'Mr Smith', 'Mr. T']\n"
     ]
    }
   ],
   "source": [
    "pattern = r\"Mr\\.?\\s[A-Z]\\w*\"\n",
    "# pattern = r\"Mr\\.?\\s[A-Z]\\w+\" ### uncoment if you want to leave Mr. T out\n",
    "pattern = re.compile(pattern)\n",
    "\n",
    "matches = re.findall(pattern, text_to_search)\n",
    "\n",
    "print(matches)"
   ]
  },
  {
   "cell_type": "markdown",
   "metadata": {},
   "source": [
    "### Crear un grupo usando paréntesis curvos\n",
    "\n",
    "Matchear Mr, Ms, or Mrs usando grupos."
   ]
  },
  {
   "cell_type": "code",
   "execution_count": 16,
   "metadata": {},
   "outputs": [
    {
     "name": "stdout",
     "output_type": "stream",
     "text": [
      "['Mr. Schafer', 'Mr Smith', 'Ms Davis', 'Mrs. Robinson', 'Mr. T']\n"
     ]
    }
   ],
   "source": [
    "pattern = r\"(M(r|s|rs)\\.?\\s[A-Z]\\w*)\"\n",
    "pattern = re.compile(pattern)\n",
    "\n",
    "matches = re.findall(pattern, text_to_search)\n",
    "matches = [m[0] for m in matches]\n",
    "print(matches)"
   ]
  },
  {
   "cell_type": "markdown",
   "metadata": {},
   "source": [
    "### Matchear emails que terminen en .com"
   ]
  },
  {
   "cell_type": "code",
   "execution_count": 17,
   "metadata": {},
   "outputs": [
    {
     "name": "stdout",
     "output_type": "stream",
     "text": [
      "['CoreyMSchafer@gmail.com']\n"
     ]
    }
   ],
   "source": [
    "emails = '''\n",
    "CoreyMSchafer@gmail.com\n",
    "corey.schafer@university.edu\n",
    "corey-321-schafer@my-work.net\n",
    "'''\n",
    "\n",
    "pattern = r\"[a-zA-Z.]+@[a-zA-Z]+\\.com\"\n",
    "pattern = re.compile(pattern)\n",
    "\n",
    "matches = re.findall(pattern, emails)\n",
    "print(matches)"
   ]
  },
  {
   "cell_type": "markdown",
   "metadata": {},
   "source": [
    "### Matchear emails que terminen en .com o .edu"
   ]
  },
  {
   "cell_type": "code",
   "execution_count": 18,
   "metadata": {},
   "outputs": [
    {
     "name": "stdout",
     "output_type": "stream",
     "text": [
      "['CoreyMSchafer@gmail.com', 'corey.schafer@university.edu']\n",
      "['com', 'edu']\n"
     ]
    }
   ],
   "source": [
    "emails = '''\n",
    "CoreyMSchafer@gmail.com\n",
    "corey.schafer@university.edu\n",
    "corey-321-schafer@my-work.net\n",
    "'''\n",
    "\n",
    "pattern = r\"([a-zA-Z.]+@[a-zA-Z]+\\.(com|edu))\"\n",
    "pattern = re.compile(pattern)\n",
    "\n",
    "### Dirección de email entera\n",
    "matches = re.findall(pattern, emails)\n",
    "matches = [m[0] for m in matches]\n",
    "print(matches)\n",
    "\n",
    "### Solo top-level domain\n",
    "matches = re.findall(pattern, emails)\n",
    "matches = [m[1] for m in matches]\n",
    "print(matches)"
   ]
  },
  {
   "cell_type": "markdown",
   "metadata": {},
   "source": [
    "### Incluir emails con números y barras en el nombre o en el dominio"
   ]
  },
  {
   "cell_type": "code",
   "execution_count": 19,
   "metadata": {},
   "outputs": [
    {
     "name": "stdout",
     "output_type": "stream",
     "text": [
      "<re.Match object; span=(1, 24), match='CoreyMSchafer@gmail.com'>\n",
      "<re.Match object; span=(25, 53), match='corey.schafer@university.edu'>\n",
      "<re.Match object; span=(54, 83), match='corey-321-schafer@my-work.net'>\n"
     ]
    }
   ],
   "source": [
    "import re\n",
    "\n",
    "emails = '''\n",
    "CoreyMSchafer@gmail.com\n",
    "corey.schafer@university.edu\n",
    "corey-321-schafer@my-work.net\n",
    "'''\n",
    "\n",
    "pattern = re.compile(r'[a-zA-Z0-9_.+-]+@[a-zA-Z0-9-]+\\.[a-z]+')\n",
    "\n",
    "matches = pattern.finditer(emails)\n",
    "\n",
    "for match in matches:\n",
    "    print(match)"
   ]
  },
  {
   "cell_type": "markdown",
   "metadata": {},
   "source": [
    "### Leer todos los emails del archivo de emails"
   ]
  },
  {
   "cell_type": "code",
   "execution_count": 21,
   "metadata": {},
   "outputs": [],
   "source": [
    "import json\n",
    "\n",
    "with open('data/data.txt', 'r') as file:\n",
    "    data = file.read()\n",
    "\n",
    "# print(data)"
   ]
  },
  {
   "cell_type": "code",
   "execution_count": 22,
   "metadata": {},
   "outputs": [
    {
     "name": "stdout",
     "output_type": "stream",
     "text": [
      "<re.Match object; span=(60, 85), match='davemartin@bogusemail.com'>\n",
      "<re.Match object; span=(147, 175), match='charlesharris@bogusemail.com'>\n",
      "<re.Match object; span=(235, 263), match='laurawilliams@bogusemail.com'>\n",
      "<re.Match object; span=(325, 354), match='coreyjefferson@bogusemail.com'>\n",
      "<re.Match object; span=(425, 453), match='jenniferwhite@bogusemail.com'>\n"
     ]
    }
   ],
   "source": [
    "pattern = re.compile(r'[a-zA-Z0-9_.+-]+@[a-zA-Z0-9-]+\\.[a-zA-Z0-9-.]+')\n",
    "\n",
    "matches = pattern.finditer(data)\n",
    "i=0\n",
    "for match in matches:\n",
    "    print(match)\n",
    "    i+=1\n",
    "    if i==5:\n",
    "        break\n",
    "    "
   ]
  },
  {
   "cell_type": "markdown",
   "metadata": {},
   "source": [
    "### Matchear con el nombre de dominio de la URL\n",
    "\n",
    "Breakdown:\n",
    "- La \"s\" en \"https\" es opcional, por lo que necesitamos un \"?\".\n",
    "- \"www.\" es opcional, pero es un grupo, por lo que debemos capturarlo con corchetes. Es un grupo 0 o uno, por lo que también necesitamos un \"?\" después del grupo.\n",
    "- Entonces necesitamos hacer coincidir cualquier carácter de palabra. Uno o más, por lo que necesitamos un \"+\".\n",
    "- Finalmente, necesitamos lo mismo para el nombre de dominio superior."
   ]
  },
  {
   "cell_type": "code",
   "execution_count": 23,
   "metadata": {},
   "outputs": [
    {
     "name": "stdout",
     "output_type": "stream",
     "text": [
      "\n",
      "google.com\n",
      "coreyms.com\n",
      "youtube.com\n",
      "nasa.gov\n",
      "\n"
     ]
    }
   ],
   "source": [
    "import re\n",
    "\n",
    "urls = '''\n",
    "https://www.google.com\n",
    "http://coreyms.com\n",
    "https://youtube.com\n",
    "https://www.nasa.gov\n",
    "'''\n",
    "\n",
    "pattern = re.compile(r'https?://(www\\.)?(\\w+)(\\.\\w+)')\n",
    "\n",
    "subbed_urls = pattern.sub(r'\\2\\3', urls)\n",
    "\n",
    "print(subbed_urls)"
   ]
  },
  {
   "cell_type": "code",
   "execution_count": null,
   "metadata": {},
   "outputs": [],
   "source": []
  }
 ],
 "metadata": {
  "kernelspec": {
   "display_name": "Python 3",
   "language": "python",
   "name": "python3"
  },
  "language_info": {
   "codemirror_mode": {
    "name": "ipython",
    "version": 3
   },
   "file_extension": ".py",
   "mimetype": "text/x-python",
   "name": "python",
   "nbconvert_exporter": "python",
   "pygments_lexer": "ipython3",
   "version": "3.7.3"
  }
 },
 "nbformat": 4,
 "nbformat_minor": 2
}
