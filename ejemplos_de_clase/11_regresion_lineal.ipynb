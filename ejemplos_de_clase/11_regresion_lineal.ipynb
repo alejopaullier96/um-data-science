{
 "cells": [
  {
   "cell_type": "markdown",
   "metadata": {},
   "source": [
    "<h1 align=\"center\">Regresión Lineal</h1>\n",
    "</center><img src=\"https://miro.medium.com/max/1200/1*N1-K-A43_98pYZ27fnupDA.jpeg\" width=600></center>"
   ]
  },
  {
   "cell_type": "markdown",
   "metadata": {},
   "source": [
    "### Importamos librerías"
   ]
  },
  {
   "cell_type": "code",
   "execution_count": 1,
   "metadata": {},
   "outputs": [],
   "source": [
    "import matplotlib.pyplot as plt \n",
    "import numpy as np\n",
    "import pandas as pd\n",
    "from sklearn.linear_model import LinearRegression"
   ]
  },
  {
   "cell_type": "markdown",
   "metadata": {},
   "source": [
    "### Cargamos datos"
   ]
  },
  {
   "cell_type": "code",
   "execution_count": 7,
   "metadata": {},
   "outputs": [
    {
     "data": {
      "text/html": [
       "<div>\n",
       "<style scoped>\n",
       "    .dataframe tbody tr th:only-of-type {\n",
       "        vertical-align: middle;\n",
       "    }\n",
       "\n",
       "    .dataframe tbody tr th {\n",
       "        vertical-align: top;\n",
       "    }\n",
       "\n",
       "    .dataframe thead th {\n",
       "        text-align: right;\n",
       "    }\n",
       "</style>\n",
       "<table border=\"1\" class=\"dataframe\">\n",
       "  <thead>\n",
       "    <tr style=\"text-align: right;\">\n",
       "      <th></th>\n",
       "      <th>height</th>\n",
       "      <th>weight</th>\n",
       "    </tr>\n",
       "  </thead>\n",
       "  <tbody>\n",
       "    <tr>\n",
       "      <th>0</th>\n",
       "      <td>1.47</td>\n",
       "      <td>52.21</td>\n",
       "    </tr>\n",
       "    <tr>\n",
       "      <th>1</th>\n",
       "      <td>1.50</td>\n",
       "      <td>53.12</td>\n",
       "    </tr>\n",
       "    <tr>\n",
       "      <th>2</th>\n",
       "      <td>1.52</td>\n",
       "      <td>54.48</td>\n",
       "    </tr>\n",
       "    <tr>\n",
       "      <th>3</th>\n",
       "      <td>1.55</td>\n",
       "      <td>55.84</td>\n",
       "    </tr>\n",
       "    <tr>\n",
       "      <th>4</th>\n",
       "      <td>1.57</td>\n",
       "      <td>57.20</td>\n",
       "    </tr>\n",
       "  </tbody>\n",
       "</table>\n",
       "</div>"
      ],
      "text/plain": [
       "   height  weight\n",
       "0    1.47   52.21\n",
       "1    1.50   53.12\n",
       "2    1.52   54.48\n",
       "3    1.55   55.84\n",
       "4    1.57   57.20"
      ]
     },
     "execution_count": 7,
     "metadata": {},
     "output_type": "execute_result"
    }
   ],
   "source": [
    "# Datos de entrada: altura y peso\n",
    "height = [1.47, 1.50, 1.52, 1.55, 1.57, 1.60, 1.63, 1.65 ,1.68, 1.70, 1.73, 1.75, 1.78, 1.80 ,1.83]\n",
    "weight = [52.21, 53.12 ,54.48, 55.84, 57.20,58.57, 59.93, 61.29, 63.11, 64.47, 66.28, 68.10, 69.92, 72.19, 74.46]\n",
    "\n",
    "# Creemos un dataframe para mejor visualización\n",
    "df = pd.DataFrame({\"height\": height, \"weight\": weight})\n",
    "df.head()"
   ]
  },
  {
   "cell_type": "markdown",
   "metadata": {},
   "source": [
    "### Scatterplot para visualización"
   ]
  },
  {
   "cell_type": "code",
   "execution_count": 10,
   "metadata": {},
   "outputs": [
    {
     "data": {
      "text/plain": [
       "Text(0, 0.5, 'weight (kg)')"
      ]
     },
     "execution_count": 10,
     "metadata": {},
     "output_type": "execute_result"
    },
    {
     "data": {
      "image/png": "[encoded data removed]",
      "text/plain": [
       "<Figure size 432x288 with 1 Axes>"
      ]
     },
     "metadata": {
      "needs_background": "light"
     },
     "output_type": "display_data"
    }
   ],
   "source": [
    "# Hagamos un scatterplot para visualizar nuestros datos y ver si existe a simple vista una tendencia lineal\n",
    "plt.scatter(x=height, y=weight)\n",
    "\n",
    "# Labels en los ejes\n",
    "plt.xlabel(\"height (m)\")\n",
    "plt.ylabel(\"weight (kg)\")"
   ]
  },
  {
   "cell_type": "markdown",
   "metadata": {},
   "source": [
    "### Hallamos línea de mejor ajuste usando Linear Regression"
   ]
  },
  {
   "cell_type": "code",
   "execution_count": 8,
   "metadata": {},
   "outputs": [
    {
     "name": "stdout",
     "output_type": "stream",
     "text": [
      "Slope is: 61.27218654211064\n",
      "Intercept is: -39.06195591884395\n"
     ]
    }
   ],
   "source": [
    "# En el siguiente paso simplemente re-estructuramos los datos pues es necesario para utilizar el modelo de LR\n",
    "X = np.array(df[\"height\"]).reshape(-1,1)\n",
    "y = np.array(df[\"weight\"]).reshape(-1,1)\n",
    "\n",
    "# Entrenamos o ajustamos el modelo a nuestros datos\n",
    "reg = LinearRegression()\n",
    "reg.fit(X, y)\n",
    "\n",
    "# Obtenemos los betas: pendiente de la recta e intercepción\n",
    "b_1 = reg.coef_[0][0]\n",
    "b_0 = reg.intercept_[0]\n",
    "print(\"Slope is: {}\".format(b_1))\n",
    "print(\"Intercept is: {}\".format(b_0))"
   ]
  },
  {
   "cell_type": "markdown",
   "metadata": {},
   "source": [
    "### Graficamos línea de mejor ajuste"
   ]
  },
  {
   "cell_type": "code",
   "execution_count": 95,
   "metadata": {},
   "outputs": [
    {
     "data": {
      "text/plain": [
       "Text(0, 0.5, 'weight (kg)')"
      ]
     },
     "execution_count": 95,
     "metadata": {},
     "output_type": "execute_result"
    },
    {
     "data": {
      "image/png": "[encoded data removed]",
      "text/plain": [
       "<Figure size 432x288 with 1 Axes>"
      ]
     },
     "metadata": {
      "needs_background": "light"
     },
     "output_type": "display_data"
    }
   ],
   "source": [
    "# Generemos una serie de predicciones usando los datos de nuestro modelo\n",
    "y_pred = X*b_1 + b_0\n",
    "\n",
    "# Otra forma de hacer lo mismo es utilizando la función .predict() que hace por nosotros la cuenta anterior\n",
    "y_pred = reg.predict(X)\n",
    "\n",
    "# Graficamos la linea de mejor ajuste\n",
    "plt.plot(height, y_pred, c=\"r\")\n",
    "plt.xlabel(\"height (m)\")\n",
    "plt.ylabel(\"weight (kg)\")"
   ]
  },
  {
   "cell_type": "markdown",
   "metadata": {},
   "source": [
    "### Graficamos datos junto con la línea de mejor ajuste"
   ]
  },
  {
   "cell_type": "code",
   "execution_count": 90,
   "metadata": {},
   "outputs": [
    {
     "data": {
      "text/plain": [
       "Text(0, 0.5, 'weight (kg)')"
      ]
     },
     "execution_count": 90,
     "metadata": {},
     "output_type": "execute_result"
    },
    {
     "data": {
      "image/png": "[encoded data removed]",
      "text/plain": [
       "<Figure size 432x288 with 1 Axes>"
      ]
     },
     "metadata": {
      "needs_background": "light"
     },
     "output_type": "display_data"
    }
   ],
   "source": [
    "# Graficamos los datos mediante un scatterplot\n",
    "plt.scatter(x=height, y=weight, c=\"b\")\n",
    "\n",
    "# Graficamos la linea de mejor ajuste mediante un line plot\n",
    "plt.plot(height, y_pred, c=\"r\")\n",
    "\n",
    "# Labels en los ejes\n",
    "plt.xlabel(\"height (m)\")\n",
    "plt.ylabel(\"weight (kg)\")"
   ]
  },
  {
   "cell_type": "markdown",
   "metadata": {},
   "source": [
    "# Extra: Mínimos Cuadrados Ordinarios"
   ]
  },
  {
   "cell_type": "markdown",
   "metadata": {},
   "source": [
    "$${\\displaystyle {\\hat {\\boldsymbol {\\beta }}}=\\left(\\mathrm {X} ^{\\mathsf {T}}\\mathrm {X} \\right)^{-1}\\mathrm {X} ^{\\mathsf {T}}\\mathbf {y} .}$$"
   ]
  },
  {
   "cell_type": "code",
   "execution_count": 9,
   "metadata": {},
   "outputs": [],
   "source": [
    "# X = np.array([[1, 1], [1, 2], [2, 2], [2, 3]])\n",
    "# y = np.dot(X, np.array([1, 2])) + 3\n",
    "\n",
    "X_T = np.transpose(X)\n",
    "normal_matrix = np.dot(np.transpose(X),X)\n",
    "inverse_normal_matrix = np.linalg.inv(normal_matrix)\n",
    "moment_matrix = np.dot(X_T,y)\n",
    "beta = np.dot(inverse_normal_matrix, moment_matrix)"
   ]
  },
  {
   "cell_type": "code",
   "execution_count": 10,
   "metadata": {},
   "outputs": [
    {
     "name": "stdout",
     "output_type": "stream",
     "text": [
      "y of shape (15, 1): [[52.21]\n",
      " [53.12]\n",
      " [54.48]\n",
      " [55.84]\n",
      " [57.2 ]\n",
      " [58.57]\n",
      " [59.93]\n",
      " [61.29]\n",
      " [63.11]\n",
      " [64.47]\n",
      " [66.28]\n",
      " [68.1 ]\n",
      " [69.92]\n",
      " [72.19]\n",
      " [74.46]]\n",
      "----------------------------------------------------------------------------------------------------\n",
      "X of shape (15, 1): [[1.47]\n",
      " [1.5 ]\n",
      " [1.52]\n",
      " [1.55]\n",
      " [1.57]\n",
      " [1.6 ]\n",
      " [1.63]\n",
      " [1.65]\n",
      " [1.68]\n",
      " [1.7 ]\n",
      " [1.73]\n",
      " [1.75]\n",
      " [1.78]\n",
      " [1.8 ]\n",
      " [1.83]]\n",
      "----------------------------------------------------------------------------------------------------\n",
      "X_T of shape (1, 15): [[1.47 1.5  1.52 1.55 1.57 1.6  1.63 1.65 1.68 1.7  1.73 1.75 1.78 1.8\n",
      "  1.83]]\n",
      "----------------------------------------------------------------------------------------------------\n",
      "normal_matrix of shape (1, 1): [[41.0532]]\n",
      "----------------------------------------------------------------------------------------------------\n",
      "inverse_normal_matrix of shape (1, 1): [[0.02435864]]\n",
      "----------------------------------------------------------------------------------------------------\n",
      "moment_matrix of shape (1, 1): [[1548.2453]]\n",
      "----------------------------------------------------------------------------------------------------\n",
      "beta of shape (1, 1): [[37.71314538]]\n"
     ]
    }
   ],
   "source": [
    "def sep():\n",
    "    print(\"-\"*100)\n",
    "    \n",
    "print(\"y of shape {0}: {1}\".format(y.shape, y))\n",
    "sep()\n",
    "print(\"X of shape {0}: {1}\".format(X.shape, X))\n",
    "sep()\n",
    "print(\"X_T of shape {0}: {1}\".format(X_T.shape, X_T))\n",
    "sep()\n",
    "print(\"normal_matrix of shape {0}: {1}\".format(normal_matrix.shape, normal_matrix))\n",
    "sep()\n",
    "print(\"inverse_normal_matrix of shape {0}: {1}\".format(inverse_normal_matrix.shape, inverse_normal_matrix))\n",
    "sep()\n",
    "print(\"moment_matrix of shape {0}: {1}\".format(moment_matrix.shape, moment_matrix))\n",
    "sep()\n",
    "print(\"beta of shape {0}: {1}\".format(beta.shape, beta))"
   ]
  },
  {
   "cell_type": "markdown",
   "metadata": {},
   "source": [
    "The least squares estimates in this case are given by simple formulas\n",
    "\n",
    "$${\\displaystyle {\\begin{aligned}{\\hat {\\beta }}&={\\frac {{n}\\sum {x_{i}y_{i}}-\\sum {x_{i}}\\sum {y_{i}}}{{n}\\sum {x_{i}^{2}}-(\\sum {x_{i}})^{2}}}\\\\{\\hat {\\alpha }}&={\\overline {y}}-{\\hat {\\beta }}\\,{\\overline {x}}\\ ,\\end{aligned}}}$$\n"
   ]
  },
  {
   "cell_type": "code",
   "execution_count": 13,
   "metadata": {},
   "outputs": [
    {
     "data": {
      "text/plain": [
       "array([61.27218654])"
      ]
     },
     "execution_count": 13,
     "metadata": {},
     "output_type": "execute_result"
    }
   ],
   "source": [
    "n = X.shape[0]\n",
    "x_y_dot = np.sum(np.dot(np.transpose(X),y))\n",
    "x_sum = np.sum(X,axis=0)\n",
    "y_sum = np.sum(y,axis=0)\n",
    "x_dot = np.sum(np.dot(np.transpose(X),X))\n",
    "x_squared = x_sum*x_sum\n",
    "beta = (n*x_y_dot-x_sum*y_sum)/(n*x_dot-x_squared)\n",
    "beta"
   ]
  },
  {
   "cell_type": "code",
   "execution_count": 14,
   "metadata": {},
   "outputs": [
    {
     "name": "stdout",
     "output_type": "stream",
     "text": [
      "1548.2452999999998\n",
      "[24.76]\n",
      "[931.17]\n",
      "41.0532\n",
      "[613.0576]\n"
     ]
    }
   ],
   "source": [
    "print(x_y_dot)\n",
    "print(x_sum)\n",
    "print(y_sum)\n",
    "print(x_dot)\n",
    "print(x_squared)"
   ]
  },
  {
   "cell_type": "code",
   "execution_count": 15,
   "metadata": {},
   "outputs": [
    {
     "data": {
      "text/plain": [
       "array([[37.71314538]])"
      ]
     },
     "execution_count": 15,
     "metadata": {},
     "output_type": "execute_result"
    }
   ],
   "source": [
    "# Calculate OLS regression coefficients\n",
    "beta_hat = np.matmul(np.matmul(np.linalg.inv(np.matmul(np.array(X).transpose(), np.array(X))), X.transpose()), y)\n",
    "beta_hat"
   ]
  },
  {
   "cell_type": "code",
   "execution_count": null,
   "metadata": {},
   "outputs": [],
   "source": []
  }
 ],
 "metadata": {
  "kernelspec": {
   "display_name": "Python 3 (ipykernel)",
   "language": "python",
   "name": "python3"
  },
  "language_info": {
   "codemirror_mode": {
    "name": "ipython",
    "version": 3
   },
   "file_extension": ".py",
   "mimetype": "text/x-python",
   "name": "python",
   "nbconvert_exporter": "python",
   "pygments_lexer": "ipython3",
   "version": "3.9.7"
  }
 },
 "nbformat": 4,
 "nbformat_minor": 2
}
