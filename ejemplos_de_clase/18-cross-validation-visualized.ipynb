{
 "cells": [
  {
   "cell_type": "markdown",
   "id": "1321455d",
   "metadata": {
    "_cell_guid": "b1076dfc-b9ad-4769-8c92-a6c4dae69d19",
    "_uuid": "8f2839f25d086af736a60e9eeb907d3b93b6e0e5",
    "papermill": {
     "duration": 0.027864,
     "end_time": "2022-04-20T17:39:29.431358",
     "exception": false,
     "start_time": "2022-04-20T17:39:29.403494",
     "status": "completed"
    },
    "tags": []
   },
   "source": [
    "# Cross Validation\n",
    "\n",
    "This notebook was made by Robert Mulla.\n",
    "\n",
    "## The difference between a good model and an overfit one!\n",
    "This notebook goes along with a youtube created on the topic on his youtube channel.\n",
    "\n",
    "## [Check out the youtube video here.](https://www.youtube.com/watch?v=-8s9KuNo5SA)\n",
    "[Check out his channel here.](https://www.youtube.com/channel/UCxladMszXan-jfgzyeIMyvw)\n",
    "\n",
    "![notsure](https://www.decisivedge.com/uploads/shutterstock_493554238.jpg)"
   ]
  },
  {
   "cell_type": "markdown",
   "id": "3a27b74a",
   "metadata": {
    "papermill": {
     "duration": 0.025288,
     "end_time": "2022-04-20T17:39:29.483704",
     "exception": false,
     "start_time": "2022-04-20T17:39:29.458416",
     "status": "completed"
    },
    "tags": []
   },
   "source": [
    "# In this tutorial we will learn:\n",
    "1. Example where not using cross validation causes us to believe our model is better than it is.\n",
    "2. Show the different cross validation techniques and when to apply them.\n",
    "3. Run our example from part 1 using the correct cross validation technique."
   ]
  },
  {
   "cell_type": "code",
   "execution_count": 4,
   "id": "a07dc232",
   "metadata": {
    "execution": {
     "iopub.execute_input": "2022-04-20T17:39:29.539674Z",
     "iopub.status.busy": "2022-04-20T17:39:29.538456Z",
     "iopub.status.idle": "2022-04-20T17:39:31.667810Z",
     "shell.execute_reply": "2022-04-20T17:39:31.666648Z",
     "shell.execute_reply.started": "2022-04-20T17:37:08.197798Z"
    },
    "papermill": {
     "duration": 2.158669,
     "end_time": "2022-04-20T17:39:31.668065",
     "exception": false,
     "start_time": "2022-04-20T17:39:29.509396",
     "status": "completed"
    },
    "scrolled": true,
    "tags": []
   },
   "outputs": [],
   "source": [
    "import pandas as pd\n",
    "import numpy as np\n",
    "\n",
    "import matplotlib.pylab as plt\n",
    "import lightgbm as lgb # !conda install lightgbm\n",
    "\n",
    "from sklearn.metrics import accuracy_score, roc_auc_score\n",
    "\n",
    "from sklearn.model_selection import (\n",
    "    train_test_split,\n",
    "    TimeSeriesSplit,\n",
    "    KFold,\n",
    "    StratifiedKFold,\n",
    "    GroupKFold,\n",
    "    StratifiedGroupKFold,\n",
    ")\n",
    "\n",
    "plt.style.use('seaborn-white')"
   ]
  },
  {
   "cell_type": "markdown",
   "id": "a269d1f1",
   "metadata": {
    "papermill": {
     "duration": 0.027634,
     "end_time": "2022-04-20T17:39:31.736927",
     "exception": false,
     "start_time": "2022-04-20T17:39:31.709293",
     "status": "completed"
    },
    "tags": []
   },
   "source": [
    "# The Dataset\n",
    "\n",
    "Stroke Prediction Data. Using information about patients, predict if they are likely to have a stroke.\n",
    "- Gender, marital status, smoking status, age, etc.\n",
    "- Also have a \"Doctor\" feature added to represent the \"group\" within the data.\n",
    "\n",
    "In the next cells we will:\n",
    "1. Split all the data we have in a `train` set and a `holdout` set. What is a Holdout Set? Sometimes referred to as “testing” data, a holdout subset provides a final estimate of the machine learning model's performance after it has been trained and validated.\n",
    "2. Train and evaluate on `train` set (terrible! this is resubstitution validation).\n",
    "3. Then evaluate on `holdout` set."
   ]
  },
  {
   "cell_type": "code",
   "execution_count": 7,
   "id": "11392e33",
   "metadata": {
    "execution": {
     "iopub.execute_input": "2022-04-20T17:39:31.795844Z",
     "iopub.status.busy": "2022-04-20T17:39:31.795162Z",
     "iopub.status.idle": "2022-04-20T17:39:31.873813Z",
     "shell.execute_reply": "2022-04-20T17:39:31.874542Z",
     "shell.execute_reply.started": "2022-04-20T17:37:10.836171Z"
    },
    "papermill": {
     "duration": 0.110117,
     "end_time": "2022-04-20T17:39:31.874815",
     "exception": false,
     "start_time": "2022-04-20T17:39:31.764698",
     "status": "completed"
    },
    "tags": []
   },
   "outputs": [],
   "source": [
    "def get_prep_data():\n",
    "    data = pd.read_csv(\n",
    "        \"./data/csv/healthcare-dataset-stroke-data.csv\"\n",
    "    )\n",
    "    data[\"ever_married\"] = (\n",
    "        data[\"ever_married\"].replace(\"Yes\", True).replace(\"No\", False)\n",
    "    )\n",
    "    data[\"gender\"] = data[\"gender\"].astype(\"category\")\n",
    "    data[\"smoking_status\"] = data[\"smoking_status\"].astype(\"category\")\n",
    "    data[\"Residence_type\"] = data[\"Residence_type\"].astype(\"category\")\n",
    "    data[\"work_type\"] = data[\"work_type\"].astype(\"category\")\n",
    "    data[\"doctor\"] = np.random.randint(0, 8, size=len(data))\n",
    "    holdout_ids = data.sample(n=500, random_state=529).index\n",
    "\n",
    "    train = (\n",
    "        data.loc[~data.index.isin(holdout_ids)]\n",
    "        .sample(frac=1, random_state=529)\n",
    "        .sort_values(\"doctor\")\n",
    "        .reset_index(drop=True)\n",
    "    )\n",
    "    holdout = (\n",
    "        data.loc[data.index.isin(holdout_ids)]\n",
    "        .sample(frac=1, random_state=529)\n",
    "        .sort_values(\"doctor\")\n",
    "        .reset_index(drop=True)\n",
    "    )\n",
    "\n",
    "    return train, holdout\n",
    "\n",
    "\n",
    "train, holdout = get_prep_data()"
   ]
  },
  {
   "cell_type": "markdown",
   "id": "44151443",
   "metadata": {},
   "source": [
    "Visualize train data!"
   ]
  },
  {
   "cell_type": "code",
   "execution_count": 8,
   "id": "dc94d2ab",
   "metadata": {
    "execution": {
     "iopub.execute_input": "2022-04-20T17:39:31.940297Z",
     "iopub.status.busy": "2022-04-20T17:39:31.939322Z",
     "iopub.status.idle": "2022-04-20T17:39:31.962340Z",
     "shell.execute_reply": "2022-04-20T17:39:31.963102Z",
     "shell.execute_reply.started": "2022-04-20T17:37:11.989082Z"
    },
    "papermill": {
     "duration": 0.055555,
     "end_time": "2022-04-20T17:39:31.963333",
     "exception": false,
     "start_time": "2022-04-20T17:39:31.907778",
     "status": "completed"
    },
    "tags": []
   },
   "outputs": [
    {
     "data": {
      "text/html": [
       "<div>\n",
       "<style scoped>\n",
       "    .dataframe tbody tr th:only-of-type {\n",
       "        vertical-align: middle;\n",
       "    }\n",
       "\n",
       "    .dataframe tbody tr th {\n",
       "        vertical-align: top;\n",
       "    }\n",
       "\n",
       "    .dataframe thead th {\n",
       "        text-align: right;\n",
       "    }\n",
       "</style>\n",
       "<table border=\"1\" class=\"dataframe\">\n",
       "  <thead>\n",
       "    <tr style=\"text-align: right;\">\n",
       "      <th></th>\n",
       "      <th>id</th>\n",
       "      <th>gender</th>\n",
       "      <th>age</th>\n",
       "      <th>hypertension</th>\n",
       "      <th>heart_disease</th>\n",
       "      <th>ever_married</th>\n",
       "      <th>work_type</th>\n",
       "      <th>Residence_type</th>\n",
       "      <th>avg_glucose_level</th>\n",
       "      <th>bmi</th>\n",
       "      <th>smoking_status</th>\n",
       "      <th>stroke</th>\n",
       "      <th>doctor</th>\n",
       "    </tr>\n",
       "  </thead>\n",
       "  <tbody>\n",
       "    <tr>\n",
       "      <th>0</th>\n",
       "      <td>72784</td>\n",
       "      <td>Female</td>\n",
       "      <td>52.00</td>\n",
       "      <td>0</td>\n",
       "      <td>0</td>\n",
       "      <td>True</td>\n",
       "      <td>Private</td>\n",
       "      <td>Rural</td>\n",
       "      <td>118.46</td>\n",
       "      <td>61.6</td>\n",
       "      <td>smokes</td>\n",
       "      <td>0</td>\n",
       "      <td>0</td>\n",
       "    </tr>\n",
       "    <tr>\n",
       "      <th>1</th>\n",
       "      <td>5121</td>\n",
       "      <td>Male</td>\n",
       "      <td>30.00</td>\n",
       "      <td>0</td>\n",
       "      <td>0</td>\n",
       "      <td>True</td>\n",
       "      <td>Private</td>\n",
       "      <td>Urban</td>\n",
       "      <td>96.84</td>\n",
       "      <td>21.1</td>\n",
       "      <td>Unknown</td>\n",
       "      <td>0</td>\n",
       "      <td>0</td>\n",
       "    </tr>\n",
       "    <tr>\n",
       "      <th>2</th>\n",
       "      <td>42709</td>\n",
       "      <td>Male</td>\n",
       "      <td>1.72</td>\n",
       "      <td>0</td>\n",
       "      <td>0</td>\n",
       "      <td>False</td>\n",
       "      <td>children</td>\n",
       "      <td>Urban</td>\n",
       "      <td>77.28</td>\n",
       "      <td>17.1</td>\n",
       "      <td>Unknown</td>\n",
       "      <td>0</td>\n",
       "      <td>0</td>\n",
       "    </tr>\n",
       "    <tr>\n",
       "      <th>3</th>\n",
       "      <td>58359</td>\n",
       "      <td>Female</td>\n",
       "      <td>71.00</td>\n",
       "      <td>1</td>\n",
       "      <td>0</td>\n",
       "      <td>True</td>\n",
       "      <td>Private</td>\n",
       "      <td>Urban</td>\n",
       "      <td>129.97</td>\n",
       "      <td>44.2</td>\n",
       "      <td>smokes</td>\n",
       "      <td>0</td>\n",
       "      <td>0</td>\n",
       "    </tr>\n",
       "    <tr>\n",
       "      <th>4</th>\n",
       "      <td>9046</td>\n",
       "      <td>Male</td>\n",
       "      <td>67.00</td>\n",
       "      <td>0</td>\n",
       "      <td>1</td>\n",
       "      <td>True</td>\n",
       "      <td>Private</td>\n",
       "      <td>Urban</td>\n",
       "      <td>228.69</td>\n",
       "      <td>36.6</td>\n",
       "      <td>formerly smoked</td>\n",
       "      <td>1</td>\n",
       "      <td>0</td>\n",
       "    </tr>\n",
       "  </tbody>\n",
       "</table>\n",
       "</div>"
      ],
      "text/plain": [
       "      id  gender    age  hypertension  heart_disease  ever_married work_type  \\\n",
       "0  72784  Female  52.00             0              0          True   Private   \n",
       "1   5121    Male  30.00             0              0          True   Private   \n",
       "2  42709    Male   1.72             0              0         False  children   \n",
       "3  58359  Female  71.00             1              0          True   Private   \n",
       "4   9046    Male  67.00             0              1          True   Private   \n",
       "\n",
       "  Residence_type  avg_glucose_level   bmi   smoking_status  stroke  doctor  \n",
       "0          Rural             118.46  61.6           smokes       0       0  \n",
       "1          Urban              96.84  21.1          Unknown       0       0  \n",
       "2          Urban              77.28  17.1          Unknown       0       0  \n",
       "3          Urban             129.97  44.2           smokes       0       0  \n",
       "4          Urban             228.69  36.6  formerly smoked       1       0  "
      ]
     },
     "execution_count": 8,
     "metadata": {},
     "output_type": "execute_result"
    }
   ],
   "source": [
    "train.head()"
   ]
  },
  {
   "cell_type": "code",
   "execution_count": 9,
   "id": "4b256526",
   "metadata": {
    "execution": {
     "iopub.execute_input": "2022-04-20T17:39:32.025372Z",
     "iopub.status.busy": "2022-04-20T17:39:32.024727Z",
     "iopub.status.idle": "2022-04-20T17:39:32.032511Z",
     "shell.execute_reply": "2022-04-20T17:39:32.033163Z",
     "shell.execute_reply.started": "2022-04-20T17:37:12.775627Z"
    },
    "papermill": {
     "duration": 0.039164,
     "end_time": "2022-04-20T17:39:32.033335",
     "exception": false,
     "start_time": "2022-04-20T17:39:31.994171",
     "status": "completed"
    },
    "tags": []
   },
   "outputs": [],
   "source": [
    "def get_X_y(train):\n",
    "    FEATURES = [\n",
    "        \"gender\",\n",
    "        \"age\",\n",
    "        \"hypertension\",\n",
    "        \"heart_disease\",\n",
    "        \"ever_married\",\n",
    "        \"work_type\",\n",
    "        \"Residence_type\",\n",
    "        \"avg_glucose_level\",\n",
    "        \"bmi\",\n",
    "        \"smoking_status\",\n",
    "    ]\n",
    "\n",
    "    GROUPS = \"doctor\"\n",
    "\n",
    "    TARGET = \"stroke\"\n",
    "\n",
    "    X = train[FEATURES]\n",
    "    y = train[TARGET]\n",
    "    groups = train[GROUPS]\n",
    "    return X, y, groups"
   ]
  },
  {
   "cell_type": "markdown",
   "id": "98529d2a",
   "metadata": {},
   "source": [
    "Train and evaluate the model on the `train` set."
   ]
  },
  {
   "cell_type": "code",
   "execution_count": 10,
   "id": "c8c41fd6",
   "metadata": {
    "execution": {
     "iopub.execute_input": "2022-04-20T17:39:32.097743Z",
     "iopub.status.busy": "2022-04-20T17:39:32.096772Z",
     "iopub.status.idle": "2022-04-20T17:39:32.648951Z",
     "shell.execute_reply": "2022-04-20T17:39:32.649892Z",
     "shell.execute_reply.started": "2022-04-20T17:37:13.583514Z"
    },
    "papermill": {
     "duration": 0.589374,
     "end_time": "2022-04-20T17:39:32.650100",
     "exception": false,
     "start_time": "2022-04-20T17:39:32.060726",
     "status": "completed"
    },
    "tags": []
   },
   "outputs": [
    {
     "name": "stdout",
     "output_type": "stream",
     "text": [
      "The score on the training set is accuracy: 0.9911 and AUC of 0.9997\n"
     ]
    }
   ],
   "source": [
    "X, y, groups = get_X_y(train)\n",
    "clf = lgb.LGBMClassifier(n_estimators=100)\n",
    "clf.fit(X, y)\n",
    "# Predict on training set\n",
    "pred = clf.predict(X)\n",
    "pred_prob = clf.predict_proba(X)[:, 1]\n",
    "\n",
    "acc_score = accuracy_score(y, pred)\n",
    "auc_score = roc_auc_score(y, pred_prob)\n",
    "\n",
    "print(f'The score on the training set is accuracy: {acc_score:0.4f} and AUC of {auc_score:0.4f}')"
   ]
  },
  {
   "cell_type": "markdown",
   "id": "7985159c",
   "metadata": {
    "papermill": {
     "duration": 0.027202,
     "end_time": "2022-04-20T17:39:32.707369",
     "exception": false,
     "start_time": "2022-04-20T17:39:32.680167",
     "status": "completed"
    },
    "tags": []
   },
   "source": [
    "# Model can predict with 99% accuracy!!!\n",
    "- NOPE!"
   ]
  },
  {
   "cell_type": "markdown",
   "id": "18c5794e",
   "metadata": {
    "papermill": {
     "duration": 0.028496,
     "end_time": "2022-04-20T17:39:32.763468",
     "exception": false,
     "start_time": "2022-04-20T17:39:32.734972",
     "status": "completed"
    },
    "tags": []
   },
   "source": [
    "# Check on a holdout set"
   ]
  },
  {
   "cell_type": "code",
   "execution_count": 11,
   "id": "f971ac71",
   "metadata": {
    "execution": {
     "iopub.execute_input": "2022-04-20T17:39:32.822369Z",
     "iopub.status.busy": "2022-04-20T17:39:32.821752Z",
     "iopub.status.idle": "2022-04-20T17:39:32.854732Z",
     "shell.execute_reply": "2022-04-20T17:39:32.855400Z",
     "shell.execute_reply.started": "2022-04-20T17:37:17.688987Z"
    },
    "papermill": {
     "duration": 0.064572,
     "end_time": "2022-04-20T17:39:32.855611",
     "exception": false,
     "start_time": "2022-04-20T17:39:32.791039",
     "status": "completed"
    },
    "tags": []
   },
   "outputs": [
    {
     "name": "stdout",
     "output_type": "stream",
     "text": [
      "Our accuracy on the holdout set is 0.9380 and AUC is 0.7802\n"
     ]
    }
   ],
   "source": [
    "X_holdout, y_holdout, groups_holdout = get_X_y(holdout)\n",
    "\n",
    "pred = clf.predict(X_holdout)\n",
    "pred_prob = clf.predict_proba(X_holdout)[:, 1]\n",
    "acc_score = accuracy_score(y_holdout, pred)\n",
    "auc_score = roc_auc_score(y_holdout, pred_prob)\n",
    "print(\n",
    "    f\"Our accuracy on the holdout set is {acc_score:0.4f} and AUC is {auc_score:0.4f}\"\n",
    ")"
   ]
  },
  {
   "cell_type": "markdown",
   "id": "aa5f359c",
   "metadata": {
    "papermill": {
     "duration": 0.027851,
     "end_time": "2022-04-20T17:39:32.914714",
     "exception": false,
     "start_time": "2022-04-20T17:39:32.886863",
     "status": "completed"
    },
    "tags": []
   },
   "source": [
    "## Baseline\n",
    "\n",
    "Predicting all zeros: let's say we make a model which predicts always zero regardless the input. How will this model perform? \n",
    "\n",
    "This is called a baseline model. Its main function is to contextualize the results of trained models. Baseline models usually lack complexity and may have little predictive power. Our trained model should always be better than our baseline."
   ]
  },
  {
   "cell_type": "code",
   "execution_count": 12,
   "id": "685ada83",
   "metadata": {
    "execution": {
     "iopub.execute_input": "2022-04-20T17:39:32.975840Z",
     "iopub.status.busy": "2022-04-20T17:39:32.974856Z",
     "iopub.status.idle": "2022-04-20T17:39:32.983471Z",
     "shell.execute_reply": "2022-04-20T17:39:32.984264Z",
     "shell.execute_reply.started": "2022-04-20T17:37:18.802138Z"
    },
    "papermill": {
     "duration": 0.041577,
     "end_time": "2022-04-20T17:39:32.984533",
     "exception": false,
     "start_time": "2022-04-20T17:39:32.942956",
     "status": "completed"
    },
    "tags": []
   },
   "outputs": [
    {
     "name": "stdout",
     "output_type": "stream",
     "text": [
      "Our baseline on the holdout set is 0.9480 and AUC is 0.5000\n"
     ]
    }
   ],
   "source": [
    "acc_score = accuracy_score(y_holdout, np.zeros_like(y_holdout))\n",
    "auc_score = roc_auc_score(y_holdout, np.zeros_like(y_holdout))\n",
    "print(\n",
    "    f\"Our baseline on the holdout set is {acc_score:0.4f} and AUC is {auc_score:0.4f}\"\n",
    ")"
   ]
  },
  {
   "cell_type": "markdown",
   "id": "e290ca49",
   "metadata": {
    "execution": {
     "iopub.execute_input": "2022-04-10T21:23:21.823054Z",
     "iopub.status.busy": "2022-04-10T21:23:21.822593Z",
     "iopub.status.idle": "2022-04-10T21:23:21.835587Z",
     "shell.execute_reply": "2022-04-10T21:23:21.83389Z",
     "shell.execute_reply.started": "2022-04-10T21:23:21.823015Z"
    },
    "papermill": {
     "duration": 0.029158,
     "end_time": "2022-04-20T17:39:33.043345",
     "exception": false,
     "start_time": "2022-04-20T17:39:33.014187",
     "status": "completed"
    },
    "tags": []
   },
   "source": [
    "# Train/Test Split\n",
    "\n",
    "\n",
    "![traintest](https://www.researchgate.net/profile/Brian-Mwandau/publication/325870973/figure/fig6/AS:639531594285060@1529487622235/Train-Test-Data-Split.png)\n",
    "\n",
    "Split the training data into a training and validation set. Train the model on the training set, and validate it on the validation set.\n",
    "- The most basic way of splitting data.\n",
    "- shuffle - Good idea to use to make sure the order isn't impacting your split.\n",
    "- stratified (even distribution of positive samples in each set). Consider using if you have a small or unbalanced dataset."
   ]
  },
  {
   "cell_type": "code",
   "execution_count": 13,
   "id": "3db71fa3",
   "metadata": {
    "execution": {
     "iopub.execute_input": "2022-04-20T17:39:33.104021Z",
     "iopub.status.busy": "2022-04-20T17:39:33.103312Z",
     "iopub.status.idle": "2022-04-20T17:39:33.199734Z",
     "shell.execute_reply": "2022-04-20T17:39:33.200676Z",
     "shell.execute_reply.started": "2022-04-20T17:37:20.171087Z"
    },
    "papermill": {
     "duration": 0.128875,
     "end_time": "2022-04-20T17:39:33.200953",
     "exception": false,
     "start_time": "2022-04-20T17:39:33.072078",
     "status": "completed"
    },
    "tags": []
   },
   "outputs": [
    {
     "name": "stdout",
     "output_type": "stream",
     "text": [
      "Our accuracy on the validation set is 0.9436 and AUC is 0.8653\n"
     ]
    }
   ],
   "source": [
    "X, y, groups = get_X_y(train)\n",
    "\n",
    "X_tr, X_val, y_tr, y_val = train_test_split(X, y, test_size=0.1)\n",
    "clf = lgb.LGBMClassifier(n_estimators=100, max_depth=3)\n",
    "clf.fit(X_tr, y_tr)\n",
    "pred = clf.predict(X_val)\n",
    "pred_prob = clf.predict_proba(X_val)[:, 1]\n",
    "acc_score = accuracy_score(y_val, pred)\n",
    "auc_score = roc_auc_score(y_val, pred_prob)\n",
    "print(\n",
    "    f\"Our accuracy on the validation set is {acc_score:0.4f} and AUC is {auc_score:0.4f}\"\n",
    ")"
   ]
  },
  {
   "cell_type": "markdown",
   "id": "37074103",
   "metadata": {
    "papermill": {
     "duration": 0.028619,
     "end_time": "2022-04-20T17:39:33.263323",
     "exception": false,
     "start_time": "2022-04-20T17:39:33.234704",
     "status": "completed"
    },
    "tags": []
   },
   "source": [
    "# Cross Validation!\n",
    "\n",
    "Visualizations adapted from [here](https://scikit-learn.org/stable/auto_examples/model_selection/plot_cv_indices.html#sphx-glr-auto-examples-model-selection-plot-cv-indices-py)"
   ]
  },
  {
   "cell_type": "code",
   "execution_count": 14,
   "id": "11d7a2d9",
   "metadata": {
    "execution": {
     "iopub.execute_input": "2022-04-20T17:39:33.331383Z",
     "iopub.status.busy": "2022-04-20T17:39:33.330365Z",
     "iopub.status.idle": "2022-04-20T17:39:33.350795Z",
     "shell.execute_reply": "2022-04-20T17:39:33.350107Z",
     "shell.execute_reply.started": "2022-04-20T17:37:21.451638Z"
    },
    "jupyter": {
     "source_hidden": true
    },
    "papermill": {
     "duration": 0.057921,
     "end_time": "2022-04-20T17:39:33.350951",
     "exception": false,
     "start_time": "2022-04-20T17:39:33.293030",
     "status": "completed"
    },
    "tags": []
   },
   "outputs": [],
   "source": [
    "from matplotlib.patches import Patch\n",
    "cmap_data = plt.cm.Paired\n",
    "cmap_cv = plt.cm.coolwarm\n",
    "\n",
    "def visualize_groups(classes, groups, name):\n",
    "    # Visualize dataset groups\n",
    "    fig, ax = plt.subplots()\n",
    "    ax.scatter(\n",
    "        range(len(groups)),\n",
    "        [0.5] * len(groups),\n",
    "        c=groups,\n",
    "        marker=\"_\",\n",
    "        lw=50,\n",
    "        cmap=cmap_data,\n",
    "    )\n",
    "    ax.scatter(\n",
    "        range(len(groups)),\n",
    "        [3.5] * len(groups),\n",
    "        c=classes,\n",
    "        marker=\"_\",\n",
    "        lw=50,\n",
    "        cmap=cmap_data,\n",
    "    )\n",
    "    ax.set(\n",
    "        ylim=[-1, 5],\n",
    "        yticks=[0.5, 3.5],\n",
    "        yticklabels=[\"Data\\ngroup\", \"Data\\nclass\"],\n",
    "        xlabel=\"Sample index\",\n",
    "    )\n",
    "\n",
    "\n",
    "def plot_cv_indices(cv, X, y, group, ax, n_splits, lw=25):\n",
    "    \"\"\"Create a sample plot for indices of a cross-validation object.\"\"\"\n",
    "\n",
    "    # Generate the training/testing visualizations for each CV split\n",
    "    for ii, (tr, tt) in enumerate(cv.split(X=X, y=y, groups=group)):\n",
    "        # Fill in indices with the training/test groups\n",
    "        indices = np.array([np.nan] * len(X))\n",
    "        indices[tt] = 1\n",
    "        indices[tr] = 0\n",
    "\n",
    "        # Visualize the results\n",
    "        ax.scatter(\n",
    "            range(len(indices)),\n",
    "            [ii + 0.5] * len(indices),\n",
    "            c=indices,\n",
    "            marker=\"_\",\n",
    "            lw=lw,\n",
    "            cmap=cmap_cv,\n",
    "            vmin=-0.2,\n",
    "            vmax=1.2,\n",
    "        )\n",
    "\n",
    "    # Plot the data classes and groups at the end\n",
    "    ax.scatter(\n",
    "        range(len(X)), [ii + 1.5] * len(X), c=y, marker=\"_\", lw=lw, cmap=cmap_data\n",
    "    )\n",
    "\n",
    "    ax.scatter(\n",
    "        range(len(X)), [ii + 2.5] * len(X), c=group, marker=\"_\", lw=lw, cmap=cmap_data\n",
    "    )\n",
    "\n",
    "    # Formatting\n",
    "    yticklabels = list(range(n_splits)) + [\"class\", \"group\"]\n",
    "    ax.set(\n",
    "        yticks=np.arange(n_splits + 2) + 0.5,\n",
    "        yticklabels=yticklabels,\n",
    "        xlabel=\"Sample index\",\n",
    "        ylabel=\"CV iteration\",\n",
    "        ylim=[n_splits + 2.2, -0.2],\n",
    "        xlim=[0, 100],\n",
    "    )\n",
    "    ax.set_title(\"{}\".format(type(cv).__name__), fontsize=15)\n",
    "    return ax\n",
    "\n",
    "\n",
    "def plot_cv(cv, X, y, groups, n_splits=5):\n",
    "    this_cv = cv(n_splits=n_splits)\n",
    "    fig, ax = plt.subplots(figsize=(15, 5))\n",
    "    plot_cv_indices(this_cv, X, y, groups, ax, n_splits)\n",
    "\n",
    "    ax.legend(\n",
    "        [Patch(color=cmap_cv(0.8)), Patch(color=cmap_cv(0.02))],\n",
    "        [\"Testing set\", \"Training set\"],\n",
    "        loc=(1.02, 0.8),\n",
    "    )\n",
    "    plt.tight_layout()\n",
    "    fig.subplots_adjust(right=0.7)\n",
    "    plt.show()\n",
    "    \n",
    "def get_fake_X_y():\n",
    "    # Fake Generate the class/group data for an example\n",
    "    n_points = 100\n",
    "    X_ = np.random.randn(100, 10)\n",
    "\n",
    "    percentiles_classes = [0.1, 0.9]\n",
    "    y_ = np.hstack([[ii] * int(100 * perc) for ii, perc in enumerate(percentiles_classes)])\n",
    "\n",
    "    # Evenly spaced groups repeated once\n",
    "    groups_ = np.hstack([[ii] * 10 for ii in range(10)])\n",
    "    return X_, y_, groups_"
   ]
  },
  {
   "cell_type": "markdown",
   "id": "3d4acaca",
   "metadata": {
    "papermill": {
     "duration": 0.02849,
     "end_time": "2022-04-20T17:39:33.409094",
     "exception": false,
     "start_time": "2022-04-20T17:39:33.380604",
     "status": "completed"
    },
    "tags": []
   },
   "source": [
    "# KFold\n",
    "- Split dataset into k consecutive folds (without shuffling by default)."
   ]
  },
  {
   "cell_type": "code",
   "execution_count": 16,
   "id": "a9611c0c",
   "metadata": {
    "execution": {
     "iopub.execute_input": "2022-04-20T17:39:33.477655Z",
     "iopub.status.busy": "2022-04-20T17:39:33.476670Z",
     "iopub.status.idle": "2022-04-20T17:39:33.774699Z",
     "shell.execute_reply": "2022-04-20T17:39:33.774014Z",
     "shell.execute_reply.started": "2022-04-20T17:37:22.454916Z"
    },
    "papermill": {
     "duration": 0.33651,
     "end_time": "2022-04-20T17:39:33.774841",
     "exception": false,
     "start_time": "2022-04-20T17:39:33.438331",
     "status": "completed"
    },
    "tags": []
   },
   "outputs": [
    {
     "data": {
      "image/png": "[encoded data removed]",
      "text/plain": [
       "<Figure size 1080x360 with 1 Axes>"
      ]
     },
     "metadata": {},
     "output_type": "display_data"
    }
   ],
   "source": [
    "kf = KFold()\n",
    "X_, y_, groups_ = get_fake_X_y()\n",
    "plot_cv(KFold, X_, y_, groups_)"
   ]
  },
  {
   "cell_type": "markdown",
   "id": "7637d70f",
   "metadata": {
    "papermill": {
     "duration": 0.02908,
     "end_time": "2022-04-20T17:39:33.833623",
     "exception": false,
     "start_time": "2022-04-20T17:39:33.804543",
     "status": "completed"
    },
    "tags": []
   },
   "source": [
    "# Stratified KFold\n",
    "- KFold but the folds are made by preserving the percentage of samples for each class."
   ]
  },
  {
   "cell_type": "code",
   "execution_count": 17,
   "id": "92f46bad",
   "metadata": {
    "execution": {
     "iopub.execute_input": "2022-04-20T17:39:33.916545Z",
     "iopub.status.busy": "2022-04-20T17:39:33.910118Z",
     "iopub.status.idle": "2022-04-20T17:39:34.156445Z",
     "shell.execute_reply": "2022-04-20T17:39:34.155797Z",
     "shell.execute_reply.started": "2022-04-20T17:37:23.468906Z"
    },
    "papermill": {
     "duration": 0.293461,
     "end_time": "2022-04-20T17:39:34.156617",
     "exception": false,
     "start_time": "2022-04-20T17:39:33.863156",
     "status": "completed"
    },
    "tags": []
   },
   "outputs": [
    {
     "data": {
      "image/png": "[encoded data removed]",
      "text/plain": [
       "<Figure size 1080x360 with 1 Axes>"
      ]
     },
     "metadata": {},
     "output_type": "display_data"
    }
   ],
   "source": [
    "skf = StratifiedKFold()\n",
    "X_, y_, groups_ = get_fake_X_y()\n",
    "plot_cv(StratifiedKFold, X_, y_, groups_)"
   ]
  },
  {
   "cell_type": "markdown",
   "id": "f979b55f",
   "metadata": {
    "papermill": {
     "duration": 0.030549,
     "end_time": "2022-04-20T17:39:34.220749",
     "exception": false,
     "start_time": "2022-04-20T17:39:34.190200",
     "status": "completed"
    },
    "tags": []
   },
   "source": [
    "# Group KFold\n",
    "\n",
    "The folds are approximately balanced in the sense that the number of distinct groups is approximately the same in each fold.\n",
    "\n",
    "Group K-fold is very similar to the other two cases we showed but that counts for if your data has some sort of grouping in which the data was gathered or the way samples are associated with each other. So in our case we have a doctor who may have its own biases in how the doctor collects the data that we're trying to model and we want to make sure that our model is robust enough to predict well on unseen data in a brand new doctor so by using group k-fold we can ensure that our model is validated on a different group than it is trained on and that there's no leakage or information about the doctor itself that the model is learning and showing our results to be more confident than it actually is.\n",
    "\n",
    "You might consider Group K-fold when you have data that might have information spread across different observations that could make your validation over confident and how well it's predicting in reality it's just able to predict those groups which isn't very helpful on future data where those groups might not exist."
   ]
  },
  {
   "cell_type": "code",
   "execution_count": 18,
   "id": "e88c8b72",
   "metadata": {
    "execution": {
     "iopub.execute_input": "2022-04-20T17:39:34.288447Z",
     "iopub.status.busy": "2022-04-20T17:39:34.287057Z",
     "iopub.status.idle": "2022-04-20T17:39:34.533921Z",
     "shell.execute_reply": "2022-04-20T17:39:34.534393Z",
     "shell.execute_reply.started": "2022-04-20T17:37:24.896378Z"
    },
    "papermill": {
     "duration": 0.283,
     "end_time": "2022-04-20T17:39:34.534624",
     "exception": false,
     "start_time": "2022-04-20T17:39:34.251624",
     "status": "completed"
    },
    "tags": []
   },
   "outputs": [
    {
     "data": {
      "image/png": "[encoded data removed]",
      "text/plain": [
       "<Figure size 1080x360 with 1 Axes>"
      ]
     },
     "metadata": {},
     "output_type": "display_data"
    }
   ],
   "source": [
    "gkf = GroupKFold()\n",
    "X_, y_, groups_ = get_fake_X_y()\n",
    "plot_cv(GroupKFold, X_, y_, groups_)"
   ]
  },
  {
   "cell_type": "markdown",
   "id": "c38c74d0",
   "metadata": {
    "papermill": {
     "duration": 0.031663,
     "end_time": "2022-04-20T17:39:34.598328",
     "exception": false,
     "start_time": "2022-04-20T17:39:34.566665",
     "status": "completed"
    },
    "tags": []
   },
   "source": [
    "# Stratified Group KFold\n",
    "\n",
    "In this example, for a better understanding, the positive target attribute is distributed among groups. You can image that in the last validation techniques for example there was a biased doctor whereas now the positive class is uniformly distributed among all doctors.\n",
    "\n",
    "The difference between `GroupKFold` and `StratifiedGroupKFold` is that the former attempts to create balanced folds such that the number of distinct groups is approximately the same in each fold, whereas `StratifiedGroupKFold` attempts to create folds which preserve the percentage of samples for each class as much as possible given the constraint of non-overlapping groups between splits."
   ]
  },
  {
   "cell_type": "code",
   "execution_count": 13,
   "id": "a5db4708",
   "metadata": {
    "execution": {
     "iopub.execute_input": "2022-04-20T17:39:34.684386Z",
     "iopub.status.busy": "2022-04-20T17:39:34.682508Z",
     "iopub.status.idle": "2022-04-20T17:39:34.942451Z",
     "shell.execute_reply": "2022-04-20T17:39:34.941798Z",
     "shell.execute_reply.started": "2022-04-20T17:37:25.802237Z"
    },
    "papermill": {
     "duration": 0.31234,
     "end_time": "2022-04-20T17:39:34.942647",
     "exception": false,
     "start_time": "2022-04-20T17:39:34.630307",
     "status": "completed"
    },
    "tags": []
   },
   "outputs": [
    {
     "data": {
      "image/png": "[encoded data removed]",
      "text/plain": [
       "<Figure size 1080x360 with 1 Axes>"
      ]
     },
     "metadata": {},
     "output_type": "display_data"
    }
   ],
   "source": [
    "gskf = StratifiedGroupKFold()\n",
    "X_, y_, groups_ = get_fake_X_y()\n",
    "np.random.shuffle(y_)\n",
    "plot_cv(StratifiedGroupKFold, X_, y_, groups_)"
   ]
  },
  {
   "cell_type": "markdown",
   "id": "0be45aa4",
   "metadata": {
    "papermill": {
     "duration": 0.032935,
     "end_time": "2022-04-20T17:39:35.008721",
     "exception": false,
     "start_time": "2022-04-20T17:39:34.975786",
     "status": "completed"
    },
    "tags": []
   },
   "source": [
    "# Time Series Split\n",
    "\n",
    "The last type of validation technique isn't really applicable to this dataset but it is very important if you're using any sort of time series data and that's called the time series split.\n",
    "\n",
    "In a time series split you want to make sure that none of the information about the future is fed into your model to give it observations about something it shouldn't have seen at that moment in time. It also is known as a sliding window approach where you grow the amount of training data that you're providing it in time and then testing on the amount of time right after the training period ends."
   ]
  },
  {
   "cell_type": "code",
   "execution_count": 20,
   "id": "ac68f639",
   "metadata": {
    "execution": {
     "iopub.execute_input": "2022-04-20T17:39:35.083032Z",
     "iopub.status.busy": "2022-04-20T17:39:35.080920Z",
     "iopub.status.idle": "2022-04-20T17:39:35.458758Z",
     "shell.execute_reply": "2022-04-20T17:39:35.458143Z",
     "shell.execute_reply.started": "2022-04-20T17:37:26.589916Z"
    },
    "papermill": {
     "duration": 0.416591,
     "end_time": "2022-04-20T17:39:35.458954",
     "exception": false,
     "start_time": "2022-04-20T17:39:35.042363",
     "status": "completed"
    },
    "tags": []
   },
   "outputs": [
    {
     "data": {
      "image/png": "[encoded data removed]",
      "text/plain": [
       "<Figure size 1080x360 with 1 Axes>"
      ]
     },
     "metadata": {},
     "output_type": "display_data"
    }
   ],
   "source": [
    "tss = TimeSeriesSplit()\n",
    "X_, y_, groups_ = get_fake_X_y()\n",
    "np.random.shuffle(y_)\n",
    "plot_cv(TimeSeriesSplit, X_, y_, groups_)"
   ]
  },
  {
   "cell_type": "markdown",
   "id": "31cbf562",
   "metadata": {
    "papermill": {
     "duration": 0.033881,
     "end_time": "2022-04-20T17:39:35.526822",
     "exception": false,
     "start_time": "2022-04-20T17:39:35.492941",
     "status": "completed"
    },
    "tags": []
   },
   "source": [
    "# Our Example Using Proper Cross Validation\n",
    "1. Small/imblanced -> Stratified\n",
    "2. Group\n",
    "3. Shuffle in on\n",
    "\n",
    "`StratifiedGroupKFold` is a good choice for this situation."
   ]
  },
  {
   "cell_type": "code",
   "execution_count": 21,
   "id": "986f21ae",
   "metadata": {
    "execution": {
     "iopub.execute_input": "2022-04-20T17:39:35.607128Z",
     "iopub.status.busy": "2022-04-20T17:39:35.606415Z",
     "iopub.status.idle": "2022-04-20T17:39:36.702480Z",
     "shell.execute_reply": "2022-04-20T17:39:36.703461Z",
     "shell.execute_reply.started": "2022-04-20T17:37:27.702907Z"
    },
    "papermill": {
     "duration": 1.142442,
     "end_time": "2022-04-20T17:39:36.703719",
     "exception": false,
     "start_time": "2022-04-20T17:39:35.561277",
     "status": "completed"
    },
    "tags": []
   },
   "outputs": [
    {
     "name": "stdout",
     "output_type": "stream",
     "text": [
      "======= Fold 0 ========\n",
      "Our accuracy on the validation set is 0.9451 and AUC is 0.8293\n",
      "======= Fold 1 ========\n",
      "Our accuracy on the validation set is 0.9397 and AUC is 0.8236\n",
      "======= Fold 2 ========\n",
      "Our accuracy on the validation set is 0.9377 and AUC is 0.8361\n",
      "======= Fold 3 ========\n",
      "Our accuracy on the validation set is 0.9413 and AUC is 0.7981\n",
      "======= Fold 4 ========\n",
      "Our accuracy on the validation set is 0.9657 and AUC is 0.8785\n",
      "Our out of fold AUC score is 0.8331\n"
     ]
    }
   ],
   "source": [
    "sgk = StratifiedGroupKFold(n_splits=5, shuffle=True, random_state=529)\n",
    "\n",
    "X, y, groups = get_X_y(train)\n",
    "\n",
    "fold = 0\n",
    "aucs = []\n",
    "for train_idx, val_idx in sgk.split(X, y, groups):\n",
    "    X_tr = X.loc[train_idx]\n",
    "    y_tr = y.loc[train_idx]\n",
    "    \n",
    "    X_val = X.loc[val_idx]\n",
    "    y_val = y.loc[val_idx]\n",
    "\n",
    "    # Fit Model on Train\n",
    "    clf = lgb.LGBMClassifier(n_estimators=100)\n",
    "    clf.fit(X_tr, y_tr)\n",
    "    pred = clf.predict(X_val)\n",
    "    pred_prob = clf.predict_proba(X_val)[:, 1]\n",
    "    acc_score = accuracy_score(y_val, pred)\n",
    "    auc_score = roc_auc_score(y_val, pred_prob)\n",
    "    print(f\"======= Fold {fold} ========\")\n",
    "    print(\n",
    "        f\"Our accuracy on the validation set is {acc_score:0.4f} and AUC is {auc_score:0.4f}\"\n",
    "    )\n",
    "    fold += 1\n",
    "    aucs.append(auc_score)\n",
    "oof_auc = np.mean(aucs)\n",
    "print(f'Our out of fold AUC score is {oof_auc:0.4f}')"
   ]
  },
  {
   "cell_type": "markdown",
   "id": "447c3ec2",
   "metadata": {
    "papermill": {
     "duration": 0.036732,
     "end_time": "2022-04-20T17:39:36.777552",
     "exception": false,
     "start_time": "2022-04-20T17:39:36.740820",
     "status": "completed"
    },
    "tags": []
   },
   "source": [
    "Our averaged out of fold score is a much better estimation of how our model will perform on unseen data."
   ]
  },
  {
   "cell_type": "markdown",
   "id": "4c8de753",
   "metadata": {
    "papermill": {
     "duration": 0.036394,
     "end_time": "2022-04-20T17:39:36.850033",
     "exception": false,
     "start_time": "2022-04-20T17:39:36.813639",
     "status": "completed"
    },
    "tags": []
   },
   "source": [
    "# Next Steps\n",
    "When using cross validation you will want to make sure:\n",
    "- Parameter tuning\n",
    "- Features\n",
    "- Post processing\n",
    "Is done within the cross validation loop. The above process should be done in a way that improves the overall cross validation score.\n",
    "\n",
    "Finally, when you have the best model that you are happy with, you can train a single model on all the data OR use an ensemble of models from each fold."
   ]
  }
 ],
 "metadata": {
  "kernelspec": {
   "display_name": "Python 3 (ipykernel)",
   "language": "python",
   "name": "python3"
  },
  "language_info": {
   "codemirror_mode": {
    "name": "ipython",
    "version": 3
   },
   "file_extension": ".py",
   "mimetype": "text/x-python",
   "name": "python",
   "nbconvert_exporter": "python",
   "pygments_lexer": "ipython3",
   "version": "3.9.7"
  },
  "papermill": {
   "default_parameters": {},
   "duration": 18.886418,
   "end_time": "2022-04-20T17:39:37.900533",
   "environment_variables": {},
   "exception": null,
   "input_path": "__notebook__.ipynb",
   "output_path": "__notebook__.ipynb",
   "parameters": {},
   "start_time": "2022-04-20T17:39:19.014115",
   "version": "2.3.3"
  }
 },
 "nbformat": 4,
 "nbformat_minor": 5
}
