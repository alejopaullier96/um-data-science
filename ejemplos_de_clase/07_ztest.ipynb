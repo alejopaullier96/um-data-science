{
 "cells": [
  {
   "cell_type": "markdown",
   "metadata": {},
   "source": [
    "### Importar librerias"
   ]
  },
  {
   "cell_type": "code",
   "execution_count": 28,
   "metadata": {},
   "outputs": [],
   "source": [
    "import numpy as np\n",
    "import pandas as pd\n",
    "\n",
    "from scipy.stats import norm"
   ]
  },
  {
   "cell_type": "markdown",
   "metadata": {},
   "source": [
    "### Cargar datos"
   ]
  },
  {
   "cell_type": "code",
   "execution_count": 39,
   "metadata": {},
   "outputs": [
    {
     "data": {
      "text/html": [
       "<div>\n",
       "<style scoped>\n",
       "    .dataframe tbody tr th:only-of-type {\n",
       "        vertical-align: middle;\n",
       "    }\n",
       "\n",
       "    .dataframe tbody tr th {\n",
       "        vertical-align: top;\n",
       "    }\n",
       "\n",
       "    .dataframe thead th {\n",
       "        text-align: right;\n",
       "    }\n",
       "</style>\n",
       "<table border=\"1\" class=\"dataframe\">\n",
       "  <thead>\n",
       "    <tr style=\"text-align: right;\">\n",
       "      <th></th>\n",
       "      <th>girls</th>\n",
       "      <th>boys</th>\n",
       "    </tr>\n",
       "  </thead>\n",
       "  <tbody>\n",
       "    <tr>\n",
       "      <th>0</th>\n",
       "      <td>650</td>\n",
       "      <td>630</td>\n",
       "    </tr>\n",
       "    <tr>\n",
       "      <th>1</th>\n",
       "      <td>730</td>\n",
       "      <td>720</td>\n",
       "    </tr>\n",
       "    <tr>\n",
       "      <th>2</th>\n",
       "      <td>510</td>\n",
       "      <td>462</td>\n",
       "    </tr>\n",
       "    <tr>\n",
       "      <th>3</th>\n",
       "      <td>670</td>\n",
       "      <td>631</td>\n",
       "    </tr>\n",
       "    <tr>\n",
       "      <th>4</th>\n",
       "      <td>480</td>\n",
       "      <td>440</td>\n",
       "    </tr>\n",
       "  </tbody>\n",
       "</table>\n",
       "</div>"
      ],
      "text/plain": [
       "   girls  boys\n",
       "0    650   630\n",
       "1    730   720\n",
       "2    510   462\n",
       "3    670   631\n",
       "4    480   440"
      ]
     },
     "execution_count": 39,
     "metadata": {},
     "output_type": "execute_result"
    }
   ],
   "source": [
    "data = [[650,730,510,670,480,800,690,530,590,620,710,670,640,780,650,490,800,600,510,700],\n",
    "        [630,720,462,631,440,783,673,519,543,579,677,649,632,768,615,463,781,563,488,650]]\n",
    "data = np.array(data).T\n",
    "df = pd.DataFrame(data, columns = [\"girls\", \"boys\"])\n",
    "df.head()"
   ]
  },
  {
   "cell_type": "markdown",
   "metadata": {},
   "source": [
    "### Calcular Z-score"
   ]
  },
  {
   "cell_type": "code",
   "execution_count": 40,
   "metadata": {},
   "outputs": [
    {
     "data": {
      "text/plain": [
       "0.5883679083533637"
      ]
     },
     "execution_count": 40,
     "metadata": {},
     "output_type": "execute_result"
    }
   ],
   "source": [
    "alpha = 0.05\n",
    "mu_diff = 10\n",
    "sigma_girls = 100 # population, not sample\n",
    "sigma_boys = 90 # population, not sample\n",
    "mean_girls = df.loc[:, \"girls\"].mean()\n",
    "mean_boys = df.loc[:, \"boys\"].mean()\n",
    "n_girls = df.shape[0]\n",
    "n_boys = df.shape[0]\n",
    "z_score = (np.abs(mean_girls-mean_boys) - mu_diff)/np.sqrt((sigma_girls**2/n_girls)+(sigma_boys**2/n_boys))\n",
    "z_score"
   ]
  },
  {
   "cell_type": "markdown",
   "metadata": {},
   "source": [
    "<h1 align=\"center\">Tabla</h1>\n",
    "\n",
    "</center><img src=\"http://www.z-table.com/uploads/2/1/7/9/21795380/9340559_orig.png\" width=800></center>\n",
    "\n",
    "La tabla en este caso particular, es la de la cola izquierda para una distribución con media 0. Por eso los valores negativos. La tabla de la cola derecha es igual solo que positiva.\n",
    "\n",
    "En la tabla el eje vertical contiene las primeras dos cifras decimales del `z-score`. El eje horizontal tenemos la tercer cifra decimal del `z-score`. Por ejemplo, para ver el `p-value` asociado al `z-score` = 0.588, primero vemos el eje vertical y vamos a `z-score`= 0.5. Luego, en el eje horizontal tenemos los valores 0.08 y 0.09. Hay que hacer una interpolación lineal entre estos dos valores para tener el valor asociado a 0.588. Para `z-score`= 0.58 tenemos que el `p-value` es 0.2810 y para `z-score`= 0.59 tenemos que el `p-value` es 0.2776. Entonces el valor para `z-score`= 0.588 es:\n",
    "\n",
    "$$ z-score = \\frac{(0.59-0.588)}{(0.59-0.58)}*0.2810 + \\frac{(0.588-0.58)}{(0.59-0.58)}*0.2776 = 0.27828  $$"
   ]
  },
  {
   "cell_type": "code",
   "execution_count": 29,
   "metadata": {},
   "outputs": [],
   "source": [
    "def twoSampZ(X1, X2, mudiff, sd1, sd2, n1, n2):\n",
    "    pooledSE = np.sqrt(sd1**2/n1 + sd2**2/n2)\n",
    "    z = ((X1 - X2) - mudiff)/pooledSE\n",
    "    pval = 2*(1 - norm.cdf(abs(z)))\n",
    "    return np.round(z, 3), np.round(pval, 4)"
   ]
  },
  {
   "cell_type": "code",
   "execution_count": 31,
   "metadata": {},
   "outputs": [
    {
     "data": {
      "text/plain": [
       "(0     0.332\n",
       " 1     0.000\n",
       " 2     1.263\n",
       " 3     0.964\n",
       " 4     0.997\n",
       " 5     0.233\n",
       " 6     0.233\n",
       " 7     0.033\n",
       " 8     1.230\n",
       " 9     1.030\n",
       " 10    0.765\n",
       " 11    0.366\n",
       " 12   -0.066\n",
       " 13    0.066\n",
       " 14    0.831\n",
       " 15    0.565\n",
       " 16    0.299\n",
       " 17    0.898\n",
       " 18    0.399\n",
       " 19    1.330\n",
       " dtype: float64,\n",
       " array([0.7396, 1.    , 0.2065, 0.335 , 0.3187, 0.816 , 0.816 , 0.9735,\n",
       "        0.2187, 0.3028, 0.4445, 0.7146, 0.947 , 0.947 , 0.406 , 0.572 ,\n",
       "        0.7648, 0.3694, 0.69  , 0.1836]))"
      ]
     },
     "execution_count": 31,
     "metadata": {},
     "output_type": "execute_result"
    }
   ],
   "source": [
    "z, p = twoSampZ(df.loc[:,\"girls\"], df.loc[:,\"boys\"], mu_diff, sigma_girls, sigma_boys, n_girls, n_boys)\n",
    "result = pd.DataFrame()"
   ]
  },
  {
   "cell_type": "code",
   "execution_count": null,
   "metadata": {},
   "outputs": [],
   "source": [
    "0.265695\n",
    "0.2998"
   ]
  }
 ],
 "metadata": {
  "kernelspec": {
   "display_name": "Python 3",
   "language": "python",
   "name": "python3"
  },
  "language_info": {
   "codemirror_mode": {
    "name": "ipython",
    "version": 3
   },
   "file_extension": ".py",
   "mimetype": "text/x-python",
   "name": "python",
   "nbconvert_exporter": "python",
   "pygments_lexer": "ipython3",
   "version": "3.7.4"
  }
 },
 "nbformat": 4,
 "nbformat_minor": 2
}
