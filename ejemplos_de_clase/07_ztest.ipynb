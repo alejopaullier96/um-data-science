{
 "cells": [
  {
   "cell_type": "markdown",
   "metadata": {},
   "source": [
    "# Z-test"
   ]
  },
  {
   "cell_type": "markdown",
   "metadata": {},
   "source": [
    "### Importar librerias"
   ]
  },
  {
   "cell_type": "code",
   "execution_count": 1,
   "metadata": {},
   "outputs": [],
   "source": [
    "import numpy as np\n",
    "import pandas as pd\n",
    "\n",
    "from scipy.stats import norm"
   ]
  },
  {
   "cell_type": "markdown",
   "metadata": {},
   "source": [
    "### Cargar datos"
   ]
  },
  {
   "cell_type": "code",
   "execution_count": 4,
   "metadata": {},
   "outputs": [
    {
     "data": {
      "text/html": [
       "<div>\n",
       "<style scoped>\n",
       "    .dataframe tbody tr th:only-of-type {\n",
       "        vertical-align: middle;\n",
       "    }\n",
       "\n",
       "    .dataframe tbody tr th {\n",
       "        vertical-align: top;\n",
       "    }\n",
       "\n",
       "    .dataframe thead th {\n",
       "        text-align: right;\n",
       "    }\n",
       "</style>\n",
       "<table border=\"1\" class=\"dataframe\">\n",
       "  <thead>\n",
       "    <tr style=\"text-align: right;\">\n",
       "      <th></th>\n",
       "      <th>girls</th>\n",
       "      <th>boys</th>\n",
       "    </tr>\n",
       "  </thead>\n",
       "  <tbody>\n",
       "    <tr>\n",
       "      <th>0</th>\n",
       "      <td>650</td>\n",
       "      <td>630</td>\n",
       "    </tr>\n",
       "    <tr>\n",
       "      <th>1</th>\n",
       "      <td>730</td>\n",
       "      <td>720</td>\n",
       "    </tr>\n",
       "    <tr>\n",
       "      <th>2</th>\n",
       "      <td>510</td>\n",
       "      <td>462</td>\n",
       "    </tr>\n",
       "    <tr>\n",
       "      <th>3</th>\n",
       "      <td>670</td>\n",
       "      <td>631</td>\n",
       "    </tr>\n",
       "    <tr>\n",
       "      <th>4</th>\n",
       "      <td>480</td>\n",
       "      <td>440</td>\n",
       "    </tr>\n",
       "  </tbody>\n",
       "</table>\n",
       "</div>"
      ],
      "text/plain": [
       "   girls  boys\n",
       "0    650   630\n",
       "1    730   720\n",
       "2    510   462\n",
       "3    670   631\n",
       "4    480   440"
      ]
     },
     "execution_count": 4,
     "metadata": {},
     "output_type": "execute_result"
    }
   ],
   "source": [
    "data = [[650,730,510,670,480,800,690,530,590,620,710,670,640,780,650,490,800,600,510,700],\n",
    "        [630,720,462,631,440,783,673,519,543,579,677,649,632,768,615,463,781,563,488,650]]\n",
    "data = np.array(data).T\n",
    "df = pd.DataFrame(data, columns = [\"girls\", \"boys\"])\n",
    "df.head()"
   ]
  },
  {
   "cell_type": "markdown",
   "metadata": {},
   "source": [
    "### Calcular Z-score\n",
    "\n",
    "Recordemos la fórmula del Z-score:\n",
    "$$Z-score = \\frac{(\\bar{x}_{1} - \\bar{x}_{2}) - (\\mu_{1} - \\mu_{2})}{\\sqrt{ \\left( \\frac{\\sigma^{2}_{1}}{n_{1}} - \\frac{\\sigma^{2}_{2}}{n_{2}} \\right) }}$$\n",
    "\n",
    "**NOTA:** únicamente con el fin de realizar el mismo ejemplo visto en clase tomaremos la desviación estándar de los niños como 90 aunque de hecho sea 105. "
   ]
  },
  {
   "cell_type": "code",
   "execution_count": 6,
   "metadata": {},
   "outputs": [
    {
     "data": {
      "text/plain": [
       "0.588043112353811"
      ]
     },
     "execution_count": 6,
     "metadata": {},
     "output_type": "execute_result"
    }
   ],
   "source": [
    "alpha = 0.05\n",
    "mu_diff = 10\n",
    "sigma_girls = df.loc[:,\"girls\"].std() \n",
    "sigma_boys = 90 #df.loc[:,\"boys\"].std()\n",
    "mean_girls = df.loc[:, \"girls\"].mean()\n",
    "mean_boys = df.loc[:, \"boys\"].mean()\n",
    "n_girls = df.shape[0]\n",
    "n_boys = df.shape[0]\n",
    "z_score = (np.abs(mean_girls-mean_boys) - mu_diff)/np.sqrt((sigma_girls**2/n_girls)+(sigma_boys**2/n_boys))\n",
    "z_score"
   ]
  },
  {
   "cell_type": "markdown",
   "metadata": {},
   "source": [
    "<h1 align=\"center\">Tabla</h1>\n",
    "\n",
    "</center><img src=\"http://www.z-table.com/uploads/2/1/7/9/21795380/9340559_orig.png\" width=800></center>\n",
    "\n",
    "La tabla en este caso particular, es la de la cola izquierda para una distribución con media 0. Por eso los valores negativos. La tabla de la cola derecha es igual solo que positiva.\n",
    "\n",
    "En la tabla el eje vertical contiene las primeras dos cifras decimales del `z-score`. El eje horizontal tenemos la tercer cifra decimal del `z-score`. Por ejemplo, para ver el `p-value` asociado al `z-score` = 0.588, primero vemos el eje vertical y vamos a `z-score`= 0.5. Luego, en el eje horizontal tenemos los valores 0.08 y 0.09. Hay que hacer una interpolación lineal entre estos dos valores para tener el valor asociado a 0.588. Para `z-score`= 0.58 tenemos que el `p-value` es 0.2810 y para `z-score`= 0.59 tenemos que el `p-value` es 0.2776. Entonces para obtener el valor para `z-score`= 0.588 podemos hacer una simple interpolación:\n",
    "\n",
    "$$ z-score = \\frac{(0.59-0.588)}{(0.59-0.58)}*0.2810 + \\frac{(0.588-0.58)}{(0.59-0.58)}*0.2776 = 0.27828  $$\n",
    "\n",
    "Programemos una función para calcular el `p-value` y el `z-score` de manera de no recurrir a tablas:"
   ]
  },
  {
   "cell_type": "code",
   "execution_count": 11,
   "metadata": {},
   "outputs": [],
   "source": [
    "def twoSampZ(X1, X2, mudiff, sd1, sd2, n1, n2):\n",
    "    pooledSE = np.sqrt(sd1**2/n1 + sd2**2/n2)\n",
    "    z = ((X1 - X2) - mudiff)/pooledSE\n",
    "    pval = (1 - norm.cdf(abs(z)))\n",
    "    return np.round(z, 3), np.round(pval, 4)"
   ]
  },
  {
   "cell_type": "code",
   "execution_count": 14,
   "metadata": {},
   "outputs": [
    {
     "data": {
      "text/plain": [
       "(0.588, 0.2781)"
      ]
     },
     "execution_count": 14,
     "metadata": {},
     "output_type": "execute_result"
    }
   ],
   "source": [
    "z, p = twoSampZ(df.loc[:,\"girls\"].mean(),\n",
    "                df.loc[:,\"boys\"].mean(),\n",
    "                mu_diff,\n",
    "                sigma_girls,\n",
    "                sigma_boys,\n",
    "                n_girls,\n",
    "                n_boys)\n",
    "\n",
    "z, p"
   ]
  }
 ],
 "metadata": {
  "kernelspec": {
   "display_name": "Python 3 (ipykernel)",
   "language": "python",
   "name": "python3"
  },
  "language_info": {
   "codemirror_mode": {
    "name": "ipython",
    "version": 3
   },
   "file_extension": ".py",
   "mimetype": "text/x-python",
   "name": "python",
   "nbconvert_exporter": "python",
   "pygments_lexer": "ipython3",
   "version": "3.12.2"
  }
 },
 "nbformat": 4,
 "nbformat_minor": 4
}
